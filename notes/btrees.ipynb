{
 "cells": [
  {
   "cell_type": "code",
   "execution_count": 60,
   "metadata": {},
   "outputs": [],
   "source": [
    "import os"
   ]
  },
  {
   "cell_type": "code",
   "execution_count": 1,
   "metadata": {},
   "outputs": [],
   "source": [
    "import typing\n",
    "from typing import List, Callable\n",
    "def strings_(n: int, d: int):\n",
    "    ''' generates non-equivalent strings of length n using exactly d letters\n",
    "    two strings on aphabet of the same size are equivalent if there is a bijection \n",
    "    between alphabets that makes strings equal\n",
    "    using alphabet 1,2,3...\n",
    "    \n",
    "    valid input n >= 0, d >= 0\n",
    "    This is combinatorial problem of paritioning a set into d classes; counted by Bell numbers\n",
    "    '''\n",
    "    if n < 0 or d < 0:\n",
    "        raise ValueError\n",
    "    if n == 0:\n",
    "        if d == 0:\n",
    "            yield []  # empty string\n",
    "        # else nothing \n",
    "    else:\n",
    "        if d > 0:\n",
    "            for prefix in strings_(n-1, d-1):\n",
    "                yield prefix + [d]   # append new letter to each element of the previous set\n",
    "            for prefix in strings_(n-1, d):\n",
    "                for letter in range(1, d+1):  # repeat one of existing letters\n",
    "                    yield prefix + [letter]\n",
    "        # else nothing\n",
    "\n",
    "def strings(n):\n",
    "    ''' generates all non-equivalent strings using d = 1...n different letters'''\n",
    "    for d in range(1, n+1):\n",
    "        yield from strings_(n, d)\n",
    "\n",
    "def btree(n: int, offset: int):\n",
    "    ''' generates binary trees with n leaves in postfix rep; \n",
    "    the counting is Catalan number C(n-1); number of correct \n",
    "    parenthesis expressions with n-1 open parenthesis; Dyck words; https://en.wikipedia.org/wiki/Dyck_language\n",
    "    There are 66 interpretatinos in Stanley book on combinatorics \n",
    "    https://en.wikipedia.org/wiki/Catalan_number\n",
    "\n",
    "    the arguments are denoted by their slot position (NOTICE: the semantics of 0 is different from postfix we used\n",
    "    in serlib parser where 0 denoted the n-arity of the arguments; however this is temporary difference\n",
    "    as we'll compose btree with slot substitutions)\n",
    "    offset denotes the offset of argument labelling\n",
    "    \n",
    "    the sentinel -2 denotes application of a binary operator on the postfix\n",
    "    \n",
    "    valid input n: int, n >= 1\n",
    "    '''\n",
    "    if n < 1: \n",
    "        raise ValueError\n",
    "    if n == 1:\n",
    "        yield [offset]\n",
    "    for k in range(1, n):\n",
    "        for left in btree(k, offset):\n",
    "            for right in btree(n-k, offset+k):\n",
    "                yield left + right + [-2]\n",
    "        \n",
    "\n",
    "        \n",
    "        \n",
    "def exprs_(n, d):\n",
    "    '''\n",
    "    generates binary expressions with n leaves on d letters \n",
    "    direct product of Catalan generator with Bell generator\n",
    "    '''\n",
    "    for stack in btree(n, 0):\n",
    "        for arg in strings_(n, d):\n",
    "            yield [x if x < 0 else arg[x] for x in stack]\n",
    "def exprs(n):\n",
    "    for d in range(0, n+1):\n",
    "        yield from exprs_(n, d)\n",
    "\n",
    "        \n",
    "def evaluate(e, op, arg: List[bool]):\n",
    "    '''\n",
    "    Boolean stack evaluator\n",
    "    e: is binary tree expression in stack form\n",
    "    arg: is the list of boolean values\n",
    "    op: (bool, bool) -> bool binary operator in the tree nodes\n",
    "    '''\n",
    "    stack = []\n",
    "    pos = 0\n",
    "    while pos < len(e):\n",
    "        c = e[pos]; pos += 1  # read element from expression postfix\n",
    "        if c > 0 and c <= len(arg): # normal argument, place on stack\n",
    "            stack.append(arg[c-1])\n",
    "        elif c == -2:    # binary operator\n",
    "            if len(stack) >= 2:\n",
    "                a = stack.pop()\n",
    "                b = stack.pop()\n",
    "                res = op(b, a)\n",
    "                stack.append(res)\n",
    "            else:\n",
    "                raise ValueError(\"bad postfix: not enough args for binary operator\")\n",
    "        else:\n",
    "            raise ValueError(\"bad postfix: unknown element code\")\n",
    "    if len(stack) == 1:\n",
    "        return stack.pop()\n",
    "    else:\n",
    "        raise ValueError(\"bad postfix, too many args for binary operators\")\n",
    "\n",
    "        \n",
    "def sexp_op(a, b):\n",
    "    #arrow = \"\\u2192\"\n",
    "    arrow = \"->\"\n",
    "    return f\"({a}{arrow}{b})\"\n",
    "\n",
    "def imply(a: bool, b: bool):\n",
    "    return (not a) or b\n",
    "\n",
    "def sexp(e): \n",
    "    return evaluate(e, sexp_op, [chr(ord('A')+i) for i in range(max(e))])\n",
    "\n",
    "def product(values, offset):\n",
    "    ''' generates from cartesian products of iterables passed as List\n",
    "    offset is for recursion efficiency, to avoid list constructions\n",
    "   \n",
    "    (if LinkedList implementation, use head :: tail in recursion) \n",
    "    '''\n",
    "    if offset > len(values):\n",
    "        raise ValueError\n",
    "\n",
    "    if (offset == len(values)):\n",
    "        yield []\n",
    "    else:\n",
    "        for x in values[offset]:\n",
    "            for rest in product(values, offset+1):\n",
    "                yield [x] + rest\n",
    "\n",
    "def valid(e):\n",
    "    ''' brute force proving theorem\n",
    "    in propositional calculus entails to check that expression evaluates to True for\n",
    "    all input arguments \n",
    "    '''\n",
    "    n_args = max(e)\n",
    "    return all(evaluate(e, imply, arg) for arg in product([[False,True] for _ in range(n_args)], 0))  \n",
    "\n",
    "\n",
    "\n",
    "def show_theorem_table(n):\n",
    "    for e in exprs(n):\n",
    "        print(sexp(e), valid(e))\n",
    "def valid_theorems(n):\n",
    "    ''' generates valid theorems by brute force on theorem expression and proof '''\n",
    "    for e in exprs(n):\n",
    "        if valid(e):\n",
    "            yield e"
   ]
  },
  {
   "cell_type": "code",
   "execution_count": 2,
   "metadata": {},
   "outputs": [
    {
     "data": {
      "text/plain": [
       "[1, 2, 5, 15, 52, 203, 877, 4140, 21147, 115975, 678570]"
      ]
     },
     "execution_count": 2,
     "metadata": {},
     "output_type": "execute_result"
    }
   ],
   "source": [
    "list(len(list(strings(n))) for n in range(1, 12))   # famous https://en.wikipedia.org/wiki/Bell_number "
   ]
  },
  {
   "cell_type": "code",
   "execution_count": 3,
   "metadata": {},
   "outputs": [
    {
     "data": {
      "text/plain": [
       "[[1, 1, 1], [1, 1, 2], [1, 2, 1], [1, 2, 2], [1, 2, 3]]"
      ]
     },
     "execution_count": 3,
     "metadata": {},
     "output_type": "execute_result"
    }
   ],
   "source": [
    "list(strings(3))"
   ]
  },
  {
   "cell_type": "code",
   "execution_count": 4,
   "metadata": {},
   "outputs": [
    {
     "data": {
      "text/plain": [
       "[1, 1, 2, 5, 14, 42, 132, 429, 1430, 4862, 16796]"
      ]
     },
     "execution_count": 4,
     "metadata": {},
     "output_type": "execute_result"
    }
   ],
   "source": [
    "list(len(list(btree(n, 0))) for n in range(1, 12))   # famous https://en.wikipedia.org/wiki/Catalan_number"
   ]
  },
  {
   "cell_type": "code",
   "execution_count": 5,
   "metadata": {},
   "outputs": [],
   "source": [
    "# Total numbero of theorems up to level n"
   ]
  },
  {
   "cell_type": "code",
   "execution_count": 6,
   "metadata": {},
   "outputs": [
    {
     "data": {
      "text/plain": [
       "[(0, 0),\n",
       " (1, 1),\n",
       " (2, 3),\n",
       " (3, 13),\n",
       " (4, 88),\n",
       " (5, 816),\n",
       " (6, 9342),\n",
       " (7, 125106),\n",
       " (8, 1901166),\n",
       " (9, 32141376),\n",
       " (10, 596011826),\n",
       " (11, 11993273546)]"
      ]
     },
     "execution_count": 6,
     "metadata": {},
     "output_type": "execute_result"
    }
   ],
   "source": [
    "\n",
    "from itertools import accumulate\n",
    "list(enumerate([0]+list(accumulate(list(i*j for i,j in zip([1, 2, 5, 15, 52, 203, 877,4140, 21147, 115975, 678570]\n",
    "                                        ,[1, 1, 2, 5, 14, 42, 132,429, 1430, 4862, 16796]))))))\n"
   ]
  },
  {
   "cell_type": "code",
   "execution_count": 7,
   "metadata": {},
   "outputs": [
    {
     "data": {
      "text/plain": [
       "[[0, 1, 2, 3, 4, -2, -2, -2, -2],\n",
       " [0, 1, 2, 3, -2, 4, -2, -2, -2],\n",
       " [0, 1, 2, -2, 3, 4, -2, -2, -2],\n",
       " [0, 1, 2, 3, -2, -2, 4, -2, -2],\n",
       " [0, 1, 2, -2, 3, -2, 4, -2, -2],\n",
       " [0, 1, -2, 2, 3, 4, -2, -2, -2],\n",
       " [0, 1, -2, 2, 3, -2, 4, -2, -2],\n",
       " [0, 1, 2, -2, -2, 3, 4, -2, -2],\n",
       " [0, 1, -2, 2, -2, 3, 4, -2, -2],\n",
       " [0, 1, 2, 3, -2, -2, -2, 4, -2],\n",
       " [0, 1, 2, -2, 3, -2, -2, 4, -2],\n",
       " [0, 1, -2, 2, 3, -2, -2, 4, -2],\n",
       " [0, 1, 2, -2, -2, 3, -2, 4, -2],\n",
       " [0, 1, -2, 2, -2, 3, -2, 4, -2]]"
      ]
     },
     "execution_count": 7,
     "metadata": {},
     "output_type": "execute_result"
    }
   ],
   "source": [
    "list(btree(5,0))"
   ]
  },
  {
   "cell_type": "code",
   "execution_count": 8,
   "metadata": {},
   "outputs": [
    {
     "data": {
      "text/plain": [
       "[[1, 2, 3, -2, -2], [1, 2, -2, 3, -2]]"
      ]
     },
     "execution_count": 8,
     "metadata": {},
     "output_type": "execute_result"
    }
   ],
   "source": [
    "list(exprs_(3,3)) "
   ]
  },
  {
   "cell_type": "code",
   "execution_count": 9,
   "metadata": {},
   "outputs": [
    {
     "data": {
      "text/plain": [
       "[[1, 1, 1, -2, -2],\n",
       " [1, 1, -2, 1, -2],\n",
       " [1, 1, 2, -2, -2],\n",
       " [1, 2, 1, -2, -2],\n",
       " [1, 2, 2, -2, -2],\n",
       " [1, 1, -2, 2, -2],\n",
       " [1, 2, -2, 1, -2],\n",
       " [1, 2, -2, 2, -2],\n",
       " [1, 2, 3, -2, -2],\n",
       " [1, 2, -2, 3, -2]]"
      ]
     },
     "execution_count": 9,
     "metadata": {},
     "output_type": "execute_result"
    }
   ],
   "source": [
    "list(exprs(3)) # (Catalan = 2)  x  (Bell = 5) = 10 conjectural theorems of length 3"
   ]
  },
  {
   "cell_type": "code",
   "execution_count": 10,
   "metadata": {},
   "outputs": [
    {
     "name": "stdout",
     "output_type": "stream",
     "text": [
      "(A->(A->B))\n",
      "(A->(B->A))\n",
      "(A->(B->B))\n",
      "((A->A)->B)\n",
      "((A->B)->A)\n",
      "((A->B)->B)\n"
     ]
    }
   ],
   "source": [
    "# S-expressions using the concatenation binary operator\n",
    "for e in exprs_(3, 2):\n",
    "    print(sexp(e))"
   ]
  },
  {
   "cell_type": "code",
   "execution_count": 11,
   "metadata": {},
   "outputs": [],
   "source": [
    "l6 = list(exprs(6))"
   ]
  },
  {
   "cell_type": "code",
   "execution_count": 12,
   "metadata": {},
   "outputs": [
    {
     "data": {
      "text/plain": [
       "'((A->((B->B)->(B->A)))->B)'"
      ]
     },
     "execution_count": 12,
     "metadata": {},
     "output_type": "execute_result"
    }
   ],
   "source": [
    "sexp(l6[1000])"
   ]
  },
  {
   "cell_type": "code",
   "execution_count": 13,
   "metadata": {},
   "outputs": [],
   "source": [
    "stat = []\n",
    "for n in range(1, 9):\n",
    "    stat.append( (n, len(list(exprs(n))),  len(list(valid_theorems(n)))))"
   ]
  },
  {
   "cell_type": "code",
   "execution_count": 14,
   "metadata": {},
   "outputs": [
    {
     "data": {
      "text/plain": [
       "[(1, 1, 0),\n",
       " (2, 2, 1),\n",
       " (3, 10, 3),\n",
       " (4, 75, 25),\n",
       " (5, 728, 206),\n",
       " (6, 8526, 2298),\n",
       " (7, 115764, 28504),\n",
       " (8, 1776060, 409543)]"
      ]
     },
     "execution_count": 14,
     "metadata": {},
     "output_type": "execute_result"
    }
   ],
   "source": [
    "stat"
   ]
  },
  {
   "cell_type": "code",
   "execution_count": 15,
   "metadata": {},
   "outputs": [
    {
     "data": {
      "text/plain": [
       "[1, 2, 10, 75, 728, 8526, 115764, 1776060]"
      ]
     },
     "execution_count": 15,
     "metadata": {},
     "output_type": "execute_result"
    }
   ],
   "source": [
    "[x[1] for x in stat]          # the number of all binary expressions of length n https://oeis.org/A289679\n",
    "# referred to paper https://arxiv.org/abs/1608.03912\n",
    "# seems that paper is reproducing this notebook up to n = 14 :)"
   ]
  },
  {
   "cell_type": "code",
   "execution_count": 16,
   "metadata": {},
   "outputs": [
    {
     "data": {
      "text/plain": [
       "[0, 1, 3, 25, 206, 2298, 28504, 409543]"
      ]
     },
     "execution_count": 16,
     "metadata": {},
     "output_type": "execute_result"
    }
   ],
   "source": [
    "[x[2] for x in stat]\n",
    "# https://arxiv.org/pdf/1910.01775.pdf\n",
    "# quoting the paper: all provable implicational intuitionistic propositional calculus\n",
    "# formulas = NEW: 0, 1, 3, 24, 201, 2201, 27406, 391379, 6215192"
   ]
  },
  {
   "cell_type": "markdown",
   "metadata": {},
   "source": [
    "google integer sequences gives Paul Tarau papers\n",
    "- https://arxiv.org/abs/1608.03912   \n",
    "\n",
    "- https://arxiv.org/pdf/1910.01775.pdf\n"
   ]
  },
  {
   "cell_type": "markdown",
   "metadata": {},
   "source": [
    "notice that with brute force search we have slightly more valid formulas: Does it mean that there exists valid formulas \n",
    "of classical logic (provable by substitution table / Tarski / denotation) that are not provable in intutionistic logic (Heyting / inference rules)? Or we have a mistake? \n",
    "- us: [0, 1, 3, 25, 206, 2298, 28504, 409543]    \n",
    "- PT: [0, 1, 3, 24, 201, 2201, 27406, 391379, 6215192] "
   ]
  },
  {
   "cell_type": "markdown",
   "metadata": {},
   "source": [
    "What is asymptotics of this sequence???\n"
   ]
  },
  {
   "cell_type": "markdown",
   "metadata": {},
   "source": [
    "No, the discrepancy is not a bug, but a feature! There are valid formulas in classical logic / denotation / Tarski which are not provable in intuionistic logic (Heyting / inference rules). The first example is indeed on 4 variables, Peirce's formula (has index 31 in our table of binary trees with 4 leaves on 2 variables:\n",
    "\n",
    " ((a->b)->a)->a\n",
    "\n"
   ]
  },
  {
   "cell_type": "code",
   "execution_count": 17,
   "metadata": {},
   "outputs": [],
   "source": [
    "peirce = list(exprs_(4, 2))[31]"
   ]
  },
  {
   "cell_type": "code",
   "execution_count": 18,
   "metadata": {},
   "outputs": [
    {
     "data": {
      "text/plain": [
       "('(((A->B)->A)->A)', True)"
      ]
     },
     "execution_count": 18,
     "metadata": {},
     "output_type": "execute_result"
    }
   ],
   "source": [
    "sexp(peirce), valid(peirce)"
   ]
  },
  {
   "cell_type": "markdown",
   "metadata": {},
   "source": [
    "https://en.wikipedia.org/wiki/Peirce%27s_law\n",
    "\n",
    "The Peirce's law can be used to substitute the law of excluded middle. If Peirce law is added as axiom to the minimal intutionistic propositional calculus, the theory becomes equivalent to the classical logic\n",
    "\n",
    "\n",
    "Also the discrepancy of Peirce law turns out to be fundamental in computation: \n",
    "https://en.wikipedia.org/wiki/Call-with-current-continuation"
   ]
  },
  {
   "cell_type": "markdown",
   "metadata": {},
   "source": [
    "# Export dataset"
   ]
  },
  {
   "cell_type": "code",
   "execution_count": 19,
   "metadata": {},
   "outputs": [],
   "source": [
    "import random\n",
    "import numpy as np"
   ]
  },
  {
   "cell_type": "code",
   "execution_count": 20,
   "metadata": {},
   "outputs": [],
   "source": [
    "def make_dataset(n: int):\n",
    "    valid_theorems = []\n",
    "    invalid_theorems = []\n",
    "    for e in exprs(n):\n",
    "        if valid(e):\n",
    "            valid_theorems.append(e)\n",
    "        elif max(e) < n:\n",
    "            invalid_theorems.append(e)\n",
    "    random.shuffle(valid_theorems)\n",
    "    random.shuffle(invalid_theorems)\n",
    "    return valid_theorems, invalid_theorems"
   ]
  },
  {
   "cell_type": "code",
   "execution_count": 21,
   "metadata": {},
   "outputs": [
    {
     "data": {
      "text/plain": [
       "(409543, 1366088)"
      ]
     },
     "execution_count": 21,
     "metadata": {},
     "output_type": "execute_result"
    }
   ],
   "source": [
    "dataset_true, dataset_false = map(np.array, make_dataset(8))\n",
    "len(dataset_true), len(dataset_false)"
   ]
  },
  {
   "cell_type": "code",
   "execution_count": 22,
   "metadata": {},
   "outputs": [],
   "source": [
    "np.random.shuffle(dataset_false)\n",
    "dataset_true.tofile('dataset_true.ndarray')\n",
    "dataset_false[:409543].tofile('dataset_false.ndarray')"
   ]
  },
  {
   "cell_type": "markdown",
   "metadata": {},
   "source": [
    "# Export dataset to database MongoDB as coq theorems\n",
    "\n",
    "To install MongoDB on Ubuntu 18.04 follow precisely the steps 1234 at https://docs.mongodb.com/manual/tutorial/install-mongodb-on-ubuntu/#import-the-public-key-used-by-the-package-management-system  \n",
    "Then execute steps 12345 to lauch MongoDB at https://docs.mongodb.com/manual/tutorial/install-mongodb-on-ubuntu/#run-mongodb-community-edition"
   ]
  },
  {
   "cell_type": "code",
   "execution_count": 26,
   "metadata": {},
   "outputs": [],
   "source": [
    "from typing import Union,  NewType, Any, Dict, List, Callable, Tuple\n",
    "import tqdm\n",
    "import concurrent.futures \n",
    "import pymongo\n",
    "from pymongo import MongoClient\n",
    "\n",
    "IntPostFix = List[int]\n",
    "\n",
    "DbKeys = Union[NewType('vars',str), \n",
    "               NewType('stmt',str), \n",
    "               NewType('proofs',str), \n",
    "               NewType('n_vars',str), \n",
    "               NewType('n_args',str),\n",
    "              NewType('lex_pos', str)]\n",
    "DbValues = Any\n",
    "\n",
    "def latin_single(x: int) -> str:\n",
    "    if x in range(26):\n",
    "        return chr(ord('A') + x)\n",
    "    else:\n",
    "        raise ValueError(\"the value of input for latin_single must be in range(26)\")\n",
    "\n",
    "def variables(e: IntPostFix, encoding_map: Callable[[int], str]):\n",
    "    return sorted(list(encoding_map(x-1) for x in set(e) if x > 0))\n",
    "\n",
    "\n",
    "def db_create_entry(e: IntPostFix, n_args: int, n_vars: int, lex_pos: int) -> Dict[DbKeys, DbValues]:\n",
    "    n_args = (len(e) + 1) // 2\n",
    "    thm_proofs = {}\n",
    "    entry = {'n_args':n_args,\n",
    "            'n_vars':n_vars,\n",
    "            'lex_pos':lex_pos,\n",
    "            'postfix': e,\n",
    "            'bool_denote': None}\n",
    "    return entry\n",
    "    \n",
    "def db_init(n_range: range, db: pymongo.collection.Collection):\n",
    "    ''' erases existing database with n_args in python range n_range\n",
    "        populates with exhaustive list of all formulas\n",
    "        in the implication segment of propositional calculus\n",
    "    '''\n",
    "    \n",
    "    for n_args in tqdm.tqdm(n_range):\n",
    "        db.delete_many({\"n_args\": n_args})\n",
    "        data = []\n",
    "        for n_vars in range(1, n_args+1):\n",
    "            for lex_pos, e in enumerate(exprs_(n_args,n_vars)):\n",
    "                data.append(db_create_entry(e, n_args, n_vars, lex_pos))\n",
    "        db.insert_many(data)\n",
    "    return db\n",
    "                \n",
    "\n",
    "def valid_helper(obj_id: int, e: IntPostFix) -> Tuple[int, bool]:\n",
    "    return (obj_id, valid(e))\n",
    "\n",
    "\n",
    "def db_update_all_proofs(db: pymongo.collection.Collection, proof_type: str, proof_func: Callable[[str],bool], max_workers=1):\n",
    "    data = []\n",
    "    with concurrent.futures.ProcessPoolExecutor(max_workers=max_workers) as executor:\n",
    "        futures = [executor.submit(valid_helper, entry['_id'], entry['postfix']) for entry in db.find()]\n",
    "        for future in tqdm.tqdm(concurrent.futures.as_completed(futures), \n",
    "                                total = len(futures), \n",
    "                               miniters=1):\n",
    "            obj_id, result = future.result()\n",
    "            data.append((obj_id, result))\n",
    "    \n",
    "    for obj_id, result in tqdm.tqdm(data, total=len(data), miniters=1):\n",
    "        db.update_one({\"_id\": obj_id}, \n",
    "                     {\n",
    "                         \"$set\": { \"bool_denote\": result}\n",
    "                     }\n",
    "                    )\n",
    "\n",
    "def test_proof_func(str):\n",
    "    return len(str) + 1000"
   ]
  },
  {
   "cell_type": "code",
   "execution_count": 27,
   "metadata": {},
   "outputs": [],
   "source": [
    "#db = db_init(range(1,8), MongoClient().formulas.propositional.implication)  \n",
    "#db_update_all_proofs(db, 'bool_denote', valid, max_workers=40)\n",
    "#db.create_index([('n_args', pymongo.ASCENDING)], unique=False)\n",
    "# MongoClient().close()\n",
    "\n",
    "# uncomment and evaluate the above lines to initialize and populate persistent MongoDB database when run notebook for the first time\n",
    "db = MongoClient().formulas.propositional.implication\n"
   ]
  },
  {
   "cell_type": "code",
   "execution_count": 29,
   "metadata": {},
   "outputs": [
    {
     "data": {
      "text/plain": [
       "115764"
      ]
     },
     "execution_count": 29,
     "metadata": {},
     "output_type": "execute_result"
    }
   ],
   "source": [
    "len(list(db.find({'n_args':7})))"
   ]
  },
  {
   "cell_type": "markdown",
   "metadata": {},
   "source": [
    "## Coq Evaluation"
   ]
  },
  {
   "cell_type": "code",
   "execution_count": 30,
   "metadata": {},
   "outputs": [],
   "source": [
    "from pycoq.agent import evaluate_agent, evaluate_agent_in_session\n",
    "from pycoq.agent import auto_agent as agent\n",
    "\n",
    "import pycoq.serapi\n",
    "\n",
    "from typing import List\n",
    "import asyncio\n",
    "\n",
    "import pymongo\n",
    "db =  pymongo.MongoClient().formulas.propositional.implication"
   ]
  },
  {
   "cell_type": "code",
   "execution_count": 31,
   "metadata": {},
   "outputs": [],
   "source": [
    "def coq_proposition(postfix, n_args, n_vars, lex_pos) -> str:\n",
    "    theorem_name = f\"th_{n_args}_{n_vars}_{lex_pos}\"\n",
    "    prop_formula = sexp(postfix)\n",
    "    prop_variables = \" \".join([chr(ord('A')+i) for i in range(n_vars)])\n",
    "    return f\"Theorem {theorem_name}: forall {prop_variables}: Prop, {prop_formula}.\""
   ]
  },
  {
   "cell_type": "markdown",
   "metadata": {},
   "source": [
    "# Test of evaluate_agent function\n",
    "\n",
    "- returns n >= 0 if the tactics auto n successfully removed all goals\n",
    "- returns -1 if tactics auto n for all n < auto_limit failed\n",
    "- returns -2 if the proposition to prove could not be parsed by coq engine\n",
    "\n",
    "** should see 'test passed' in all cells below\n"
   ]
  },
  {
   "cell_type": "code",
   "execution_count": 75,
   "metadata": {},
   "outputs": [],
   "source": [
    "coq_ctxt = pycoq.common.CoqContext(pwd=os.getcwd(), executable='', target='serapi_shell')\n",
    "cfg = pycoq.opam.opam_serapi_cfg(coq_ctxt)"
   ]
  },
  {
   "cell_type": "code",
   "execution_count": 76,
   "metadata": {},
   "outputs": [
    {
     "name": "stdout",
     "output_type": "stream",
     "text": [
      "process with 16498 started as\n",
      "cmd:  ['opam', 'exec', '--root', '/home/pestun/dataset100', '--switch', 'ocaml-variants.4.07.1+flambda_coq-serapi.8.11.0+0.11.1', '--', 'sertop', '--topfile', 'serapi_shell']\n",
      "cwd  /home/pestun/code/pycoq/notes\n",
      "-1\n",
      "test passed \n"
     ]
    }
   ],
   "source": [
    "\n",
    "pycoq.agent.DEBUG = False  # switch True/False to see the debub messages\n",
    "\n",
    "res = await evaluate_agent(cfg, agent,\n",
    "                     \"Theorem th_4_2_9: forall A B C D: Prop, A->(A->B)->(B->C)->(C->D)->D.\", \n",
    "                     agent_parameters={'auto_limit':3})\n",
    "print(res) \n",
    "print('test passed ' if res == -1 else 'failed')"
   ]
  },
  {
   "cell_type": "code",
   "execution_count": 69,
   "metadata": {},
   "outputs": [
    {
     "name": "stdout",
     "output_type": "stream",
     "text": [
      "process with 13557 started as\n",
      "cmd:  ['opam', 'exec', '--root', '/home/pestun/dataset100', '--switch', 'ocaml-variants.4.07.1+flambda_coq-serapi.8.11.0+0.11.1', '--', 'sertop', '--topfile', 'serapi_shell']\n",
      "cwd  /home/pestun/code/pycoq/notes\n",
      "4\n",
      "test passed \n"
     ]
    }
   ],
   "source": [
    "res = await evaluate_agent(cfg, agent,\n",
    "                     \"Theorem th_4_2_9: forall A B C D: Prop, A->(A->B)->(B->C)->(C->D)->D.\", \n",
    "                     agent_parameters={'auto_limit':10})\n",
    "\n",
    "print(res) \n",
    "print('test passed ' if res == 4 else 'failed')"
   ]
  },
  {
   "cell_type": "code",
   "execution_count": 70,
   "metadata": {},
   "outputs": [
    {
     "name": "stdout",
     "output_type": "stream",
     "text": [
      "process with 13565 started as\n",
      "cmd:  ['opam', 'exec', '--root', '/home/pestun/dataset100', '--switch', 'ocaml-variants.4.07.1+flambda_coq-serapi.8.11.0+0.11.1', '--', 'sertop', '--topfile', 'serapi_shell']\n",
      "cwd  /home/pestun/code/pycoq/notes\n",
      "-2\n",
      "test passed \n"
     ]
    }
   ],
   "source": [
    "res = await evaluate_agent(cfg, agent, \n",
    "                     \"Theorem th_4_2_9: forall A B C D: Prop, A->(A->B)->(B->C)->(C->D)->F.\", \n",
    "                     agent_parameters={'auto_limit':10})\n",
    "\n",
    "print(res) \n",
    "print('test passed ' if res == -2 else 'failed')"
   ]
  },
  {
   "cell_type": "code",
   "execution_count": 54,
   "metadata": {},
   "outputs": [
    {
     "name": "stdout",
     "output_type": "stream",
     "text": [
      "process with 12692 started as\n",
      "cmd:  ['opam', 'exec', '--root', '/home/pestun/dataset100', '--switch', 'ocaml-variants.4.07.1+flambda_coq-serapi.8.11.0+0.11.1', '--', 'sertop']\n",
      "cwd  /home/pestun/code/pycoq/notes\n",
      "-1\n",
      "test passed \n"
     ]
    }
   ],
   "source": [
    "res = await evaluate_agent(cfg, agent, \n",
    "                     \"Theorem th_4_2_9: forall A B C: Prop, A->(A->B->C)->B.\", \n",
    "                     agent_parameters={'auto_limit':3})\n",
    "\n",
    "print(res) \n",
    "print('test passed ' if res == -1 else 'failed')"
   ]
  },
  {
   "cell_type": "code",
   "execution_count": 55,
   "metadata": {},
   "outputs": [
    {
     "name": "stdout",
     "output_type": "stream",
     "text": [
      "process with 12695 started as\n",
      "cmd:  ['opam', 'exec', '--root', '/home/pestun/dataset100', '--switch', 'ocaml-variants.4.07.1+flambda_coq-serapi.8.11.0+0.11.1', '--', 'sertop']\n",
      "cwd  /home/pestun/code/pycoq/notes\n",
      "notice: 0 sids in coq_stmt: messed up input very bad239 235()*&*(^%(^PU afds ;Y a\\sf\\a\\sd\f",
      " asdf\\ )) should not crash but return -2\n",
      "-2\n",
      "test passed \n"
     ]
    }
   ],
   "source": [
    "res = await evaluate_agent(cfg, agent, \n",
    "                     \"messed up input very bad239 235()*&*(^%(^PU afds ;Y a\\sf\\\\a\\sd\\f asdf\\\\ )) should not crash but return -2\", \n",
    "                     agent_parameters={'auto_limit':10})\n",
    "\n",
    "print(res) \n",
    "print('test passed ' if res == -2 else 'failed')"
   ]
  },
  {
   "cell_type": "markdown",
   "metadata": {},
   "source": [
    "## Evaluate propositions of length 4 with 2 variables and discover Peirce law"
   ]
  },
  {
   "cell_type": "markdown",
   "metadata": {},
   "source": [
    "###  Init coq session for each proposition"
   ]
  },
  {
   "cell_type": "code",
   "execution_count": 73,
   "metadata": {},
   "outputs": [
    {
     "name": "stdout",
     "output_type": "stream",
     "text": [
      "process with 16208 started as\n",
      "cmd:  ['opam', 'exec', '--root', '/home/pestun/dataset100', '--switch', 'ocaml-variants.4.07.1+flambda_coq-serapi.8.11.0+0.11.1', '--', 'sertop', '--topfile', 'serapi_shell']\n",
      "cwd  /home/pestun/code/pycoq/notes\n",
      " Theorem th_4_2_0: forall A B: Prop, (A->(A->(A->B))). -1 False\n",
      "process with 16213 started as\n",
      "cmd:  ['opam', 'exec', '--root', '/home/pestun/dataset100', '--switch', 'ocaml-variants.4.07.1+flambda_coq-serapi.8.11.0+0.11.1', '--', 'sertop', '--topfile', 'serapi_shell']\n",
      "cwd  /home/pestun/code/pycoq/notes\n",
      " Theorem th_4_2_1: forall A B: Prop, (A->(A->(B->A))). 1 True\n",
      "process with 16221 started as\n",
      "cmd:  ['opam', 'exec', '--root', '/home/pestun/dataset100', '--switch', 'ocaml-variants.4.07.1+flambda_coq-serapi.8.11.0+0.11.1', '--', 'sertop', '--topfile', 'serapi_shell']\n",
      "cwd  /home/pestun/code/pycoq/notes\n",
      " Theorem th_4_2_2: forall A B: Prop, (A->(A->(B->B))). 1 True\n",
      "process with 16226 started as\n",
      "cmd:  ['opam', 'exec', '--root', '/home/pestun/dataset100', '--switch', 'ocaml-variants.4.07.1+flambda_coq-serapi.8.11.0+0.11.1', '--', 'sertop', '--topfile', 'serapi_shell']\n",
      "cwd  /home/pestun/code/pycoq/notes\n",
      " Theorem th_4_2_3: forall A B: Prop, (A->(B->(A->A))). 1 True\n",
      "process with 16231 started as\n",
      "cmd:  ['opam', 'exec', '--root', '/home/pestun/dataset100', '--switch', 'ocaml-variants.4.07.1+flambda_coq-serapi.8.11.0+0.11.1', '--', 'sertop', '--topfile', 'serapi_shell']\n",
      "cwd  /home/pestun/code/pycoq/notes\n",
      " Theorem th_4_2_4: forall A B: Prop, (A->(B->(A->B))). 1 True\n",
      "process with 16236 started as\n",
      "cmd:  ['opam', 'exec', '--root', '/home/pestun/dataset100', '--switch', 'ocaml-variants.4.07.1+flambda_coq-serapi.8.11.0+0.11.1', '--', 'sertop', '--topfile', 'serapi_shell']\n",
      "cwd  /home/pestun/code/pycoq/notes\n",
      " Theorem th_4_2_5: forall A B: Prop, (A->(B->(B->A))). 1 True\n",
      "process with 16244 started as\n",
      "cmd:  ['opam', 'exec', '--root', '/home/pestun/dataset100', '--switch', 'ocaml-variants.4.07.1+flambda_coq-serapi.8.11.0+0.11.1', '--', 'sertop', '--topfile', 'serapi_shell']\n",
      "cwd  /home/pestun/code/pycoq/notes\n",
      " Theorem th_4_2_6: forall A B: Prop, (A->(B->(B->B))). 1 True\n",
      "process with 16249 started as\n",
      "cmd:  ['opam', 'exec', '--root', '/home/pestun/dataset100', '--switch', 'ocaml-variants.4.07.1+flambda_coq-serapi.8.11.0+0.11.1', '--', 'sertop', '--topfile', 'serapi_shell']\n",
      "cwd  /home/pestun/code/pycoq/notes\n",
      " Theorem th_4_2_7: forall A B: Prop, (A->((A->A)->B)). -1 False\n",
      "process with 16254 started as\n",
      "cmd:  ['opam', 'exec', '--root', '/home/pestun/dataset100', '--switch', 'ocaml-variants.4.07.1+flambda_coq-serapi.8.11.0+0.11.1', '--', 'sertop', '--topfile', 'serapi_shell']\n",
      "cwd  /home/pestun/code/pycoq/notes\n",
      " Theorem th_4_2_8: forall A B: Prop, (A->((A->B)->A)). 1 True\n",
      "process with 16259 started as\n",
      "cmd:  ['opam', 'exec', '--root', '/home/pestun/dataset100', '--switch', 'ocaml-variants.4.07.1+flambda_coq-serapi.8.11.0+0.11.1', '--', 'sertop', '--topfile', 'serapi_shell']\n",
      "cwd  /home/pestun/code/pycoq/notes\n",
      " Theorem th_4_2_9: forall A B: Prop, (A->((A->B)->B)). 2 True\n",
      "process with 16267 started as\n",
      "cmd:  ['opam', 'exec', '--root', '/home/pestun/dataset100', '--switch', 'ocaml-variants.4.07.1+flambda_coq-serapi.8.11.0+0.11.1', '--', 'sertop', '--topfile', 'serapi_shell']\n",
      "cwd  /home/pestun/code/pycoq/notes\n",
      " Theorem th_4_2_10: forall A B: Prop, (A->((B->A)->A)). 1 True\n",
      "process with 16272 started as\n",
      "cmd:  ['opam', 'exec', '--root', '/home/pestun/dataset100', '--switch', 'ocaml-variants.4.07.1+flambda_coq-serapi.8.11.0+0.11.1', '--', 'sertop', '--topfile', 'serapi_shell']\n",
      "cwd  /home/pestun/code/pycoq/notes\n",
      " Theorem th_4_2_11: forall A B: Prop, (A->((B->A)->B)). -1 False\n",
      "process with 16277 started as\n",
      "cmd:  ['opam', 'exec', '--root', '/home/pestun/dataset100', '--switch', 'ocaml-variants.4.07.1+flambda_coq-serapi.8.11.0+0.11.1', '--', 'sertop', '--topfile', 'serapi_shell']\n",
      "cwd  /home/pestun/code/pycoq/notes\n",
      " Theorem th_4_2_12: forall A B: Prop, (A->((B->B)->A)). 1 True\n",
      "process with 16282 started as\n",
      "cmd:  ['opam', 'exec', '--root', '/home/pestun/dataset100', '--switch', 'ocaml-variants.4.07.1+flambda_coq-serapi.8.11.0+0.11.1', '--', 'sertop', '--topfile', 'serapi_shell']\n",
      "cwd  /home/pestun/code/pycoq/notes\n",
      " Theorem th_4_2_13: forall A B: Prop, (A->((B->B)->B)). -1 False\n",
      "process with 16290 started as\n",
      "cmd:  ['opam', 'exec', '--root', '/home/pestun/dataset100', '--switch', 'ocaml-variants.4.07.1+flambda_coq-serapi.8.11.0+0.11.1', '--', 'sertop', '--topfile', 'serapi_shell']\n",
      "cwd  /home/pestun/code/pycoq/notes\n",
      " Theorem th_4_2_14: forall A B: Prop, ((A->A)->(A->B)). -1 False\n",
      "process with 16295 started as\n",
      "cmd:  ['opam', 'exec', '--root', '/home/pestun/dataset100', '--switch', 'ocaml-variants.4.07.1+flambda_coq-serapi.8.11.0+0.11.1', '--', 'sertop', '--topfile', 'serapi_shell']\n",
      "cwd  /home/pestun/code/pycoq/notes\n",
      " Theorem th_4_2_15: forall A B: Prop, ((A->A)->(B->A)). -1 False\n",
      "process with 16300 started as\n",
      "cmd:  ['opam', 'exec', '--root', '/home/pestun/dataset100', '--switch', 'ocaml-variants.4.07.1+flambda_coq-serapi.8.11.0+0.11.1', '--', 'sertop', '--topfile', 'serapi_shell']\n",
      "cwd  /home/pestun/code/pycoq/notes\n",
      " Theorem th_4_2_16: forall A B: Prop, ((A->A)->(B->B)). 1 True\n",
      "process with 16305 started as\n",
      "cmd:  ['opam', 'exec', '--root', '/home/pestun/dataset100', '--switch', 'ocaml-variants.4.07.1+flambda_coq-serapi.8.11.0+0.11.1', '--', 'sertop', '--topfile', 'serapi_shell']\n",
      "cwd  /home/pestun/code/pycoq/notes\n",
      " Theorem th_4_2_17: forall A B: Prop, ((A->B)->(A->A)). 1 True\n",
      "process with 16310 started as\n",
      "cmd:  ['opam', 'exec', '--root', '/home/pestun/dataset100', '--switch', 'ocaml-variants.4.07.1+flambda_coq-serapi.8.11.0+0.11.1', '--', 'sertop', '--topfile', 'serapi_shell']\n",
      "cwd  /home/pestun/code/pycoq/notes\n",
      " Theorem th_4_2_18: forall A B: Prop, ((A->B)->(A->B)). 1 True\n",
      "process with 16318 started as\n",
      "cmd:  ['opam', 'exec', '--root', '/home/pestun/dataset100', '--switch', 'ocaml-variants.4.07.1+flambda_coq-serapi.8.11.0+0.11.1', '--', 'sertop', '--topfile', 'serapi_shell']\n",
      "cwd  /home/pestun/code/pycoq/notes\n",
      " Theorem th_4_2_19: forall A B: Prop, ((A->B)->(B->A)). -1 False\n",
      "process with 16323 started as\n",
      "cmd:  ['opam', 'exec', '--root', '/home/pestun/dataset100', '--switch', 'ocaml-variants.4.07.1+flambda_coq-serapi.8.11.0+0.11.1', '--', 'sertop', '--topfile', 'serapi_shell']\n",
      "cwd  /home/pestun/code/pycoq/notes\n",
      " Theorem th_4_2_20: forall A B: Prop, ((A->B)->(B->B)). 1 True\n",
      "process with 16328 started as\n",
      "cmd:  ['opam', 'exec', '--root', '/home/pestun/dataset100', '--switch', 'ocaml-variants.4.07.1+flambda_coq-serapi.8.11.0+0.11.1', '--', 'sertop', '--topfile', 'serapi_shell']\n",
      "cwd  /home/pestun/code/pycoq/notes\n",
      " Theorem th_4_2_21: forall A B: Prop, ((A->(A->A))->B). -1 False\n",
      "process with 16333 started as\n",
      "cmd:  ['opam', 'exec', '--root', '/home/pestun/dataset100', '--switch', 'ocaml-variants.4.07.1+flambda_coq-serapi.8.11.0+0.11.1', '--', 'sertop', '--topfile', 'serapi_shell']\n",
      "cwd  /home/pestun/code/pycoq/notes\n",
      " Theorem th_4_2_22: forall A B: Prop, ((A->(A->B))->A). -1 False\n",
      "process with 16341 started as\n",
      "cmd:  ['opam', 'exec', '--root', '/home/pestun/dataset100', '--switch', 'ocaml-variants.4.07.1+flambda_coq-serapi.8.11.0+0.11.1', '--', 'sertop', '--topfile', 'serapi_shell']\n",
      "cwd  /home/pestun/code/pycoq/notes\n",
      " Theorem th_4_2_23: forall A B: Prop, ((A->(A->B))->B). -1 False\n",
      "process with 16346 started as\n",
      "cmd:  ['opam', 'exec', '--root', '/home/pestun/dataset100', '--switch', 'ocaml-variants.4.07.1+flambda_coq-serapi.8.11.0+0.11.1', '--', 'sertop', '--topfile', 'serapi_shell']\n",
      "cwd  /home/pestun/code/pycoq/notes\n",
      " Theorem th_4_2_24: forall A B: Prop, ((A->(B->A))->A). -1 False\n",
      "process with 16351 started as\n",
      "cmd:  ['opam', 'exec', '--root', '/home/pestun/dataset100', '--switch', 'ocaml-variants.4.07.1+flambda_coq-serapi.8.11.0+0.11.1', '--', 'sertop', '--topfile', 'serapi_shell']\n",
      "cwd  /home/pestun/code/pycoq/notes\n",
      " Theorem th_4_2_25: forall A B: Prop, ((A->(B->A))->B). -1 False\n",
      "process with 16356 started as\n",
      "cmd:  ['opam', 'exec', '--root', '/home/pestun/dataset100', '--switch', 'ocaml-variants.4.07.1+flambda_coq-serapi.8.11.0+0.11.1', '--', 'sertop', '--topfile', 'serapi_shell']\n",
      "cwd  /home/pestun/code/pycoq/notes\n",
      " Theorem th_4_2_26: forall A B: Prop, ((A->(B->B))->A). -1 False\n",
      "process with 16364 started as\n",
      "cmd:  ['opam', 'exec', '--root', '/home/pestun/dataset100', '--switch', 'ocaml-variants.4.07.1+flambda_coq-serapi.8.11.0+0.11.1', '--', 'sertop', '--topfile', 'serapi_shell']\n",
      "cwd  /home/pestun/code/pycoq/notes\n",
      " Theorem th_4_2_27: forall A B: Prop, ((A->(B->B))->B). -1 False\n",
      "process with 16369 started as\n",
      "cmd:  ['opam', 'exec', '--root', '/home/pestun/dataset100', '--switch', 'ocaml-variants.4.07.1+flambda_coq-serapi.8.11.0+0.11.1', '--', 'sertop', '--topfile', 'serapi_shell']\n",
      "cwd  /home/pestun/code/pycoq/notes\n",
      " Theorem th_4_2_28: forall A B: Prop, (((A->A)->A)->B). -1 False\n",
      "process with 16374 started as\n",
      "cmd:  ['opam', 'exec', '--root', '/home/pestun/dataset100', '--switch', 'ocaml-variants.4.07.1+flambda_coq-serapi.8.11.0+0.11.1', '--', 'sertop', '--topfile', 'serapi_shell']\n",
      "cwd  /home/pestun/code/pycoq/notes\n",
      " Theorem th_4_2_29: forall A B: Prop, (((A->A)->B)->A). -1 False\n",
      "process with 16379 started as\n",
      "cmd:  ['opam', 'exec', '--root', '/home/pestun/dataset100', '--switch', 'ocaml-variants.4.07.1+flambda_coq-serapi.8.11.0+0.11.1', '--', 'sertop', '--topfile', 'serapi_shell']\n",
      "cwd  /home/pestun/code/pycoq/notes\n",
      " Theorem th_4_2_30: forall A B: Prop, (((A->A)->B)->B). 2 True\n",
      "process with 16387 started as\n",
      "cmd:  ['opam', 'exec', '--root', '/home/pestun/dataset100', '--switch', 'ocaml-variants.4.07.1+flambda_coq-serapi.8.11.0+0.11.1', '--', 'sertop', '--topfile', 'serapi_shell']\n",
      "cwd  /home/pestun/code/pycoq/notes\n",
      "* Theorem th_4_2_31: forall A B: Prop, (((A->B)->A)->A). -1 True\n",
      "process with 16392 started as\n",
      "cmd:  ['opam', 'exec', '--root', '/home/pestun/dataset100', '--switch', 'ocaml-variants.4.07.1+flambda_coq-serapi.8.11.0+0.11.1', '--', 'sertop', '--topfile', 'serapi_shell']\n",
      "cwd  /home/pestun/code/pycoq/notes\n",
      " Theorem th_4_2_32: forall A B: Prop, (((A->B)->A)->B). -1 False\n",
      "process with 16397 started as\n",
      "cmd:  ['opam', 'exec', '--root', '/home/pestun/dataset100', '--switch', 'ocaml-variants.4.07.1+flambda_coq-serapi.8.11.0+0.11.1', '--', 'sertop', '--topfile', 'serapi_shell']\n",
      "cwd  /home/pestun/code/pycoq/notes\n",
      " Theorem th_4_2_33: forall A B: Prop, (((A->B)->B)->A). -1 False\n",
      "process with 16402 started as\n",
      "cmd:  ['opam', 'exec', '--root', '/home/pestun/dataset100', '--switch', 'ocaml-variants.4.07.1+flambda_coq-serapi.8.11.0+0.11.1', '--', 'sertop', '--topfile', 'serapi_shell']\n",
      "cwd  /home/pestun/code/pycoq/notes\n",
      " Theorem th_4_2_34: forall A B: Prop, (((A->B)->B)->B). -1 False\n"
     ]
    }
   ],
   "source": [
    "# mark by * where bool_denote judgement of proposition does not agree with type inhabitation judgement \n",
    "n_args = 4\n",
    "n_vars = 2\n",
    "for e in db.find({'n_args':n_args, 'n_vars':n_vars}):\n",
    "    th = coq_proposition(e['postfix'], n_args, n_vars, e['lex_pos'])\n",
    "    res = await evaluate_agent(cfg, agent, th, agent_parameters = {'auto_limit': 10})\n",
    "    print( '*' if e['bool_denote'] != (res > 0) else '', th, res, e['bool_denote'])"
   ]
  },
  {
   "cell_type": "markdown",
   "metadata": {},
   "source": [
    "### Evaluate batch propositions by an agent in a single coq session (single core)"
   ]
  },
  {
   "cell_type": "code",
   "execution_count": 77,
   "metadata": {},
   "outputs": [
    {
     "name": "stderr",
     "output_type": "stream",
     "text": [
      "0it [00:00, ?it/s]"
     ]
    },
    {
     "name": "stdout",
     "output_type": "stream",
     "text": [
      "process with 16512 started as\n",
      "cmd:  ['opam', 'exec', '--root', '/home/pestun/dataset100', '--switch', 'ocaml-variants.4.07.1+flambda_coq-serapi.8.11.0+0.11.1', '--', 'sertop', '--topfile', 'serapi_shell']\n",
      "cwd  /home/pestun/code/pycoq/notes\n"
     ]
    },
    {
     "name": "stderr",
     "output_type": "stream",
     "text": [
      "35it [00:00, 78.53it/s]"
     ]
    },
    {
     "name": "stdout",
     "output_type": "stream",
     "text": [
      " Theorem th_4_2_0: forall A B: Prop, (A->(A->(A->B))). -1 False\n",
      " Theorem th_4_2_1: forall A B: Prop, (A->(A->(B->A))). 1 True\n",
      " Theorem th_4_2_2: forall A B: Prop, (A->(A->(B->B))). 1 True\n",
      " Theorem th_4_2_3: forall A B: Prop, (A->(B->(A->A))). 1 True\n",
      " Theorem th_4_2_4: forall A B: Prop, (A->(B->(A->B))). 1 True\n",
      " Theorem th_4_2_5: forall A B: Prop, (A->(B->(B->A))). 1 True\n",
      " Theorem th_4_2_6: forall A B: Prop, (A->(B->(B->B))). 1 True\n",
      " Theorem th_4_2_7: forall A B: Prop, (A->((A->A)->B)). -1 False\n",
      " Theorem th_4_2_8: forall A B: Prop, (A->((A->B)->A)). 1 True\n",
      " Theorem th_4_2_9: forall A B: Prop, (A->((A->B)->B)). 2 True\n",
      " Theorem th_4_2_10: forall A B: Prop, (A->((B->A)->A)). 1 True\n",
      " Theorem th_4_2_11: forall A B: Prop, (A->((B->A)->B)). -1 False\n",
      " Theorem th_4_2_12: forall A B: Prop, (A->((B->B)->A)). 1 True\n",
      " Theorem th_4_2_13: forall A B: Prop, (A->((B->B)->B)). -1 False\n",
      " Theorem th_4_2_14: forall A B: Prop, ((A->A)->(A->B)). -1 False\n",
      " Theorem th_4_2_15: forall A B: Prop, ((A->A)->(B->A)). -1 False\n",
      " Theorem th_4_2_16: forall A B: Prop, ((A->A)->(B->B)). 1 True\n",
      " Theorem th_4_2_17: forall A B: Prop, ((A->B)->(A->A)). 1 True\n",
      " Theorem th_4_2_18: forall A B: Prop, ((A->B)->(A->B)). 1 True\n",
      " Theorem th_4_2_19: forall A B: Prop, ((A->B)->(B->A)). -1 False\n",
      " Theorem th_4_2_20: forall A B: Prop, ((A->B)->(B->B)). 1 True\n",
      " Theorem th_4_2_21: forall A B: Prop, ((A->(A->A))->B). -1 False\n",
      " Theorem th_4_2_22: forall A B: Prop, ((A->(A->B))->A). -1 False\n",
      " Theorem th_4_2_23: forall A B: Prop, ((A->(A->B))->B). -1 False\n",
      " Theorem th_4_2_24: forall A B: Prop, ((A->(B->A))->A). -1 False\n",
      " Theorem th_4_2_25: forall A B: Prop, ((A->(B->A))->B). -1 False\n",
      " Theorem th_4_2_26: forall A B: Prop, ((A->(B->B))->A). -1 False\n",
      " Theorem th_4_2_27: forall A B: Prop, ((A->(B->B))->B). -1 False\n",
      " Theorem th_4_2_28: forall A B: Prop, (((A->A)->A)->B). -1 False\n",
      " Theorem th_4_2_29: forall A B: Prop, (((A->A)->B)->A). -1 False\n",
      " Theorem th_4_2_30: forall A B: Prop, (((A->A)->B)->B). 2 True\n",
      "* Theorem th_4_2_31: forall A B: Prop, (((A->B)->A)->A). -1 True\n",
      " Theorem th_4_2_32: forall A B: Prop, (((A->B)->A)->B). -1 False\n",
      " Theorem th_4_2_33: forall A B: Prop, (((A->B)->B)->A). -1 False\n",
      " Theorem th_4_2_34: forall A B: Prop, (((A->B)->B)->B). -1 False\n"
     ]
    },
    {
     "name": "stderr",
     "output_type": "stream",
     "text": [
      "\n"
     ]
    }
   ],
   "source": [
    "import tqdm\n",
    "\n",
    "\n",
    "n_args = 4\n",
    "n_vars = 2\n",
    "\n",
    "\n",
    "pycoq.agent.DEBUG = False\n",
    "\n",
    "async with pycoq.serapi.CoqSerapi(cfg, logfname=\"logtemp\") as session:\n",
    "    for e in tqdm.tqdm(db.find({'n_args':n_args, 'n_vars':n_vars})):\n",
    "        prop = coq_proposition(e['postfix'], n_args, n_vars, e['lex_pos'])\n",
    "        res = await evaluate_agent_in_session(session, agent, prop, agent_parameters = {'auto_limit': 10})\n",
    "        print( '*' if e['bool_denote'] != (res > 0) else '', prop, res, e['bool_denote'])\n"
   ]
  },
  {
   "cell_type": "markdown",
   "metadata": {},
   "source": [
    "\n",
    "### Evaluate 1000 of propositions by an agent in a single coq sessions (single core)\n"
   ]
  },
  {
   "cell_type": "code",
   "execution_count": 78,
   "metadata": {},
   "outputs": [],
   "source": [
    "# unfortunately %time, %timeit automagic does not work with async await functions yet in juypyter / ipython https://ipython.readthedocs.io/en/stable/interactive/autoawait.html\n",
    "import time\n",
    "async def test(n_props, auto_limit):\n",
    "    t0 = time.time()\n",
    "    n_args = 7\n",
    "    n_vars = 3\n",
    "\n",
    "    reslist = []\n",
    "    async with pycoq.serapi.CoqSerapi(cfg, logfname=\"logtemp\") as session:\n",
    "        for e in tqdm.tqdm(db.find({'n_args':n_args, 'n_vars':n_vars})[:n_props]):\n",
    "            prop = coq_proposition(e['postfix'], n_args, n_vars, e['lex_pos'])\n",
    "            res = await evaluate_agent_in_session(session, agent, prop, agent_parameters = {'auto_limit': 10})\n",
    "            reslist.append((n_args,n_vars,e['lex_pos'],res))\n",
    "\n",
    "    print(f\"{len(reslist) / (time.time()-t0):4.4f} proofs per seconds\")"
   ]
  },
  {
   "cell_type": "code",
   "execution_count": 79,
   "metadata": {},
   "outputs": [
    {
     "name": "stderr",
     "output_type": "stream",
     "text": [
      "0it [00:00, ?it/s]"
     ]
    },
    {
     "name": "stdout",
     "output_type": "stream",
     "text": [
      "process with 16539 started as\n",
      "cmd:  ['opam', 'exec', '--root', '/home/pestun/dataset100', '--switch', 'ocaml-variants.4.07.1+flambda_coq-serapi.8.11.0+0.11.1', '--', 'sertop', '--topfile', 'serapi_shell']\n",
      "cwd  /home/pestun/code/pycoq/notes\n"
     ]
    },
    {
     "name": "stderr",
     "output_type": "stream",
     "text": [
      "1000it [00:03, 316.41it/s]\n"
     ]
    },
    {
     "name": "stdout",
     "output_type": "stream",
     "text": [
      "311.1119 proofs per seconds\n"
     ]
    }
   ],
   "source": [
    "await test(1000, 1)\n",
    "# 336.3685 proofs per seconds before stackoverflow bug fix in coq-serapi"
   ]
  },
  {
   "cell_type": "code",
   "execution_count": 16,
   "metadata": {},
   "outputs": [
    {
     "name": "stderr",
     "output_type": "stream",
     "text": [
      "1000it [00:05, 198.98it/s]"
     ]
    },
    {
     "name": "stdout",
     "output_type": "stream",
     "text": [
      "196.5346 proofs per seconds\n"
     ]
    },
    {
     "name": "stderr",
     "output_type": "stream",
     "text": [
      "\n"
     ]
    }
   ],
   "source": [
    "await test(1000, 10) \n",
    "# 175.9385 proofs per seconds before stackoverflow bug fix in coq-serapi"
   ]
  },
  {
   "cell_type": "code",
   "execution_count": 17,
   "metadata": {},
   "outputs": [
    {
     "name": "stderr",
     "output_type": "stream",
     "text": [
      "1000it [00:04, 210.07it/s]"
     ]
    },
    {
     "name": "stdout",
     "output_type": "stream",
     "text": [
      "207.3565 proofs per seconds\n"
     ]
    },
    {
     "name": "stderr",
     "output_type": "stream",
     "text": [
      "\n"
     ]
    }
   ],
   "source": [
    "await test(1000, 20)\n",
    "# 132.2878 proofs per seconds before stackoverflow bug fix in coq-serapi"
   ]
  },
  {
   "cell_type": "code",
   "execution_count": 18,
   "metadata": {},
   "outputs": [
    {
     "name": "stderr",
     "output_type": "stream",
     "text": [
      "10000it [01:02, 160.98it/s]\n"
     ]
    },
    {
     "name": "stdout",
     "output_type": "stream",
     "text": [
      "159.3971 proofs per seconds\n"
     ]
    }
   ],
   "source": [
    "await test(10000, 1)"
   ]
  },
  {
   "cell_type": "code",
   "execution_count": null,
   "metadata": {},
   "outputs": [],
   "source": []
  }
 ],
 "metadata": {
  "kernelspec": {
   "display_name": "pycoq",
   "language": "python",
   "name": "pycoq"
  },
  "language_info": {
   "codemirror_mode": {
    "name": "ipython",
    "version": 3
   },
   "file_extension": ".py",
   "mimetype": "text/x-python",
   "name": "python",
   "nbconvert_exporter": "python",
   "pygments_lexer": "ipython3",
   "version": "3.8.2"
  }
 },
 "nbformat": 4,
 "nbformat_minor": 4
}
