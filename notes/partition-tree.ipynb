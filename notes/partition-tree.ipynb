{
 "cells": [
  {
   "cell_type": "code",
   "execution_count": 12,
   "metadata": {},
   "outputs": [],
   "source": [
    "from typing import Any, List\n",
    "from functools import lru_cache\n",
    "from collections import defaultdict\n",
    "from functools import reduce\n",
    "from operator import mul\n",
    "\n",
    "def part(n, m):\n",
    "    # returns a list of partitions of n with column height <=m\n",
    "    if (n == 0):\n",
    "        yield []\n",
    "    else:\n",
    "        for k in range(1, min(m+1,n+1)):\n",
    "            for tail in part(max(n-k,0), k):\n",
    "                yield [k]+tail\n",
    "                    \n",
    "def f(n):\n",
    "    if (n==1):\n",
    "        return 1\n",
    "    else:\n",
    "        ans = 0\n",
    "        for p in part(n-1, n-1):\n",
    "            ans += reduce(lambda a, b: a*b, (f(x) for x in p))\n",
    "        return ans\n",
    "\n",
    "def ptrees_seq(l):\n",
    "    if len(l) == 1:\n",
    "        yield from ptrees(l[0])\n",
    "    else:\n",
    "        for start in ptrees(l[0]):\n",
    "            for tail in ptrees_seq(l[1:]):\n",
    "                yield start + \",\" + tail\n",
    "\n",
    "                \n",
    "                \n",
    "                \n",
    "    \n",
    "def ptrees(n):\n",
    "    arrow = \"\\u2192\"\n",
    "    if (n==1):\n",
    "        yield \"1\"\n",
    "    else:\n",
    "        for p in part(n-1, n-1):\n",
    "            for seq in ptrees_seq(p):\n",
    "                yield \"{\" + seq + \"}\" + arrow + \"1\"\n",
    "                \n"
   ]
  },
  {
   "cell_type": "code",
   "execution_count": 14,
   "metadata": {},
   "outputs": [
    {
     "data": {
      "text/plain": [
       "['f']"
      ]
     },
     "execution_count": 14,
     "metadata": {},
     "output_type": "execute_result"
    }
   ],
   "source": [
    "trees(1)"
   ]
  },
  {
   "cell_type": "code",
   "execution_count": 114,
   "metadata": {},
   "outputs": [
    {
     "data": {
      "text/plain": [
       "[['a', 'a'], ['a', 'b'], ['b', 'b'], ['a', 'c'], ['b', 'c'], ['c', 'c']]"
      ]
     },
     "execution_count": 114,
     "metadata": {},
     "output_type": "execute_result"
    }
   ],
   "source": [
    "list(symlist(['a','b','c'],2))"
   ]
  },
  {
   "cell_type": "code",
   "execution_count": 106,
   "metadata": {},
   "outputs": [
    {
     "name": "stdout",
     "output_type": "stream",
     "text": [
      "[(1, 5), (2, 0), (3, 0), (4, 0), (5, 0)]\n",
      "[(1, 3), (2, 1), (3, 0), (4, 0), (5, 0)]\n",
      "[(1, 1), (2, 2), (3, 0), (4, 0), (5, 0)]\n",
      "[(1, 2), (2, 0), (3, 1), (4, 0), (5, 0)]\n",
      "[(1, 0), (2, 1), (3, 1), (4, 0), (5, 0)]\n",
      "[(1, 1), (2, 0), (3, 0), (4, 1), (5, 0)]\n",
      "[(1, 0), (2, 0), (3, 0), (4, 0), (5, 1)]\n"
     ]
    }
   ],
   "source": [
    "for p in pmult(5,5):\n",
    "    task_list = [(i+1, pi) for i, pi in enumerate(p)]\n",
    "    print(task_list)"
   ]
  },
  {
   "cell_type": "code",
   "execution_count": 98,
   "metadata": {},
   "outputs": [
    {
     "name": "stdout",
     "output_type": "stream",
     "text": [
      "[0, 0]\n",
      "[0, 1]\n",
      "[1, 1]\n",
      "[0, 2]\n",
      "[1, 2]\n",
      "[2, 2]\n",
      "[0, 3]\n",
      "[1, 3]\n",
      "[2, 3]\n",
      "[3, 3]\n",
      "[0, 4]\n",
      "[1, 4]\n",
      "[2, 4]\n",
      "[3, 4]\n",
      "[4, 4]\n"
     ]
    }
   ],
   "source": [
    "for s in symlist(5,2):\n",
    "    print(s)"
   ]
  },
  {
   "cell_type": "code",
   "execution_count": 72,
   "metadata": {},
   "outputs": [
    {
     "data": {
      "text/plain": [
       "[1, 1, 2, 4, 9, 20, 48, 115, 286, 719, 1842, 4766, 12486, 32973]"
      ]
     },
     "execution_count": 72,
     "metadata": {},
     "output_type": "execute_result"
    }
   ],
   "source": [
    "list(ptreemult(i) for i in range(1,15))             # https://oeis.org/A000081"
   ]
  },
  {
   "cell_type": "markdown",
   "metadata": {},
   "source": [
    "list(f(n) for n in range(10)) # sequence https://oeis.org/A093637"
   ]
  },
  {
   "cell_type": "code",
   "execution_count": 13,
   "metadata": {},
   "outputs": [
    {
     "data": {
      "text/plain": [
       "['{1,1,1,1}→1',\n",
       " '{{1}→1,1,1}→1',\n",
       " '{{1}→1,{1}→1}→1',\n",
       " '{{1,1}→1,1}→1',\n",
       " '{{{1}→1}→1,1}→1',\n",
       " '{{1,1,1}→1}→1',\n",
       " '{{{1}→1,1}→1}→1',\n",
       " '{{{1,1}→1}→1}→1',\n",
       " '{{{{1}→1}→1}→1}→1']"
      ]
     },
     "execution_count": 13,
     "metadata": {},
     "output_type": "execute_result"
    }
   ],
   "source": [
    "list(ptrees(5))"
   ]
  },
  {
   "cell_type": "code",
   "execution_count": 14,
   "metadata": {},
   "outputs": [
    {
     "data": {
      "text/plain": [
       "[0, 1, 1, 2, 5, 14, 42, 132, 429, 1430, 4862, 16796]"
      ]
     },
     "execution_count": 14,
     "metadata": {},
     "output_type": "execute_result"
    }
   ],
   "source": [
    "#[0, 1, 1, 2, 5, 14, 42, 132, 429, 1430, 4862, 16796] catalan"
   ]
  },
  {
   "cell_type": "code",
   "execution_count": 4,
   "metadata": {},
   "outputs": [
    {
     "data": {
      "text/plain": [
       "[[1, 1, 1, 1, 1, 1],\n",
       " [2, 1, 1, 1, 1],\n",
       " [2, 2, 1, 1],\n",
       " [2, 2, 2],\n",
       " [3, 1, 1, 1],\n",
       " [3, 2, 1],\n",
       " [3, 3],\n",
       " [4, 1, 1],\n",
       " [4, 2],\n",
       " [5, 1],\n",
       " [6]]"
      ]
     },
     "execution_count": 4,
     "metadata": {},
     "output_type": "execute_result"
    }
   ],
   "source": [
    "list(part(6,6))"
   ]
  },
  {
   "cell_type": "code",
   "execution_count": 35,
   "metadata": {},
   "outputs": [],
   "source": []
  },
  {
   "cell_type": "code",
   "execution_count": 32,
   "metadata": {},
   "outputs": [],
   "source": []
  },
  {
   "cell_type": "code",
   "execution_count": null,
   "metadata": {},
   "outputs": [],
   "source": []
  }
 ],
 "metadata": {
  "kernelspec": {
   "display_name": "pycoq",
   "language": "python",
   "name": "pycoq"
  },
  "language_info": {
   "codemirror_mode": {
    "name": "ipython",
    "version": 3
   },
   "file_extension": ".py",
   "mimetype": "text/x-python",
   "name": "python",
   "nbconvert_exporter": "python",
   "pygments_lexer": "ipython3",
   "version": "3.8.3"
  }
 },
 "nbformat": 4,
 "nbformat_minor": 4
}
