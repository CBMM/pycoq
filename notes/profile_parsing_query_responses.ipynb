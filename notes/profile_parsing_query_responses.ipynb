{
 "cells": [
  {
   "cell_type": "code",
   "execution_count": 1,
   "metadata": {},
   "outputs": [],
   "source": [
    "%load_ext autoreload\n",
    "%autoreload 2"
   ]
  },
  {
   "cell_type": "code",
   "execution_count": 2,
   "metadata": {},
   "outputs": [],
   "source": [
    "from matplotlib import pyplot as plt\n",
    "import json \n",
    "import numpy as np\n",
    "import os\n",
    "import re\n",
    "import pycoq.parse\n",
    "import pycoq.common\n",
    "import pycoq.serapi\n",
    "from pycoq.sexp import  token_generator, sexp_, sexp\n",
    "from pycoq.parse import ObjList\n",
    "from typing import List"
   ]
  },
  {
   "cell_type": "code",
   "execution_count": 3,
   "metadata": {},
   "outputs": [],
   "source": [
    "# reference implementation\n",
    "small_input = [r'()',r'(())', r'(()  ()  )', r'(abb(()d)bcc)' ,r'(abb\"b\\\"c\\\\c\"())']\n",
    "small_output = list(map(sexp, small_input))\n",
    "# expected output: [[], [[]], [[], []], ['abb', [[], 'd'], 'bcc'], ['abb', '\"b\\\\\"c\\\\\\\\c\"', []]]\n",
    "with open('../tests/sexp.txt','w') as f:\n",
    "    for line in small_input:\n",
    "        f.write(line + '\\n')"
   ]
  },
  {
   "cell_type": "code",
   "execution_count": 4,
   "metadata": {},
   "outputs": [],
   "source": [
    "def query_responses(source_directory):\n",
    "    res = []\n",
    "    for source in pycoq.common.find_files(source_directory, r'.*' + pycoq.common._DEFAULT_SERAPI_LOGEXT + '$'):\n",
    "        with open(source) as f:\n",
    "            s = json.load(f)\n",
    "            for line in s['response']:\n",
    "                match = pycoq.serapi.ANSWER_PATTERN_OBJLIST.match(line)\n",
    "                if match:\n",
    "                    res.append(match.group(2).strip())\n",
    "    return res\n",
    "\n",
    "def readlines(fname: str) -> List[str]:\n",
    "    res = []\n",
    "    with open(fname,'r') as f:\n",
    "        for line in f.readlines():\n",
    "            res.append(line.strip())\n",
    "    return res\n",
    "        \n",
    "def writelines(lines, fname):\n",
    "    with open(fname,'w') as f:\n",
    "        for line in lines:\n",
    "            f.write(line +'\\n')"
   ]
  },
  {
   "cell_type": "code",
   "execution_count": 5,
   "metadata": {},
   "outputs": [],
   "source": [
    "# 600Mb takes 2.5 seconds to read lines into memory from file"
   ]
  },
  {
   "cell_type": "code",
   "execution_count": 6,
   "metadata": {},
   "outputs": [],
   "source": [
    "res1 = readlines('../tests/bignums-query-responses.txt')[3000:3001]\n",
    "sum(len(line) for line in res1)\n",
    "writelines(res1, '../tests/0Mb.txt')"
   ]
  },
  {
   "cell_type": "code",
   "execution_count": 45,
   "metadata": {},
   "outputs": [
    {
     "data": {
      "text/plain": [
       "1003938"
      ]
     },
     "execution_count": 45,
     "metadata": {},
     "output_type": "execute_result"
    }
   ],
   "source": [
    "res1 = readlines('../tests/bignums-query-responses.txt')[3000:3330]\n",
    "\n",
    "writelines(res1, '../tests/1Mb.txt')\n",
    "sum(len(line) for line in res1)"
   ]
  },
  {
   "cell_type": "code",
   "execution_count": 46,
   "metadata": {},
   "outputs": [
    {
     "data": {
      "text/plain": [
       "10337142"
      ]
     },
     "execution_count": 46,
     "metadata": {},
     "output_type": "execute_result"
    }
   ],
   "source": [
    "res1 = readlines('../tests/bignums-query-responses.txt')[3000:4650]\n",
    "writelines(res1, '../tests/10Mb.txt')\n",
    "sum(len(line) for line in res1)"
   ]
  },
  {
   "cell_type": "code",
   "execution_count": 9,
   "metadata": {},
   "outputs": [
    {
     "data": {
      "text/plain": [
       "108844443"
      ]
     },
     "execution_count": 9,
     "metadata": {},
     "output_type": "execute_result"
    }
   ],
   "source": [
    "res1 = readlines('../tests/bignums-query-responses.txt')[3000:6300]\n",
    "writelines(res1, '../tests/100Mb.txt')\n",
    "sum(len(line) for line in res1)"
   ]
  },
  {
   "cell_type": "code",
   "execution_count": 10,
   "metadata": {},
   "outputs": [
    {
     "name": "stdout",
     "output_type": "stream",
     "text": [
      "CPU times: user 541 µs, sys: 153 µs, total: 694 µs\n",
      "Wall time: 698 µs\n"
     ]
    }
   ],
   "source": [
    "res = readlines('../tests/0Mb.txt')\n",
    "%time a = list(len(list(token_generator(line))) for line in res)"
   ]
  },
  {
   "cell_type": "code",
   "execution_count": 11,
   "metadata": {},
   "outputs": [
    {
     "name": "stdout",
     "output_type": "stream",
     "text": [
      "CPU times: user 469 ms, sys: 0 ns, total: 469 ms\n",
      "Wall time: 468 ms\n"
     ]
    }
   ],
   "source": [
    "res = readlines('../tests/1Mb.txt')\n",
    "%time a = list(len(list(token_generator(line))) for line in res)"
   ]
  },
  {
   "cell_type": "code",
   "execution_count": 12,
   "metadata": {},
   "outputs": [
    {
     "name": "stdout",
     "output_type": "stream",
     "text": [
      "CPU times: user 4.55 s, sys: 0 ns, total: 4.55 s\n",
      "Wall time: 4.55 s\n"
     ]
    },
    {
     "data": {
      "text/plain": [
       "4505673"
      ]
     },
     "execution_count": 12,
     "metadata": {},
     "output_type": "execute_result"
    }
   ],
   "source": [
    "res = readlines('../tests/10Mb.txt')\n",
    "%time a = sum(len(list(token_generator(line))) for line in res)\n",
    "a"
   ]
  },
  {
   "cell_type": "code",
   "execution_count": 129,
   "metadata": {},
   "outputs": [
    {
     "name": "stdout",
     "output_type": "stream",
     "text": [
      "CPU times: user 44.9 s, sys: 430 ms, total: 45.3 s\n",
      "Wall time: 45.3 s\n"
     ]
    },
    {
     "data": {
      "text/plain": [
       "45896337"
      ]
     },
     "execution_count": 129,
     "metadata": {},
     "output_type": "execute_result"
    }
   ],
   "source": [
    "res = readlines('../tests/100Mb.txt')\n",
    "%time a = sum(len(list(token_generator(line))) for line in res)\n",
    "a"
   ]
  },
  {
   "cell_type": "code",
   "execution_count": 47,
   "metadata": {},
   "outputs": [],
   "source": [
    "res = readlines('../tests/10Mb.txt')"
   ]
  },
  {
   "cell_type": "code",
   "execution_count": 48,
   "metadata": {},
   "outputs": [],
   "source": [
    "import functools\n",
    "def depth(root):\n",
    "    if isinstance(root, str):\n",
    "        return 1\n",
    "    else:\n",
    "        return 1 +  functools.reduce(max,(depth(item) for item in root),0)"
   ]
  },
  {
   "cell_type": "code",
   "execution_count": 49,
   "metadata": {},
   "outputs": [
    {
     "name": "stdout",
     "output_type": "stream",
     "text": [
      "CPU times: user 8.18 s, sys: 37 µs, total: 8.18 s\n",
      "Wall time: 8.19 s\n"
     ]
    }
   ],
   "source": [
    "%time writelines([str(depth(sexp_(token_generator(line)))) for line in res], '../tests/10Mb.depths.py')"
   ]
  },
  {
   "cell_type": "code",
   "execution_count": 6,
   "metadata": {},
   "outputs": [
    {
     "name": "stdout",
     "output_type": "stream",
     "text": [
      "CPU times: user 2.66 s, sys: 36 ms, total: 2.7 s\n",
      "Wall time: 2.7 s\n",
      "CPU times: user 13 s, sys: 207 ms, total: 13.2 s\n",
      "Wall time: 13.2 s\n",
      "CPU times: user 486 ms, sys: 805 µs, total: 487 ms\n",
      "Wall time: 487 ms\n"
     ]
    }
   ],
   "source": [
    "%time tok_gens = [token_generator(line) for line in r]\n",
    "%time ss = [sexp_(t) for t in tok_gens]\n",
    "%time os = [ObjList.from_sexp(s) for s in ss]"
   ]
  },
  {
   "cell_type": "code",
   "execution_count": 7,
   "metadata": {},
   "outputs": [],
   "source": [
    "import sexpdata"
   ]
  },
  {
   "cell_type": "code",
   "execution_count": 8,
   "metadata": {},
   "outputs": [
    {
     "name": "stdout",
     "output_type": "stream",
     "text": [
      "CPU times: user 15.9 s, sys: 404 ms, total: 16.3 s\n",
      "Wall time: 16.3 s\n"
     ]
    }
   ],
   "source": [
    "%time ss2 = [sexpdata.loads(line) for line in r]\n"
   ]
  },
  {
   "cell_type": "code",
   "execution_count": 9,
   "metadata": {},
   "outputs": [],
   "source": [
    "import pycoq.lark_serapi"
   ]
  },
  {
   "cell_type": "code",
   "execution_count": 10,
   "metadata": {},
   "outputs": [
    {
     "name": "stdout",
     "output_type": "stream",
     "text": [
      "CPU times: user 1min 12s, sys: 1.07 s, total: 1min 13s\n",
      "Wall time: 1min 13s\n"
     ]
    }
   ],
   "source": [
    "%time ss3 = [pycoq.lark_serapi.sexp_parser_mach.parse(line) for line in r]"
   ]
  },
  {
   "cell_type": "code",
   "execution_count": 21,
   "metadata": {},
   "outputs": [
    {
     "data": {
      "text/plain": [
       "[[], [[]], [[], []], ['abb', [], 'bcc'], ['abb', '\"b\\\\\"c\\\\\\\\c\"', []]]"
      ]
     },
     "execution_count": 21,
     "metadata": {},
     "output_type": "execute_result"
    }
   ],
   "source": []
  },
  {
   "cell_type": "code",
   "execution_count": null,
   "metadata": {},
   "outputs": [],
   "source": []
  }
 ],
 "metadata": {
  "kernelspec": {
   "display_name": "pycoq",
   "language": "python",
   "name": "pycoq"
  },
  "language_info": {
   "codemirror_mode": {
    "name": "ipython",
    "version": 3
   },
   "file_extension": ".py",
   "mimetype": "text/x-python",
   "name": "python",
   "nbconvert_exporter": "python",
   "pygments_lexer": "ipython3",
   "version": "3.8.3"
  }
 },
 "nbformat": 4,
 "nbformat_minor": 4
}
