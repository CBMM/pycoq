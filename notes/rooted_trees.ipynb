{
 "cells": [
  {
   "cell_type": "markdown",
   "metadata": {},
   "source": [
    "# Rooted trees\n",
    "\n",
    "see also https://mathworld.wolfram.com/RootedTree.html\n",
    "\n",
    "\n",
    "\n",
    "* may be this one  https://projecteuclid.org/download/pdf_1/euclid.acta/1485892234 would be useful\n",
    "\n"
   ]
  },
  {
   "cell_type": "code",
   "execution_count": 24,
   "metadata": {},
   "outputs": [],
   "source": [
    "from typing import Any, List, Tuple\n",
    "from functools import lru_cache\n",
    "from collections import defaultdict\n",
    "from functools import reduce\n",
    "from operator import mul\n",
    "\n",
    "\n",
    "def strings_(n: int, d: int):\n",
    "    ''' generates non-equivalent strings of length n using exactly d letters\n",
    "    two strings on aphabet of the same size are equivalent if there is a bijection \n",
    "    between alphabets that makes strings equal\n",
    "    using alphabet 1,2,3...\n",
    "    \n",
    "    valid input n >= 0, d >= 0\n",
    "    This is combinatorial problem of paritioning a set into d classes; counted by Bell numbers\n",
    "    '''\n",
    "    if n < 0 or d < 0:\n",
    "        raise ValueError\n",
    "    if n == 0:\n",
    "        if d == 0:\n",
    "            yield []  # empty string\n",
    "        # else nothing \n",
    "    else:\n",
    "        if d > 0:\n",
    "            for prefix in strings_(n-1, d-1):\n",
    "                yield prefix + [d]   # append new letter to each element of the previous set\n",
    "            for prefix in strings_(n-1, d):\n",
    "                for letter in range(1, d+1):  # repeat one of existing letters\n",
    "                    yield prefix + [letter]\n",
    "        # else nothing\n",
    "\n",
    "def strings(n):\n",
    "    ''' generates all non-equivalent strings using d = 1...n different letters'''\n",
    "    for d in range(1, n+1):\n",
    "        yield from strings_(n, d)\n",
    "\n",
    "def  _pmult(n, i_max):\n",
    "    # yields partitions in the multiplicity format \n",
    "    # 1*k1 + 2*k2 + 3*k3 + .. + i * k_i = n \n",
    "    # where k_i denotes how many times \"i\" appears in the partition of n\n",
    "    # the function is recursion over i_max\n",
    "    # in this form that partition function of partitions is the Euler function\n",
    "    # prod 1/(1 - q^i)\n",
    "    if (i_max==0):\n",
    "        if (n==0):\n",
    "            yield []\n",
    "        else:\n",
    "            # nothing\n",
    "            pass\n",
    "    else:\n",
    "        for k in range(n//i_max + 1):\n",
    "            for prev in _pmult(n - k*i_max, i_max - 1):\n",
    "                yield prev + [k]\n",
    "\n",
    "@lru_cache(None)\n",
    "def pmult(n, i_max):\n",
    "    return list(_pmult(n, i_max))\n",
    "                \n",
    "\n",
    "@lru_cache(None)\n",
    "def sym(n, k):\n",
    "    # symmetric power n*(n+1)*(n+2).. (n+k-1)/k!\n",
    "    res = 1\n",
    "    for i in range(k):\n",
    "        res = (res*(n+i))//(1+i)\n",
    "    return res\n",
    "\n",
    "\n",
    "def symlist(data: List[Any], k: int):\n",
    "    # symmetric powers as sorted lists of length k of objects picked from data list\n",
    "    # symplist(['a','b','c'],2) = [['a', 'a'], ['a', 'b'], ['b', 'b'], ['a', 'c'], ['b', 'c'], ['c', 'c']]\n",
    "    if (k==0):\n",
    "        yield []\n",
    "    else:\n",
    "        for n_last in range(len(data)):\n",
    "            for head in symlist(data[:n_last+1], k-1):\n",
    "                yield head + [data[n_last]]\n",
    "            \n",
    "            \n",
    "    \n",
    "\n",
    "@lru_cache(None)\n",
    "def ptreemult(n):\n",
    "    if (n==1):\n",
    "        return 1\n",
    "    else:\n",
    "        ans = 0\n",
    "        for p in pmult(n-1,n-1):\n",
    "            term = 1\n",
    "            for i,k in enumerate(p):\n",
    "                term *= sym(ptreemult(i+1),k)\n",
    "            ans += term\n",
    "        return ans\n",
    "        \n",
    "\n",
    "def product(values, offset):\n",
    "    ''' generates from cartesian products of iterables passed as List\n",
    "    offset is for recursion efficiency, to avoid list constructions\n",
    "   \n",
    "    (if LinkedList implementation, use head :: tail in recursion) \n",
    "    '''\n",
    "    if offset > len(values):\n",
    "        raise ValueError\n",
    "\n",
    "    if (offset == len(values)):\n",
    "        yield []\n",
    "    else:\n",
    "        for x in values[offset]:\n",
    "            for rest in product(values, offset+1):\n",
    "                yield [x] + rest\n",
    "\n",
    "def flatten(z: List[List[Any]]):\n",
    "    return [x for y in z for x in y]\n",
    "        \n",
    "def _trees(n):\n",
    "    if (n==0):\n",
    "        pass\n",
    "    elif (n==1):\n",
    "        yield [0]\n",
    "    else:\n",
    "        for p in pmult(n-1,n-1):\n",
    "            children_opts = []\n",
    "            for i, k in enumerate(p):\n",
    "                slist = list(symlist(list(trees(i+1)), k))\n",
    "                if len(slist) > 0:\n",
    "                    children_opts.append(slist)\n",
    "            for children in product(children_opts, 0):\n",
    "                size = len(flatten(children))\n",
    "                yield flatten(flatten(children)) + [-size]\n",
    "\n",
    "@lru_cache(None)                \n",
    "def trees(n):\n",
    "    return list(_trees(n))\n",
    "\n",
    "\n",
    "def postfix_tree_expr(n, d):\n",
    "    '''cartesian product of uncolored topologies of rooted trees on n nodes \n",
    "    and coloring of a set of n elements in d-colors from strings_(n,d)\n",
    "    \n",
    "    We'll take DFS ordering of nodes in this product. \n",
    "    \n",
    "    The DFS ordering is reverse of the postfix list.\n",
    "    '''\n",
    "    for t in trees(n):\n",
    "        for s in strings_(n, d):\n",
    "            yield list(zip(t, reversed(s)))\n",
    "            \n",
    "            \n",
    "import hashlib\n",
    "hash_fn = lambda x: int(hashlib.md5(x).hexdigest(),16) % 2**64\n",
    "\n",
    "\n",
    "def tree_hash(e: List[Tuple[int]]):\n",
    "    '''\n",
    "    input e: postfix encoding of a colored tree, each node has color coded by a positive integer\n",
    "    compute hash tree which is invariant under permutations and dublications of the children \n",
    "    i.e. make set from the list of hashesh of children and then apply hash function\n",
    "    invariant under permutations \n",
    "    we'll take sum(hashes(set of hashes of children))\n",
    "    we've could taken also product or any other symmetric function \n",
    "    '''\n",
    "    stack = []\n",
    "    for narity, node in e:\n",
    "        if len(stack) < narity:\n",
    "            raise ValueError(f\"Bad postfix expression, not enough children to pop, stack: {stack}\")\n",
    "        previous = hash_fn((sum(set(stack.pop() for _ in range(-narity))) % 2**64).to_bytes(8, byteorder='big'))\n",
    "        result = hash_fn(previous.to_bytes(8, byteorder='big') + node.to_bytes(8, byteorder='big'))\n",
    "        stack.append(result)\n",
    "    if len(stack) != 1:\n",
    "        raise ValueError(f\"Bad postfix expression, finished with stack: {stack} for expr: {e}\")\n",
    "    else:\n",
    "        return stack.pop()\n",
    "    \n",
    "    \n",
    "def postfix_tree_canonical(n, d):\n",
    "    # generate postfix trees in lexicographical order up to length n on d variables\n",
    "    # removes isomorphic trees from the sequence based on tree_hash call\n",
    "    hashset = set()\n",
    "    for cnt in range(1, n+1):\n",
    "        for e in postfix_tree_expr(cnt, d):\n",
    "            ehash = tree_hash(e)\n",
    "            if not ehash in hashset:\n",
    "                hashset.add(ehash)\n",
    "                yield (n, e\n",
    "                \n",
    "                \n",
    "\n",
    "\n",
    "\n",
    "def bool_denote(e: List[Tuple[int]], arg: List[bool]):\n",
    "    '''\n",
    "    Boolean stack evaluator\n",
    "    e: is postfix tree consisting of list of tuples (-narity, node name)\n",
    "    where node name are integers 1,2,3..\n",
    "    arg: is the list of boolean values\n",
    "    '''\n",
    "    stack = []\n",
    "    for narity, node in e:\n",
    "        if len(stack) < narity:\n",
    "            raise ValueError(f\"Bad postfix expression, not enough children to pop, stack: {stack}\")\n",
    "        result = any(list(not stack.pop() for _ in range(-narity))) or arg[node-1]\n",
    "        stack.append(result)\n",
    "    if len(stack) != 1:\n",
    "        print(\"bad expression\", e)\n",
    "        raise ValueError(f\"Bad postfix expression, finished with stack: {stack} for expr: {e}\")\n",
    "    else:\n",
    "        return stack.pop()\n",
    "    \n",
    "def valid(e):\n",
    "    ''' brute force proving theorem\n",
    "    in propositional calculus entails to check that expression evaluates to True for\n",
    "    all input arguments \n",
    "    '''\n",
    "    n_args = max(node for arity, node in e)\n",
    "    return all(bool_denote(e, arg) for arg in product([[False,True] for _ in range(n_args)], 0))  \n",
    "\n"
   ]
  },
  {
   "cell_type": "markdown",
   "metadata": {},
   "source": [
    "### rooted trees https://oeis.org/A000081"
   ]
  },
  {
   "cell_type": "code",
   "execution_count": 25,
   "metadata": {},
   "outputs": [
    {
     "data": {
      "text/plain": [
       "[0, 1, 1, 2, 4, 9, 20, 48, 115, 286, 719, 1842, 4766, 12486]"
      ]
     },
     "execution_count": 25,
     "metadata": {},
     "output_type": "execute_result"
    }
   ],
   "source": [
    "list(len(trees(i)) for i in range(14))       # number of unlabelled rooted trees with n nodes: "
   ]
  },
  {
   "cell_type": "code",
   "execution_count": 26,
   "metadata": {},
   "outputs": [
    {
     "data": {
      "text/plain": [
       "[[0, 0, 0, -3], [0, 0, -1, -2], [0, 0, -2, -1], [0, -1, -1, -1]]"
      ]
     },
     "execution_count": 26,
     "metadata": {},
     "output_type": "execute_result"
    }
   ],
   "source": [
    "trees(4)   # notations: -n for n >= 0 means pop n children from the stack, perform operation, push back to stack"
   ]
  },
  {
   "cell_type": "markdown",
   "metadata": {},
   "source": [
    "### Postfix trees\n",
    "#### A tree with n nodes in postfix form is a list of n pairs\n",
    "#### Each pair is (-node.degree, node.variable_id) \n",
    "\n",
    "#### The ordering of the pairs is reverse of DFS traversal (i.e. the last pair is the root node)\n",
    "\n",
    "#### Notice: if we join pairs to continuous list of length 2n, the notations are equivalent to our s expression postfix notations where integer -n <= 0 denotes n-times pop() operation, and integer > 0 is id of an atom to push"
   ]
  },
  {
   "cell_type": "code",
   "execution_count": 27,
   "metadata": {},
   "outputs": [
    {
     "name": "stdout",
     "output_type": "stream",
     "text": [
      "[(0, 2), (0, 1), (-2, 1)]\n",
      "[(0, 1), (0, 2), (-2, 1)]\n",
      "[(0, 2), (0, 2), (-2, 1)]\n",
      "[(0, 2), (-1, 1), (-1, 1)]\n",
      "[(0, 1), (-1, 2), (-1, 1)]\n",
      "[(0, 2), (-1, 2), (-1, 1)]\n"
     ]
    }
   ],
   "source": [
    "for e in postfix_tree_expr(3,2):  \n",
    "    print(e)"
   ]
  },
  {
   "cell_type": "markdown",
   "metadata": {},
   "source": [
    "### hashtree function:"
   ]
  },
  {
   "cell_type": "code",
   "execution_count": 28,
   "metadata": {},
   "outputs": [
    {
     "name": "stdout",
     "output_type": "stream",
     "text": [
      "[(0, 1)] 4896303482726436129\n",
      "[(0, 1), (-1, 1)] 13721624596682143247\n",
      "[(0, 1), (0, 1), (-2, 1)] 13721624596682143247\n",
      "[(0, 1), (-1, 1), (-1, 1)] 14058027741666673059\n"
     ]
    }
   ],
   "source": [
    "for cnt in range(1, 4):\n",
    "    for e in postfix_tree_expr(cnt,1):\n",
    "        print(e, tree_hash(e))  # trees with repeating or permuted children have the same hash"
   ]
  },
  {
   "cell_type": "markdown",
   "metadata": {},
   "source": [
    "## cumulative number of non-equivalent rooted colored trees of size <=  n"
   ]
  },
  {
   "cell_type": "markdown",
   "metadata": {},
   "source": [
    "- Need to compare with  https://oeis.org/A304486\n"
   ]
  },
  {
   "cell_type": "code",
   "execution_count": 29,
   "metadata": {},
   "outputs": [],
   "source": [
    "cuml = list(sum(len(list(postfix_tree_canonical(n,d))) for d in range(1, n+1)) for n in range(0, 9)) # cumulative"
   ]
  },
  {
   "cell_type": "code",
   "execution_count": 30,
   "metadata": {},
   "outputs": [],
   "source": [
    "# this is the result of running hash_tree with sum(list(hashchildren))\n",
    "# [1, 2, 9, 49, 347, 2795, 26692, 280591]     \n",
    "   "
   ]
  },
  {
   "cell_type": "code",
   "execution_count": 31,
   "metadata": {},
   "outputs": [
    {
     "data": {
      "text/plain": [
       "[1, 2, 7, 38, 266, 2148, 20480, 214721]"
      ]
     },
     "execution_count": 31,
     "metadata": {},
     "output_type": "execute_result"
    }
   ],
   "source": [
    "[cuml[i] - cuml[i-1] for i in range(1, len(cuml))]   # number of non-isomorphic colored rooted trees of size 1,2,3,.. "
   ]
  },
  {
   "cell_type": "markdown",
   "metadata": {},
   "source": [
    "# Matula Goebel index\n",
    "\n",
    "see also Abe https://www.sciencedirect.com/science/article/pii/0893965994900531?via%3Dihub\n",
    "and http://citeseerx.ist.psu.edu/viewdoc/download?doi=10.1.1.90.6380&rep=rep1&type=pdf"
   ]
  },
  {
   "cell_type": "code",
   "execution_count": 12,
   "metadata": {},
   "outputs": [],
   "source": [
    "@lru_cache(None)\n",
    "def primes(size: int):\n",
    "    \"\"\"\n",
    "        returns a list of first primes of given size\n",
    "    \"\"\"\n",
    "    ps = []\n",
    "    x = 2\n",
    "    while (len(ps) < size):\n",
    "        if all(x % p != 0 for p in ps if p*p <= x):\n",
    "            ps.append(x)\n",
    "        x += 1\n",
    "    return ps\n",
    "\n",
    "def prime(index: int):\n",
    "    return primes(max(10000, index))[index-1]"
   ]
  },
  {
   "cell_type": "code",
   "execution_count": 13,
   "metadata": {},
   "outputs": [],
   "source": [
    "def mg_index(e):\n",
    "    '''matula goebel index of a rooted tree'''\n",
    "    stack = []\n",
    "    for narity, node in e:\n",
    "        if len(stack) < narity:\n",
    "            raise ValueError(f\"Bad postfix expression, not enough children to pop, stack: {stack}\")\n",
    "        else:\n",
    "            value = 1\n",
    "            for _ in range(-narity):\n",
    "                value *= prime(stack.pop())\n",
    "        stack.append(value)\n",
    "    if len(stack) != 1:\n",
    "        print(\"bad expression\", e)\n",
    "        raise ValueError(f\"Bad postfix expression, finished with stack: {stack} for expr: {e}\")\n",
    "    else:\n",
    "        return stack.pop()\n",
    "    \n",
    "    "
   ]
  },
  {
   "cell_type": "code",
   "execution_count": 62,
   "metadata": {},
   "outputs": [],
   "source": [
    "from collections import defaultdict\n",
    "def postfix_tree_canonical_(n, d):\n",
    "    mg_table = defaultdict(list)\n",
    "    for e in postfix_tree_canonical(n,d):\n",
    "        mg_table[mg_index(e)].append(e)\n",
    "    return mg_table"
   ]
  },
  {
   "cell_type": "code",
   "execution_count": 64,
   "metadata": {},
   "outputs": [
    {
     "data": {
      "text/plain": [
       "defaultdict(list,\n",
       "            {2: [[(0, 2), (-1, 1)]],\n",
       "             4: [[(0, 2), (0, 1), (-2, 1)], [(0, 2), (0, 2), (-2, 1)]],\n",
       "             3: [[(0, 2), (-1, 1), (-1, 1)],\n",
       "              [(0, 1), (-1, 2), (-1, 1)],\n",
       "              [(0, 2), (-1, 2), (-1, 1)]],\n",
       "             8: [[(0, 2), (0, 1), (0, 1), (-3, 1)],\n",
       "              [(0, 2), (0, 2), (0, 1), (-3, 1)],\n",
       "              [(0, 2), (0, 2), (0, 2), (-3, 1)]],\n",
       "             6: [[(0, 2), (0, 1), (-1, 1), (-2, 1)],\n",
       "              [(0, 1), (0, 2), (-1, 1), (-2, 1)],\n",
       "              [(0, 2), (0, 2), (-1, 1), (-2, 1)],\n",
       "              [(0, 1), (0, 1), (-1, 2), (-2, 1)],\n",
       "              [(0, 2), (0, 1), (-1, 2), (-2, 1)],\n",
       "              [(0, 1), (0, 2), (-1, 2), (-2, 1)],\n",
       "              [(0, 2), (0, 2), (-1, 2), (-2, 1)]],\n",
       "             7: [[(0, 2), (0, 1), (-2, 1), (-1, 1)],\n",
       "              [(0, 2), (0, 2), (-2, 1), (-1, 1)],\n",
       "              [(0, 1), (0, 1), (-2, 2), (-1, 1)],\n",
       "              [(0, 2), (0, 1), (-2, 2), (-1, 1)],\n",
       "              [(0, 2), (0, 2), (-2, 2), (-1, 1)]],\n",
       "             5: [[(0, 2), (-1, 1), (-1, 1), (-1, 1)],\n",
       "              [(0, 1), (-1, 2), (-1, 1), (-1, 1)],\n",
       "              [(0, 2), (-1, 2), (-1, 1), (-1, 1)],\n",
       "              [(0, 1), (-1, 1), (-1, 2), (-1, 1)],\n",
       "              [(0, 2), (-1, 1), (-1, 2), (-1, 1)],\n",
       "              [(0, 1), (-1, 2), (-1, 2), (-1, 1)],\n",
       "              [(0, 2), (-1, 2), (-1, 2), (-1, 1)]],\n",
       "             16: [[(0, 2), (0, 1), (0, 1), (0, 1), (-4, 1)],\n",
       "              [(0, 2), (0, 2), (0, 1), (0, 1), (-4, 1)],\n",
       "              [(0, 2), (0, 2), (0, 2), (0, 1), (-4, 1)],\n",
       "              [(0, 2), (0, 2), (0, 2), (0, 2), (-4, 1)]],\n",
       "             12: [[(0, 2), (0, 1), (0, 1), (-1, 1), (-3, 1)],\n",
       "              [(0, 2), (0, 2), (0, 1), (-1, 1), (-3, 1)],\n",
       "              [(0, 1), (0, 1), (0, 2), (-1, 1), (-3, 1)],\n",
       "              [(0, 2), (0, 1), (0, 2), (-1, 1), (-3, 1)],\n",
       "              [(0, 2), (0, 2), (0, 2), (-1, 1), (-3, 1)],\n",
       "              [(0, 1), (0, 1), (0, 1), (-1, 2), (-3, 1)],\n",
       "              [(0, 2), (0, 1), (0, 1), (-1, 2), (-3, 1)],\n",
       "              [(0, 2), (0, 2), (0, 1), (-1, 2), (-3, 1)],\n",
       "              [(0, 1), (0, 1), (0, 2), (-1, 2), (-3, 1)],\n",
       "              [(0, 2), (0, 1), (0, 2), (-1, 2), (-3, 1)],\n",
       "              [(0, 2), (0, 2), (0, 2), (-1, 2), (-3, 1)]],\n",
       "             9: [[(0, 2), (-1, 1), (0, 1), (-1, 1), (-2, 1)],\n",
       "              [(0, 1), (-1, 2), (0, 1), (-1, 1), (-2, 1)],\n",
       "              [(0, 2), (-1, 2), (0, 1), (-1, 1), (-2, 1)],\n",
       "              [(0, 2), (-1, 1), (0, 2), (-1, 1), (-2, 1)],\n",
       "              [(0, 1), (-1, 2), (0, 2), (-1, 1), (-2, 1)],\n",
       "              [(0, 2), (-1, 2), (0, 2), (-1, 1), (-2, 1)],\n",
       "              [(0, 1), (-1, 2), (0, 1), (-1, 2), (-2, 1)],\n",
       "              [(0, 2), (-1, 2), (0, 1), (-1, 2), (-2, 1)],\n",
       "              [(0, 2), (-1, 2), (0, 2), (-1, 2), (-2, 1)]],\n",
       "             14: [[(0, 2), (0, 1), (0, 1), (-2, 1), (-2, 1)],\n",
       "              [(0, 1), (0, 2), (0, 1), (-2, 1), (-2, 1)],\n",
       "              [(0, 2), (0, 2), (0, 1), (-2, 1), (-2, 1)],\n",
       "              [(0, 1), (0, 2), (0, 2), (-2, 1), (-2, 1)],\n",
       "              [(0, 2), (0, 2), (0, 2), (-2, 1), (-2, 1)],\n",
       "              [(0, 1), (0, 1), (0, 1), (-2, 2), (-2, 1)],\n",
       "              [(0, 2), (0, 1), (0, 1), (-2, 2), (-2, 1)],\n",
       "              [(0, 1), (0, 2), (0, 1), (-2, 2), (-2, 1)],\n",
       "              [(0, 2), (0, 2), (0, 1), (-2, 2), (-2, 1)],\n",
       "              [(0, 1), (0, 2), (0, 2), (-2, 2), (-2, 1)],\n",
       "              [(0, 2), (0, 2), (0, 2), (-2, 2), (-2, 1)]],\n",
       "             10: [[(0, 2), (0, 1), (-1, 1), (-1, 1), (-2, 1)],\n",
       "              [(0, 1), (0, 2), (-1, 1), (-1, 1), (-2, 1)],\n",
       "              [(0, 2), (0, 2), (-1, 1), (-1, 1), (-2, 1)],\n",
       "              [(0, 1), (0, 1), (-1, 2), (-1, 1), (-2, 1)],\n",
       "              [(0, 2), (0, 1), (-1, 2), (-1, 1), (-2, 1)],\n",
       "              [(0, 1), (0, 2), (-1, 2), (-1, 1), (-2, 1)],\n",
       "              [(0, 2), (0, 2), (-1, 2), (-1, 1), (-2, 1)],\n",
       "              [(0, 1), (0, 1), (-1, 1), (-1, 2), (-2, 1)],\n",
       "              [(0, 2), (0, 1), (-1, 1), (-1, 2), (-2, 1)],\n",
       "              [(0, 1), (0, 2), (-1, 1), (-1, 2), (-2, 1)],\n",
       "              [(0, 2), (0, 2), (-1, 1), (-1, 2), (-2, 1)],\n",
       "              [(0, 1), (0, 1), (-1, 2), (-1, 2), (-2, 1)],\n",
       "              [(0, 2), (0, 1), (-1, 2), (-1, 2), (-2, 1)],\n",
       "              [(0, 1), (0, 2), (-1, 2), (-1, 2), (-2, 1)],\n",
       "              [(0, 2), (0, 2), (-1, 2), (-1, 2), (-2, 1)]],\n",
       "             19: [[(0, 2), (0, 1), (0, 1), (-3, 1), (-1, 1)],\n",
       "              [(0, 2), (0, 2), (0, 1), (-3, 1), (-1, 1)],\n",
       "              [(0, 2), (0, 2), (0, 2), (-3, 1), (-1, 1)],\n",
       "              [(0, 1), (0, 1), (0, 1), (-3, 2), (-1, 1)],\n",
       "              [(0, 2), (0, 1), (0, 1), (-3, 2), (-1, 1)],\n",
       "              [(0, 2), (0, 2), (0, 1), (-3, 2), (-1, 1)],\n",
       "              [(0, 2), (0, 2), (0, 2), (-3, 2), (-1, 1)]],\n",
       "             13: [[(0, 2), (0, 1), (-1, 1), (-2, 1), (-1, 1)],\n",
       "              [(0, 1), (0, 2), (-1, 1), (-2, 1), (-1, 1)],\n",
       "              [(0, 2), (0, 2), (-1, 1), (-2, 1), (-1, 1)],\n",
       "              [(0, 1), (0, 1), (-1, 2), (-2, 1), (-1, 1)],\n",
       "              [(0, 2), (0, 1), (-1, 2), (-2, 1), (-1, 1)],\n",
       "              [(0, 1), (0, 2), (-1, 2), (-2, 1), (-1, 1)],\n",
       "              [(0, 2), (0, 2), (-1, 2), (-2, 1), (-1, 1)],\n",
       "              [(0, 1), (0, 1), (-1, 1), (-2, 2), (-1, 1)],\n",
       "              [(0, 2), (0, 1), (-1, 1), (-2, 2), (-1, 1)],\n",
       "              [(0, 1), (0, 2), (-1, 1), (-2, 2), (-1, 1)],\n",
       "              [(0, 2), (0, 2), (-1, 1), (-2, 2), (-1, 1)],\n",
       "              [(0, 1), (0, 1), (-1, 2), (-2, 2), (-1, 1)],\n",
       "              [(0, 2), (0, 1), (-1, 2), (-2, 2), (-1, 1)],\n",
       "              [(0, 1), (0, 2), (-1, 2), (-2, 2), (-1, 1)],\n",
       "              [(0, 2), (0, 2), (-1, 2), (-2, 2), (-1, 1)]],\n",
       "             17: [[(0, 2), (0, 1), (-2, 1), (-1, 1), (-1, 1)],\n",
       "              [(0, 2), (0, 2), (-2, 1), (-1, 1), (-1, 1)],\n",
       "              [(0, 1), (0, 1), (-2, 2), (-1, 1), (-1, 1)],\n",
       "              [(0, 2), (0, 1), (-2, 2), (-1, 1), (-1, 1)],\n",
       "              [(0, 2), (0, 2), (-2, 2), (-1, 1), (-1, 1)],\n",
       "              [(0, 1), (0, 1), (-2, 1), (-1, 2), (-1, 1)],\n",
       "              [(0, 2), (0, 1), (-2, 1), (-1, 2), (-1, 1)],\n",
       "              [(0, 2), (0, 2), (-2, 1), (-1, 2), (-1, 1)],\n",
       "              [(0, 1), (0, 1), (-2, 2), (-1, 2), (-1, 1)],\n",
       "              [(0, 2), (0, 1), (-2, 2), (-1, 2), (-1, 1)],\n",
       "              [(0, 2), (0, 2), (-2, 2), (-1, 2), (-1, 1)]],\n",
       "             11: [[(0, 2), (-1, 1), (-1, 1), (-1, 1), (-1, 1)],\n",
       "              [(0, 1), (-1, 2), (-1, 1), (-1, 1), (-1, 1)],\n",
       "              [(0, 2), (-1, 2), (-1, 1), (-1, 1), (-1, 1)],\n",
       "              [(0, 1), (-1, 1), (-1, 2), (-1, 1), (-1, 1)],\n",
       "              [(0, 2), (-1, 1), (-1, 2), (-1, 1), (-1, 1)],\n",
       "              [(0, 1), (-1, 2), (-1, 2), (-1, 1), (-1, 1)],\n",
       "              [(0, 2), (-1, 2), (-1, 2), (-1, 1), (-1, 1)],\n",
       "              [(0, 1), (-1, 1), (-1, 1), (-1, 2), (-1, 1)],\n",
       "              [(0, 2), (-1, 1), (-1, 1), (-1, 2), (-1, 1)],\n",
       "              [(0, 1), (-1, 2), (-1, 1), (-1, 2), (-1, 1)],\n",
       "              [(0, 2), (-1, 2), (-1, 1), (-1, 2), (-1, 1)],\n",
       "              [(0, 1), (-1, 1), (-1, 2), (-1, 2), (-1, 1)],\n",
       "              [(0, 2), (-1, 1), (-1, 2), (-1, 2), (-1, 1)],\n",
       "              [(0, 1), (-1, 2), (-1, 2), (-1, 2), (-1, 1)],\n",
       "              [(0, 2), (-1, 2), (-1, 2), (-1, 2), (-1, 1)]]})"
      ]
     },
     "execution_count": 64,
     "metadata": {},
     "output_type": "execute_result"
    }
   ],
   "source": [
    "postfix_tree_canonical_(5,2)"
   ]
  },
  {
   "cell_type": "code",
   "execution_count": null,
   "metadata": {},
   "outputs": [],
   "source": []
  }
 ],
 "metadata": {
  "kernelspec": {
   "display_name": "Python 3",
   "language": "python",
   "name": "python3"
  },
  "language_info": {
   "codemirror_mode": {
    "name": "ipython",
    "version": 3
   },
   "file_extension": ".py",
   "mimetype": "text/x-python",
   "name": "python",
   "nbconvert_exporter": "python",
   "pygments_lexer": "ipython3",
   "version": "3.8.3"
  }
 },
 "nbformat": 4,
 "nbformat_minor": 4
}
