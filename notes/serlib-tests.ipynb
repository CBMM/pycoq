{
 "cells": [
  {
   "cell_type": "code",
   "execution_count": 1,
   "metadata": {},
   "outputs": [
    {
     "data": {
      "text/plain": [
       "array([ 1,  2,  3, -3,  4,  1,  2,  3, -3,  5,  6, -2,  7, -5],\n",
       "      dtype=int32)"
      ]
     },
     "execution_count": 1,
     "metadata": {},
     "output_type": "execute_result"
    }
   ],
   "source": [
    "from serlib.parser import SExpParser, check_inverse, encode\n",
    "import numpy as np\n",
    "import random\n",
    "parser = SExpParser()\n",
    "parser.parse_bytestring(b'((a b c)d(a b c)(e f) g)')"
   ]
  },
  {
   "cell_type": "code",
   "execution_count": null,
   "metadata": {},
   "outputs": [],
   "source": []
  },
  {
   "cell_type": "code",
   "execution_count": 2,
   "metadata": {},
   "outputs": [
    {
     "data": {
      "text/plain": [
       "array([ 1,  2,  3, -3,  4,  1,  2,  3, -3,  5,  6, -2,  7, -5],\n",
       "      dtype=int32)"
      ]
     },
     "execution_count": 2,
     "metadata": {},
     "output_type": "execute_result"
    }
   ],
   "source": [
    "parser.parse_bytestring(b'((a b c)d(a b c)(e f) g)')"
   ]
  },
  {
   "cell_type": "code",
   "execution_count": 9,
   "metadata": {},
   "outputs": [
    {
     "data": {
      "text/plain": [
       "{b'a': 1, b'b': 2, b'c': 3, b'd': 4, b'e': 5, b'f': 6, b'g': 7}"
      ]
     },
     "execution_count": 9,
     "metadata": {},
     "output_type": "execute_result"
    }
   ],
   "source": [
    "parser.dict"
   ]
  },
  {
   "cell_type": "code",
   "execution_count": 5,
   "metadata": {},
   "outputs": [
    {
     "data": {
      "text/plain": [
       "{b'a': 177340,\n",
       " b'b': 177341,\n",
       " b'c': 177342,\n",
       " b'd': 177343,\n",
       " b'e': 177344,\n",
       " b'f': 177345,\n",
       " b'g': 177346}"
      ]
     },
     "execution_count": 5,
     "metadata": {},
     "output_type": "execute_result"
    }
   ],
   "source": [
    "parser.hash_dict()"
   ]
  },
  {
   "cell_type": "code",
   "execution_count": null,
   "metadata": {},
   "outputs": [],
   "source": [
    "parser.parse_bytestring(b'\"')"
   ]
  },
  {
   "cell_type": "code",
   "execution_count": null,
   "metadata": {},
   "outputs": [],
   "source": [
    "parser.dict"
   ]
  },
  {
   "cell_type": "code",
   "execution_count": 27,
   "metadata": {},
   "outputs": [
    {
     "data": {
      "text/plain": [
       "array([ 7,  7,  1,  2, 10, -5], dtype=int32)"
      ]
     },
     "execution_count": 27,
     "metadata": {},
     "output_type": "execute_result"
    }
   ],
   "source": [
    "parser.parse_bytestring(b'(g g a b h)')"
   ]
  },
  {
   "cell_type": "code",
   "execution_count": 28,
   "metadata": {},
   "outputs": [
    {
     "data": {
      "text/plain": [
       "{b'a': 1,\n",
       " b'b': 2,\n",
       " b'c': 3,\n",
       " b'd': 4,\n",
       " b'e': 5,\n",
       " b'f': 6,\n",
       " b'g': 7,\n",
       " b'abc': 8,\n",
       " b'\"abc\"': 9,\n",
       " b'h': 10}"
      ]
     },
     "execution_count": 28,
     "metadata": {},
     "output_type": "execute_result"
    }
   ],
   "source": [
    "parser.dict"
   ]
  },
  {
   "cell_type": "code",
   "execution_count": 29,
   "metadata": {},
   "outputs": [],
   "source": [
    "def process_file(filename):\n",
    "    parser = SExpParser()\n",
    "    with open(filename, 'rb') as test_file:\n",
    "        for line in test_file.read().split(b'\\n'):\n",
    "            parser.parse_bytestring(line)"
   ]
  },
  {
   "cell_type": "code",
   "execution_count": 30,
   "metadata": {},
   "outputs": [],
   "source": [
    "with open('../tests/100Mb.txt', 'rb') as test_file:\n",
    "    test_data = test_file.read().split(b'\\n')"
   ]
  },
  {
   "cell_type": "code",
   "execution_count": 31,
   "metadata": {},
   "outputs": [
    {
     "data": {
      "text/plain": [
       "9699191"
      ]
     },
     "execution_count": 31,
     "metadata": {},
     "output_type": "execute_result"
    }
   ],
   "source": [
    "max(len(line) for line in test_data)"
   ]
  },
  {
   "cell_type": "code",
   "execution_count": 32,
   "metadata": {},
   "outputs": [
    {
     "data": {
      "text/plain": [
       "108844443"
      ]
     },
     "execution_count": 32,
     "metadata": {},
     "output_type": "execute_result"
    }
   ],
   "source": [
    "sum(len(line) for line in test_data)"
   ]
  },
  {
   "cell_type": "code",
   "execution_count": 33,
   "metadata": {},
   "outputs": [
    {
     "name": "stdout",
     "output_type": "stream",
     "text": [
      "CPU times: user 1.58 s, sys: 79.6 ms, total: 1.66 s\n",
      "Wall time: 1.64 s\n"
     ]
    }
   ],
   "source": [
    "%time process_file('../tests/100Mb.txt')"
   ]
  },
  {
   "cell_type": "code",
   "execution_count": 34,
   "metadata": {},
   "outputs": [],
   "source": [
    "parser = SExpParser()"
   ]
  },
  {
   "cell_type": "code",
   "execution_count": null,
   "metadata": {},
   "outputs": [],
   "source": []
  },
  {
   "cell_type": "code",
   "execution_count": 35,
   "metadata": {},
   "outputs": [
    {
     "data": {
      "text/plain": [
       "True"
      ]
     },
     "execution_count": 35,
     "metadata": {},
     "output_type": "execute_result"
    }
   ],
   "source": [
    "np.array([check_inverse(parser, random.choice(test_data)) for _ in range(100)]).all()"
   ]
  },
  {
   "cell_type": "code",
   "execution_count": 36,
   "metadata": {},
   "outputs": [
    {
     "name": "stdout",
     "output_type": "stream",
     "text": [
      "ObjList [0]\n",
      "CoqGoal [1, 0, 0]\n",
      "goals [1, 0, 1, 0, 0]\n",
      "stack [1, 0, 1, 1, 0]\n",
      "shelf [1, 0, 1, 2, 0]\n",
      "given_up [1, 0, 1, 3, 0]\n",
      "bullet [1, 0, 1, 4, 0]\n"
     ]
    },
    {
     "data": {
      "text/plain": [
       "[0]"
      ]
     },
     "execution_count": 36,
     "metadata": {},
     "output_type": "execute_result"
    }
   ],
   "source": [
    "encode('(ObjList((CoqGoal((goals())(stack())(shelf())(given_up())(bullet())))))',\n",
    "       [1, 0, 1, 0, 1])"
   ]
  },
  {
   "cell_type": "code",
   "execution_count": 37,
   "metadata": {},
   "outputs": [],
   "source": [
    "test_bytestring = b'(ObjList((CoqGoal((goals(((info((evar(Ser_Evar 466))(name())))(ty(App(Const((Constant(MPdot(MPfile(DirPath((Id BinInt)(Id ZArith)(Id Coq))))(Id Z))(Id lt))(Instance())))((Var(Id z))(App(Const((Constant(MPfile(DirPath((Id DoubleType)(Id Abstract)(Id Cyclic)(Id Numbers)(Id Coq))))(Id base))(Instance())))((App(Const((Constant(MPfile(DirPath((Id DoubleBase)(Id CyclicDouble)(Id Bignums))))(Id ww_digits))(Instance())))((Var(Id w_digits)))))))))(hyp((((Id H))()(App(Const((Constant(MPdot(MPfile(DirPath((Id BinInt)(Id ZArith)(Id Coq))))(Id Z))(Id le))(Instance())))((App(Const((Constant(MPdot(MPfile(DirPath((Id BinInt)(Id ZArith)(Id Coq))))(Id Z))(Id mul))(Instance())))((App(Construct((((MutInd(MPfile(DirPath((Id BinNums)(Id Numbers)(Id Coq))))(Id Z))0)2)(Instance())))((App(Construct((((MutInd(MPfile(DirPath((Id BinNums)(Id Numbers)(Id Coq))))(Id positive))0)2)(Instance())))((Construct((((MutInd(MPfile(DirPath((Id BinNums)(Id Numbers)(Id Coq))))(Id positive))0)3)(Instance())))))))(App(Const((Constant(MPfile(DirPath((Id DoubleType)(Id Abstract)(Id Cyclic)(Id Numbers)(Id Coq))))(Id base))(Instance())))((Var(Id w_digits))))))(App(Const((Constant(MPfile(DirPath((Id DoubleType)(Id Abstract)(Id Cyclic)(Id Numbers)(Id Coq))))(Id base))(Instance())))((App(Const((Constant(MPfile(DirPath((Id DoubleBase)(Id CyclicDouble)(Id Bignums))))(Id ww_digits))(Instance())))((Var(Id w_digits)))))))))(((Id H3))()(App(Const((Constant(MPdot(MPfile(DirPath((Id BinInt)(Id ZArith)(Id Coq))))(Id Z))(Id lt))(Instance())))((App(Construct((((MutInd(MPfile(DirPath((Id BinNums)(Id Numbers)(Id Coq))))(Id Z))0)2)(Instance())))((Construct((((MutInd(MPfile(DirPath((Id BinNums)(Id Numbers)(Id Coq))))(Id positive))0)3)(Instance())))))(App(Const((Constant(MPfile(DirPath((Id DoubleType)(Id Abstract)(Id Cyclic)(Id Numbers)(Id Coq))))(Id base))(Instance())))((Var(Id w_digits)))))))(((Id H2))()(App(Ind(((MutInd(MPfile(DirPath((Id Logic)(Id Init)(Id Coq))))(Id and))0)(Instance())))((App(Const((Constant(MPdot(MPfile(DirPath((Id BinInt)(Id ZArith)(Id Coq))))(Id Z))(Id le))(Instance())))((Construct((((MutInd(MPfile(DirPath((Id BinNums)(Id Numbers)(Id Coq))))(Id Z))0)1)(Instance())))(App(Const((Constant(MPdot(MPfile(DirPath((Id BinInt)(Id ZArith)(Id Coq))))(Id Z))(Id mul))(Instance())))((App(Var(Id w_to_Z))((Var(Id xh))))(App(Var(Id w_to_Z))((Var(Id yl))))))))(App(Const((Constant(MPdot(MPfile(DirPath((Id BinInt)(Id ZArith)(Id Coq))))(Id Z))(Id le))(Instance())))((App(Const((Constant(MPdot(MPfile(DirPath((Id BinInt)(Id ZArith)(Id Coq))))(Id Z))(Id mul))(Instance())))((App(Var(Id w_to_Z))((Var(Id xh))))(App(Var(Id w_to_Z))((Var(Id yl))))))(App(Const((Constant(MPdot(MPfile(DirPath((Id BinInt)(Id ZArith)(Id Coq))))(Id Z))(Id add))(Instance())))((App(Const((Constant(MPdot(MPfile(DirPath((Id BinInt)(Id ZArith)(Id Coq))))(Id Z))(Id sub))(Instance())))((App(Const((Constant(MPfile(DirPath((Id DoubleType)(Id Abstract)(Id Cyclic)(Id Numbers)(Id Coq))))(Id base))(Instance())))((App(Const((Constant(MPfile(DirPath((Id DoubleBase)(Id CyclicDouble)(Id Bignums))))(Id ww_digits))(Instance())))((Var(Id w_digits))))))(App(Const((Constant(MPdot(MPfile(DirPath((Id BinInt)(Id ZArith)(Id Coq))))(Id Z))(Id mul))(Instance())))((App(Construct((((MutInd(MPfile(DirPath((Id BinNums)(Id Numbers)(Id Coq))))(Id Z))0)2)(Instance())))((App(Construct((((MutInd(MPfile(DirPath((Id BinNums)(Id Numbers)(Id Coq))))(Id positive))0)2)(Instance())))((Construct((((MutInd(MPfile(DirPath((Id BinNums)(Id Numbers)(Id Coq))))(Id positive))0)3)(Instance())))))))(App(Const((Constant(MPfile(DirPath((Id DoubleType)(Id Abstract)(Id Cyclic)(Id Numbers)(Id Coq))))(Id base))(Instance())))((Var(Id w_digits))))))))(App(Construct((((MutInd(MPfile(DirPath((Id BinNums)(Id Numbers)(Id Coq))))(Id Z))0)2)(Instance())))((Construct((((MutInd(MPfile(DirPath((Id BinNums)(Id Numbers)(Id Coq))))(Id positive))0)3)(Instance()))))))))))))(((Id H1))()(App(Ind(((MutInd(MPfile(DirPath((Id Logic)(Id Init)(Id Coq))))(Id and))0)(Instance())))((App(Const((Constant(MPdot(MPfile(DirPath((Id BinInt)(Id ZArith)(Id Coq))))(Id Z))(Id le))(Instance())))((Construct((((MutInd(MPfile(DirPath((Id BinNums)(Id Numbers)(Id Coq))))(Id Z))0)1)(Instance())))(App(Const((Constant(MPdot(MPfile(DirPath((Id BinInt)(Id ZArith)(Id Coq))))(Id Z))(Id mul))(Instance())))((App(Var(Id w_to_Z))((Var(Id xl))))(App(Var(Id w_to_Z))((Var(Id yh))))))))(App(Const((Constant(MPdot(MPfile(DirPath((Id BinInt)(Id ZArith)(Id Coq))))(Id Z))(Id le))(Instance())))((App(Const((Constant(MPdot(MPfile(DirPath((Id BinInt)(Id ZArith)(Id Coq))))(Id Z))(Id mul))(Instance())))((App(Var(Id w_to_Z))((Var(Id xl))))(App(Var(Id w_to_Z))((Var(Id yh))))))(App(Const((Constant(MPdot(MPfile(DirPath((Id BinInt)(Id ZArith)(Id Coq))))(Id Z))(Id add))(Instance())))((App(Const((Constant(MPdot(MPfile(DirPath((Id BinInt)(Id ZArith)(Id Coq))))(Id Z))(Id sub))(Instance())))((App(Const((Constant(MPfile(DirPath((Id DoubleType)(Id Abstract)(Id Cyclic)(Id Numbers)(Id Coq))))(Id base))(Instance())))((App(Const((Constant(MPfile(DirPath((Id DoubleBase)(Id CyclicDouble)(Id Bignums))))(Id ww_digits))(Instance())))((Var(Id w_digits))))))(App(Const((Constant(MPdot(MPfile(DirPath((Id BinInt)(Id ZArith)(Id Coq))))(Id Z))(Id mul))(Instance())))((App(Construct((((MutInd(MPfile(DirPath((Id BinNums)(Id Numbers)(Id Coq))))(Id Z))0)2)(Instance())))((App(Construct((((MutInd(MPfile(DirPath((Id BinNums)(Id Numbers)(Id Coq))))(Id positive))0)2)(Instance())))((Construct((((MutInd(MPfile(DirPath((Id BinNums)(Id Numbers)(Id Coq))))(Id positive))0)3)(Instance())))))))(App(Const((Constant(MPfile(DirPath((Id DoubleType)(Id Abstract)(Id Cyclic)(Id Numbers)(Id Coq))))(Id base))(Instance())))((Var(Id w_digits))))))))(App(Construct((((MutInd(MPfile(DirPath((Id BinNums)(Id Numbers)(Id Coq))))(Id Z))0)2)(Instance())))((Construct((((MutInd(MPfile(DirPath((Id BinNums)(Id Numbers)(Id Coq))))(Id positive))0)3)(Instance()))))))))))))(((Id l))()(App(Const((Constant(MPdot(MPfile(DirPath((Id BinInt)(Id ZArith)(Id Coq))))(Id Z))(Id le))(Instance())))((App(Const((Constant(MPfile(DirPath((Id DoubleType)(Id Abstract)(Id Cyclic)(Id Numbers)(Id Coq))))(Id base))(Instance())))((App(Const((Constant(MPfile(DirPath((Id DoubleBase)(Id CyclicDouble)(Id Bignums))))(Id ww_digits))(Instance())))((Var(Id w_digits))))))(Var(Id z)))))(((Id Heq))()(App(Ind(((MutInd(MPfile(DirPath((Id Logic)(Id Init)(Id Coq))))(Id eq))0)(Instance())))((Ind(((MutInd(MPfile(DirPath((Id BinNums)(Id Numbers)(Id Coq))))(Id Z))0)(Instance())))(App(Const((Constant(MPdot(MPfile(DirPath((Id BinInt)(Id ZArith)(Id Coq))))(Id Z))(Id add))(Instance())))((App(Const((Constant(MPdot(MPfile(DirPath((Id BinInt)(Id ZArith)(Id Coq))))(Id Z))(Id mul))(Instance())))((App(Var(Id w_to_Z))((Var(Id xh))))(App(Var(Id w_to_Z))((Var(Id yl))))))(App(Const((Constant(MPdot(MPfile(DirPath((Id BinInt)(Id ZArith)(Id Coq))))(Id Z))(Id mul))(Instance())))((App(Var(Id w_to_Z))((Var(Id xl))))(App(Var(Id w_to_Z))((Var(Id yh))))))))(App(Const((Constant(MPdot(MPfile(DirPath((Id BinInt)(Id ZArith)(Id Coq))))(Id Z))(Id add))(Instance())))((App(Const((Constant(MPfile(DirPath((Id DoubleType)(Id Abstract)(Id Cyclic)(Id Numbers)(Id Coq))))(Id base))(Instance())))((App(Const((Constant(MPfile(DirPath((Id DoubleBase)(Id CyclicDouble)(Id Bignums))))(Id ww_digits))(Instance())))((Var(Id w_digits))))))(Var(Id z)))))))(((Id Hle))()(App(Const((Constant(MPdot(MPfile(DirPath((Id BinInt)(Id ZArith)(Id Coq))))(Id Z))(Id le))(Instance())))((Construct((((MutInd(MPfile(DirPath((Id BinNums)(Id Numbers)(Id Coq))))(Id Z))0)1)(Instance())))(Var(Id z)))))(((Id z))()(Ind(((MutInd(MPfile(DirPath((Id BinNums)(Id Numbers)(Id Coq))))(Id Z))0)(Instance()))))(((Id xh)(Id xl)(Id yh)(Id yl))()(Var(Id w)))(((Id spec_ww_sub_c))()(Prod((binder_name(Name(Id x)))(binder_relevance Relevant))(App(Ind(((MutInd(MPfile(DirPath((Id DoubleType)(Id Abstract)(Id Cyclic)(Id Numbers)(Id Coq))))(Id zn2z))0)(Instance())))((Var(Id w))))(Prod((binder_name(Name(Id y)))(binder_relevance Relevant))(App(Ind(((MutInd(MPfile(DirPath((Id DoubleType)(Id Abstract)(Id Cyclic)(Id Numbers)(Id Coq))))(Id zn2z))0)(Instance())))((Var(Id w))))(App(Ind(((MutInd(MPfile(DirPath((Id Logic)(Id Init)(Id Coq))))(Id eq))0)(Instance())))((Ind(((MutInd(MPfile(DirPath((Id BinNums)(Id Numbers)(Id Coq))))(Id Z))0)(Instance())))(App(Const((Constant(MPfile(DirPath((Id DoubleType)(Id Abstract)(Id Cyclic)(Id Numbers)(Id Coq))))(Id interp_carry))(Instance())))((App(Ind(((MutInd(MPfile(DirPath((Id DoubleType)(Id Abstract)(Id Cyclic)(Id Numbers)(Id Coq))))(Id zn2z))0)(Instance())))((Var(Id w))))(App(Construct((((MutInd(MPfile(DirPath((Id BinNums)(Id Numbers)(Id Coq))))(Id Z))0)3)(Instance())))((Construct((((MutInd(MPfile(DirPath((Id BinNums)(Id Numbers)(Id Coq))))(Id positive))0)3)(Instance())))))(App(Const((Constant(MPfile(DirPath((Id DoubleType)(Id Abstract)(Id Cyclic)(Id Numbers)(Id Coq))))(Id base))(Instance())))((App(Const((Constant(MPfile(DirPath((Id DoubleBase)(Id CyclicDouble)(Id Bignums))))(Id ww_digits))(Instance())))((Var(Id w_digits))))))(App(Const((Constant(MPfile(DirPath((Id DoubleBase)(Id CyclicDouble)(Id Bignums))))(Id ww_to_Z))(Instance())))((Var(Id w))(Var(Id w_digits))(Var(Id w_to_Z))))(App(Var(Id ww_sub_c))((Rel 2)(Rel 1)))))(App(Const((Constant(MPdot(MPfile(DirPath((Id BinInt)(Id ZArith)(Id Coq))))(Id Z))(Id sub))(Instance())))((App(Const((Constant(MPfile(DirPath((Id DoubleBase)(Id CyclicDouble)(Id Bignums))))(Id ww_to_Z))(Instance())))((Var(Id w))(Var(Id w_digits))(Var(Id w_to_Z))(Rel 2)))(App(Const((Constant(MPfile(DirPath((Id DoubleBase)(Id CyclicDouble)(Id Bignums))))(Id ww_to_Z))(Instance())))((Var(Id w))(Var(Id w_digits))(Var(Id w_to_Z))(Rel 1))))))))))(((Id spec_ww_sub))()(Prod((binder_name(Name(Id x)))(binder_relevance Relevant))(App(Ind(((MutInd(MPfile(DirPath((Id DoubleType)(Id Abstract)(Id Cyclic)(Id Numbers)(Id Coq))))(Id zn2z))0)(Instance())))((Var(Id w))))(Prod((binder_name(Name(Id y)))(binder_relevance Relevant))(App(Ind(((MutInd(MPfile(DirPath((Id DoubleType)(Id Abstract)(Id Cyclic)(Id Numbers)(Id Coq))))(Id zn2z))0)(Instance())))((Var(Id w))))(App(Ind(((MutInd(MPfile(DirPath((Id Logic)(Id Init)(Id Coq))))(Id eq))0)(Instance())))((Ind(((MutInd(MPfile(DirPath((Id BinNums)(Id Numbers)(Id Coq))))(Id Z))0)(Instance())))(App(Const((Constant(MPfile(DirPath((Id DoubleBase)(Id CyclicDouble)(Id Bignums))))(Id ww_to_Z))(Instance())))((Var(Id w))(Var(Id w_digits))(Var(Id w_to_Z))(App(Var(Id ww_sub))((Rel 2)(Rel 1)))))(App(Const((Constant(MPdot(MPfile(DirPath((Id BinInt)(Id ZArith)(Id Coq))))(Id Z))(Id modulo))(Instance())))((App(Const((Constant(MPdot(MPfile(DirPath((Id BinInt)(Id ZArith)(Id Coq))))(Id Z))(Id sub))(Instance())))((App(Const((Constant(MPfile(DirPath((Id DoubleBase)(Id CyclicDouble)(Id Bignums))))(Id ww_to_Z))(Instance())))((Var(Id w))(Var(Id w_digits))(Var(Id w_to_Z))(Rel 2)))(App(Const((Constant(MPfile(DirPath((Id DoubleBase)(Id CyclicDouble)(Id Bignums))))(Id ww_to_Z))(Instance())))((Var(Id w))(Var(Id w_digits))(Var(Id w_to_Z))(Rel 1)))))(App(Const((Constant(MPfile(DirPath((Id DoubleType)(Id Abstract)(Id Cyclic)(Id Numbers)(Id Coq))))(Id base))(Instance())))((App(Const((Constant(MPfile(DirPath((Id DoubleBase)(Id CyclicDouble)(Id Bignums))))(Id ww_digits))(Instance())))((Var(Id w_digits)))))))))))))(((Id spec_ww_add_carry))()(Prod((binder_name(Name(Id x)))(binder_relevance Relevant))(App(Ind(((MutInd(MPfile(DirPath((Id DoubleType)(Id Abstract)(Id Cyclic)(Id Numbers)(Id Coq))))(Id zn2z))0)(Instance())))((Var(Id w))))(Prod((binder_name(Name(Id y)))(binder_relevance Relevant))(App(Ind(((MutInd(MPfile(DirPath((Id DoubleType)(Id Abstract)(Id Cyclic)(Id Numbers)(Id Coq))))(Id zn2z))0)(Instance())))((Var(Id w))))(App(Ind(((MutInd(MPfile(DirPath((Id Logic)(Id Init)(Id Coq))))(Id eq))0)(Instance())))((Ind(((MutInd(MPfile(DirPath((Id BinNums)(Id Numbers)(Id Coq))))(Id Z))0)(Instance())))(App(Const((Constant(MPfile(DirPath((Id DoubleBase)(Id CyclicDouble)(Id Bignums))))(Id ww_to_Z))(Instance())))((Var(Id w))(Var(Id w_digits))(Var(Id w_to_Z))(App(Var(Id ww_add_carry))((Rel 2)(Rel 1)))))(App(Const((Constant(MPdot(MPfile(DirPath((Id BinInt)(Id ZArith)(Id Coq))))(Id Z))(Id modulo))(Instance())))((App(Const((Constant(MPdot(MPfile(DirPath((Id BinInt)(Id ZArith)(Id Coq))))(Id Z))(Id add))(Instance())))((App(Const((Constant(MPdot(MPfile(DirPath((Id BinInt)(Id ZArith)(Id Coq))))(Id Z))(Id add))(Instance())))((App(Const((Constant(MPfile(DirPath((Id DoubleBase)(Id CyclicDouble)(Id Bignums))))(Id ww_to_Z))(Instance())))((Var(Id w))(Var(Id w_digits))(Var(Id w_to_Z))(Rel 2)))(App(Const((Constant(MPfile(DirPath((Id DoubleBase)(Id CyclicDouble)(Id Bignums))))(Id ww_to_Z))(Instance())))((Var(Id w))(Var(Id w_digits))(Var(Id w_to_Z))(Rel 1)))))(App(Construct((((MutInd(MPfile(DirPath((Id BinNums)(Id Numbers)(Id Coq))))(Id Z))0)2)(Instance())))((Construct((((MutInd(MPfile(DirPath((Id BinNums)(Id Numbers)(Id Coq))))(Id positive))0)3)(Instance())))))))(App(Const((Constant(MPfile(DirPath((Id DoubleType)(Id Abstract)(Id Cyclic)(Id Numbers)(Id Coq))))(Id base))(Instance())))((App(Const((Constant(MPfile(DirPath((Id DoubleBase)(Id CyclicDouble)(Id Bignums))))(Id ww_digits))(Instance())))((Var(Id w_digits)))))))))))))(((Id spec_ww_add))()(Prod((binder_name(Name(Id x)))(binder_relevance Relevant))(App(Ind(((MutInd(MPfile(DirPath((Id DoubleType)(Id Abstract)(Id Cyclic)(Id Numbers)(Id Coq))))(Id zn2z))0)(Instance())))((Var(Id w))))(Prod((binder_name(Name(Id y)))(binder_relevance Relevant))(App(Ind(((MutInd(MPfile(DirPath((Id DoubleType)(Id Abstract)(Id Cyclic)(Id Numbers)(Id Coq))))(Id zn2z))0)(Instance())))((Var(Id w))))(App(Ind(((MutInd(MPfile(DirPath((Id Logic)(Id Init)(Id Coq))))(Id eq))0)(Instance())))((Ind(((MutInd(MPfile(DirPath((Id BinNums)(Id Numbers)(Id Coq))))(Id Z))0)(Instance())))(App(Const((Constant(MPfile(DirPath((Id DoubleBase)(Id CyclicDouble)(Id Bignums))))(Id ww_to_Z))(Instance())))((Var(Id w))(Var(Id w_digits))(Var(Id w_to_Z))(App(Var(Id ww_add))((Rel 2)(Rel 1)))))(App(Const((Constant(MPdot(MPfile(DirPath((Id BinInt)(Id ZArith)(Id Coq))))(Id Z))(Id modulo))(Instance())))((App(Const((Constant(MPdot(MPfile(DirPath((Id BinInt)(Id ZArith)(Id Coq))))(Id Z))(Id add))(Instance())))((App(Const((Constant(MPfile(DirPath((Id DoubleBase)(Id CyclicDouble)(Id Bignums))))(Id ww_to_Z))(Instance())))((Var(Id w))(Var(Id w_digits))(Var(Id w_to_Z))(Rel 2)))(App(Const((Constant(MPfile(DirPath((Id DoubleBase)(Id CyclicDouble)(Id Bignums))))(Id ww_to_Z))(Instance())))((Var(Id w))(Var(Id w_digits))(Var(Id w_to_Z))(Rel 1)))))(App(Const((Constant(MPfile(DirPath((Id DoubleType)(Id Abstract)(Id Cyclic)(Id Numbers)(Id Coq))))(Id base))(Instance())))((App(Const((Constant(MPfile(DirPath((Id DoubleBase)(Id CyclicDouble)(Id Bignums))))(Id ww_digits))(Instance())))((Var(Id w_digits)))))))))))))(((Id spec_ww_add_c))()(Prod((binder_name(Name(Id x)))(binder_relevance Relevant))(App(Ind(((MutInd(MPfile(DirPath((Id DoubleType)(Id Abstract)(Id Cyclic)(Id Numbers)(Id Coq))))(Id zn2z))0)(Instance())))((Var(Id w))))(Prod((binder_name(Name(Id y)))(binder_relevance Relevant))(App(Ind(((MutInd(MPfile(DirPath((Id DoubleType)(Id Abstract)(Id Cyclic)(Id Numbers)(Id Coq))))(Id zn2z))0)(Instance())))((Var(Id w))))(App(Ind(((MutInd(MPfile(DirPath((Id Logic)(Id Init)(Id Coq))))(Id eq))0)(Instance())))((Ind(((MutInd(MPfile(DirPath((Id BinNums)(Id Numbers)(Id Coq))))(Id Z))0)(Instance())))(App(Const((Constant(MPfile(DirPath((Id DoubleType)(Id Abstract)(Id Cyclic)(Id Numbers)(Id Coq))))(Id interp_carry))(Instance())))((App(Ind(((MutInd(MPfile(DirPath((Id DoubleType)(Id Abstract)(Id Cyclic)(Id Numbers)(Id Coq))))(Id zn2z))0)(Instance())))((Var(Id w))))(App(Construct((((MutInd(MPfile(DirPath((Id BinNums)(Id Numbers)(Id Coq))))(Id Z))0)2)(Instance())))((Construct((((MutInd(MPfile(DirPath((Id BinNums)(Id Numbers)(Id Coq))))(Id positive))0)3)(Instance())))))(App(Const((Constant(MPfile(DirPath((Id DoubleType)(Id Abstract)(Id Cyclic)(Id Numbers)(Id Coq))))(Id base))(Instance())))((App(Const((Constant(MPfile(DirPath((Id DoubleBase)(Id CyclicDouble)(Id Bignums))))(Id ww_digits))(Instance())))((Var(Id w_digits))))))(App(Const((Constant(MPfile(DirPath((Id DoubleBase)(Id CyclicDouble)(Id Bignums))))(Id ww_to_Z))(Instance())))((Var(Id w))(Var(Id w_digits))(Var(Id w_to_Z))))(App(Var(Id ww_add_c))((Rel 2)(Rel 1)))))(App(Const((Constant(MPdot(MPfile(DirPath((Id BinInt)(Id ZArith)(Id Coq))))(Id Z))(Id add))(Instance())))((App(Const((Constant(MPfile(DirPath((Id DoubleBase)(Id CyclicDouble)(Id Bignums))))(Id ww_to_Z))(Instance())))((Var(Id w))(Var(Id w_digits))(Var(Id w_to_Z))(Rel 2)))(App(Const((Constant(MPfile(DirPath((Id DoubleBase)(Id CyclicDouble)(Id Bignums))))(Id ww_to_Z))(Instance())))((Var(Id w))(Var(Id w_digits))(Var(Id w_to_Z))(Rel 1))))))))))(((Id spec_w_square_c))()(Prod((binder_name(Name(Id x)))(binder_relevance Relevant))(Var(Id w))(App(Ind(((MutInd(MPfile(DirPath((Id Logic)(Id Init)(Id Coq))))(Id eq))0)(Instance())))((Ind(((MutInd(MPfile(DirPath((Id BinNums)(Id Numbers)(Id Coq))))(Id Z))0)(Instance())))(App(Const((Constant(MPfile(DirPath((Id DoubleBase)(Id CyclicDouble)(Id Bignums))))(Id ww_to_Z))(Instance())))((Var(Id w))(Var(Id w_digits))(Var(Id w_to_Z))(App(Var(Id w_square_c))((Rel 1)))))(App(Const((Constant(MPdot(MPfile(DirPath((Id BinInt)(Id ZArith)(Id Coq))))(Id Z))(Id mul))(Instance())))((App(Var(Id w_to_Z))((Rel 1)))(App(Var(Id w_to_Z))((Rel 1)))))))))(((Id spec_w_mul))()(Prod((binder_name(Name(Id x)))(binder_relevance Relevant))(Var(Id w))(Prod((binder_name(Name(Id y)))(binder_relevance Relevant))(Var(Id w))(App(Ind(((MutInd(MPfile(DirPath((Id Logic)(Id Init)(Id Coq))))(Id eq))0)(Instance())))((Ind(((MutInd(MPfile(DirPath((Id BinNums)(Id Numbers)(Id Coq))))(Id Z))0)(Instance())))(App(Var(Id w_to_Z))((App(Var(Id w_mul))((Rel 2)(Rel 1)))))(App(Const((Constant(MPdot(MPfile(DirPath((Id BinInt)(Id ZArith)(Id Coq))))(Id Z))(Id modulo))(Instance())))((App(Const((Constant(MPdot(MPfile(DirPath((Id BinInt)(Id ZArith)(Id Coq))))(Id Z))(Id mul))(Instance())))((App(Var(Id w_to_Z))((Rel 2)))(App(Var(Id w_to_Z))((Rel 1)))))(App(Const((Constant(MPfile(DirPath((Id DoubleType)(Id Abstract)(Id Cyclic)(Id Numbers)(Id Coq))))(Id base))(Instance())))((Var(Id w_digits)))))))))))(((Id spec_w_mul_c))()(Prod((binder_name(Name(Id x)))(binder_relevance Relevant))(Var(Id w))(Prod((binder_name(Name(Id y)))(binder_relevance Relevant))(Var(Id w))(App(Ind(((MutInd(MPfile(DirPath((Id Logic)(Id Init)(Id Coq))))(Id eq))0)(Instance())))((Ind(((MutInd(MPfile(DirPath((Id BinNums)(Id Numbers)(Id Coq))))(Id Z))0)(Instance())))(App(Const((Constant(MPfile(DirPath((Id DoubleBase)(Id CyclicDouble)(Id Bignums))))(Id ww_to_Z))(Instance())))((Var(Id w))(Var(Id w_digits))(Var(Id w_to_Z))(App(Var(Id w_mul_c))((Rel 2)(Rel 1)))))(App(Const((Constant(MPdot(MPfile(DirPath((Id BinInt)(Id ZArith)(Id Coq))))(Id Z))(Id mul))(Instance())))((App(Var(Id w_to_Z))((Rel 2)))(App(Var(Id w_to_Z))((Rel 1))))))))))(((Id spec_w_sub))()(Prod((binder_name(Name(Id x)))(binder_relevance Relevant))(Var(Id w))(Prod((binder_name(Name(Id y)))(binder_relevance Relevant))(Var(Id w))(App(Ind(((MutInd(MPfile(DirPath((Id Logic)(Id Init)(Id Coq))))(Id eq))0)(Instance())))((Ind(((MutInd(MPfile(DirPath((Id BinNums)(Id Numbers)(Id Coq))))(Id Z))0)(Instance())))(App(Var(Id w_to_Z))((App(Var(Id w_sub))((Rel 2)(Rel 1)))))(App(Const((Constant(MPdot(MPfile(DirPath((Id BinInt)(Id ZArith)(Id Coq))))(Id Z))(Id modulo))(Instance())))((App(Const((Constant(MPdot(MPfile(DirPath((Id BinInt)(Id ZArith)(Id Coq))))(Id Z))(Id sub))(Instance())))((App(Var(Id w_to_Z))((Rel 2)))(App(Var(Id w_to_Z))((Rel 1)))))(App(Const((Constant(MPfile(DirPath((Id DoubleType)(Id Abstract)(Id Cyclic)(Id Numbers)(Id Coq))))(Id base))(Instance())))((Var(Id w_digits)))))))))))(((Id spec_w_add))()(Prod((binder_name(Name(Id x)))(binder_relevance Relevant))(Var(Id w))(Prod((binder_name(Name(Id y)))(binder_relevance Relevant))(Var(Id w))(App(Ind(((MutInd(MPfile(DirPath((Id Logic)(Id Init)(Id Coq))))(Id eq))0)(Instance())))((Ind(((MutInd(MPfile(DirPath((Id BinNums)(Id Numbers)(Id Coq))))(Id Z))0)(Instance())))(App(Var(Id w_to_Z))((App(Var(Id w_add))((Rel 2)(Rel 1)))))(App(Const((Constant(MPdot(MPfile(DirPath((Id BinInt)(Id ZArith)(Id Coq))))(Id Z))(Id modulo))(Instance())))((App(Const((Constant(MPdot(MPfile(DirPath((Id BinInt)(Id ZArith)(Id Coq))))(Id Z))(Id add))(Instance())))((App(Var(Id w_to_Z))((Rel 2)))(App(Var(Id w_to_Z))((Rel 1)))))(App(Const((Constant(MPfile(DirPath((Id DoubleType)(Id Abstract)(Id Cyclic)(Id Numbers)(Id Coq))))(Id base))(Instance())))((Var(Id w_digits)))))))))))(((Id spec_w_add_c))()(Prod((binder_name(Name(Id x)))(binder_relevance Relevant))(Var(Id w))(Prod((binder_name(Name(Id y)))(binder_relevance Relevant))(Var(Id w))(App(Ind(((MutInd(MPfile(DirPath((Id Logic)(Id Init)(Id Coq))))(Id eq))0)(Instance())))((Ind(((MutInd(MPfile(DirPath((Id BinNums)(Id Numbers)(Id Coq))))(Id Z))0)(Instance())))(App(Const((Constant(MPfile(DirPath((Id DoubleType)(Id Abstract)(Id Cyclic)(Id Numbers)(Id Coq))))(Id interp_carry))(Instance())))((Var(Id w))(App(Construct((((MutInd(MPfile(DirPath((Id BinNums)(Id Numbers)(Id Coq))))(Id Z))0)2)(Instance())))((Construct((((MutInd(MPfile(DirPath((Id BinNums)(Id Numbers)(Id Coq))))(Id positive))0)3)(Instance())))))(App(Const((Constant(MPfile(DirPath((Id DoubleType)(Id Abstract)(Id Cyclic)(Id Numbers)(Id Coq))))(Id base))(Instance())))((Var(Id w_digits))))(Var(Id w_to_Z))(App(Var(Id w_add_c))((Rel 2)(Rel 1)))))(App(Const((Constant(MPdot(MPfile(DirPath((Id BinInt)(Id ZArith)(Id Coq))))(Id Z))(Id add))(Instance())))((App(Var(Id w_to_Z))((Rel 2)))(App(Var(Id w_to_Z))((Rel 1))))))))))(((Id spec_w_succ))()(Prod((binder_name(Name(Id x)))(binder_relevance Relevant))(Var(Id w))(App(Ind(((MutInd(MPfile(DirPath((Id Logic)(Id Init)(Id Coq))))(Id eq))0)(Instance())))((Ind(((MutInd(MPfile(DirPath((Id BinNums)(Id Numbers)(Id Coq))))(Id Z))0)(Instance())))(App(Var(Id w_to_Z))((App(Var(Id w_succ))((Rel 1)))))(App(Const((Constant(MPdot(MPfile(DirPath((Id BinInt)(Id ZArith)(Id Coq))))(Id Z))(Id modulo))(Instance())))((App(Const((Constant(MPdot(MPfile(DirPath((Id BinInt)(Id ZArith)(Id Coq))))(Id Z))(Id add))(Instance())))((App(Var(Id w_to_Z))((Rel 1)))(App(Construct((((MutInd(MPfile(DirPath((Id BinNums)(Id Numbers)(Id Coq))))(Id Z))0)2)(Instance())))((Construct((((MutInd(MPfile(DirPath((Id BinNums)(Id Numbers)(Id Coq))))(Id positive))0)3)(Instance())))))))(App(Const((Constant(MPfile(DirPath((Id DoubleType)(Id Abstract)(Id Cyclic)(Id Numbers)(Id Coq))))(Id base))(Instance())))((Var(Id w_digits))))))))))(((Id spec_w_compare))()(Prod((binder_name(Name(Id x)))(binder_relevance Relevant))(Var(Id w))(Prod((binder_name(Name(Id y)))(binder_relevance Relevant))(Var(Id w))(App(Ind(((MutInd(MPfile(DirPath((Id Logic)(Id Init)(Id Coq))))(Id eq))0)(Instance())))((Ind(((MutInd(MPfile(DirPath((Id Datatypes)(Id Init)(Id Coq))))(Id comparison))0)(Instance())))(App(Var(Id w_compare))((Rel 2)(Rel 1)))(App(Const((Constant(MPdot(MPfile(DirPath((Id BinInt)(Id ZArith)(Id Coq))))(Id Z))(Id compare))(Instance())))((App(Var(Id w_to_Z))((Rel 2)))(App(Var(Id w_to_Z))((Rel 1))))))))))(((Id spec_w_0W))()(Prod((binder_name(Name(Id l)))(binder_relevance Relevant))(Var(Id w))(App(Ind(((MutInd(MPfile(DirPath((Id Logic)(Id Init)(Id Coq))))(Id eq))0)(Instance())))((Ind(((MutInd(MPfile(DirPath((Id BinNums)(Id Numbers)(Id Coq))))(Id Z))0)(Instance())))(App(Const((Constant(MPfile(DirPath((Id DoubleBase)(Id CyclicDouble)(Id Bignums))))(Id ww_to_Z))(Instance())))((Var(Id w))(Var(Id w_digits))(Var(Id w_to_Z))(App(Var(Id w_0W))((Rel 1)))))(App(Var(Id w_to_Z))((Rel 1)))))))(((Id spec_w_W0))()(Prod((binder_name(Name(Id h)))(binder_relevance Relevant))(Var(Id w))(App(Ind(((MutInd(MPfile(DirPath((Id Logic)(Id Init)(Id Coq))))(Id eq))0)(Instance())))((Ind(((MutInd(MPfile(DirPath((Id BinNums)(Id Numbers)(Id Coq))))(Id Z))0)(Instance())))(App(Const((Constant(MPfile(DirPath((Id DoubleBase)(Id CyclicDouble)(Id Bignums))))(Id ww_to_Z))(Instance())))((Var(Id w))(Var(Id w_digits))(Var(Id w_to_Z))(App(Var(Id w_W0))((Rel 1)))))(App(Const((Constant(MPdot(MPfile(DirPath((Id BinInt)(Id ZArith)(Id Coq))))(Id Z))(Id mul))(Instance())))((App(Var(Id w_to_Z))((Rel 1)))(App(Const((Constant(MPfile(DirPath((Id DoubleType)(Id Abstract)(Id Cyclic)(Id Numbers)(Id Coq))))(Id base))(Instance())))((Var(Id w_digits))))))))))(((Id spec_w_WW))()(Prod((binder_name(Name(Id h)))(binder_relevance Relevant))(Var(Id w))(Prod((binder_name(Name(Id l)))(binder_relevance Relevant))(Var(Id w))(App(Ind(((MutInd(MPfile(DirPath((Id Logic)(Id Init)(Id Coq))))(Id eq))0)(Instance())))((Ind(((MutInd(MPfile(DirPath((Id BinNums)(Id Numbers)(Id Coq))))(Id Z))0)(Instance())))(App(Const((Constant(MPfile(DirPath((Id DoubleBase)(Id CyclicDouble)(Id Bignums))))(Id ww_to_Z))(Instance())))((Var(Id w))(Var(Id w_digits))(Var(Id w_to_Z))(App(Var(Id w_WW))((Rel 2)(Rel 1)))))(App(Const((Constant(MPdot(MPfile(DirPath((Id BinInt)(Id ZArith)(Id Coq))))(Id Z))(Id add))(Instance())))((App(Const((Constant(MPdot(MPfile(DirPath((Id BinInt)(Id ZArith)(Id Coq))))(Id Z))(Id mul))(Instance())))((App(Var(Id w_to_Z))((Rel 2)))(App(Const((Constant(MPfile(DirPath((Id DoubleType)(Id Abstract)(Id Cyclic)(Id Numbers)(Id Coq))))(Id base))(Instance())))((Var(Id w_digits))))))(App(Var(Id w_to_Z))((Rel 1))))))))))(((Id spec_to_Z))()(Prod((binder_name(Name(Id x)))(binder_relevance Relevant))(Var(Id w))(App(Ind(((MutInd(MPfile(DirPath((Id Logic)(Id Init)(Id Coq))))(Id and))0)(Instance())))((App(Const((Constant(MPdot(MPfile(DirPath((Id BinInt)(Id ZArith)(Id Coq))))(Id Z))(Id le))(Instance())))((Construct((((MutInd(MPfile(DirPath((Id BinNums)(Id Numbers)(Id Coq))))(Id Z))0)1)(Instance())))(App(Var(Id w_to_Z))((Rel 1)))))(App(Const((Constant(MPdot(MPfile(DirPath((Id BinInt)(Id ZArith)(Id Coq))))(Id Z))(Id lt))(Instance())))((App(Var(Id w_to_Z))((Rel 1)))(App(Const((Constant(MPfile(DirPath((Id DoubleType)(Id Abstract)(Id Cyclic)(Id Numbers)(Id Coq))))(Id base))(Instance())))((Var(Id w_digits))))))))))(((Id spec_w_1))()(App(Ind(((MutInd(MPfile(DirPath((Id Logic)(Id Init)(Id Coq))))(Id eq))0)(Instance())))((Ind(((MutInd(MPfile(DirPath((Id BinNums)(Id Numbers)(Id Coq))))(Id Z))0)(Instance())))(App(Var(Id w_to_Z))((Var(Id w_1))))(App(Construct((((MutInd(MPfile(DirPath((Id BinNums)(Id Numbers)(Id Coq))))(Id Z))0)2)(Instance())))((Construct((((MutInd(MPfile(DirPath((Id BinNums)(Id Numbers)(Id Coq))))(Id positive))0)3)(Instance()))))))))(((Id spec_w_0))()(App(Ind(((MutInd(MPfile(DirPath((Id Logic)(Id Init)(Id Coq))))(Id eq))0)(Instance())))((Ind(((MutInd(MPfile(DirPath((Id BinNums)(Id Numbers)(Id Coq))))(Id Z))0)(Instance())))(App(Var(Id w_to_Z))((Var(Id w_0))))(Construct((((MutInd(MPfile(DirPath((Id BinNums)(Id Numbers)(Id Coq))))(Id Z))0)1)(Instance()))))))(((Id spec_more_than_1_digit))()(App(Const((Constant(MPdot(MPfile(DirPath((Id BinInt)(Id ZArith)(Id Coq))))(Id Z))(Id lt))(Instance())))((App(Construct((((MutInd(MPfile(DirPath((Id BinNums)(Id Numbers)(Id Coq))))(Id Z))0)2)(Instance())))((Construct((((MutInd(MPfile(DirPath((Id BinNums)(Id Numbers)(Id Coq))))(Id positive))0)3)(Instance())))))(App(Construct((((MutInd(MPfile(DirPath((Id BinNums)(Id Numbers)(Id Coq))))(Id Z))0)2)(Instance())))((Var(Id w_digits)))))))(((Id w_to_Z))()(Prod((binder_name Anonymous)(binder_relevance Relevant))(Var(Id w))(Ind(((MutInd(MPfile(DirPath((Id BinNums)(Id Numbers)(Id Coq))))(Id Z))0)(Instance())))))(((Id w_digits))()(Ind(((MutInd(MPfile(DirPath((Id BinNums)(Id Numbers)(Id Coq))))(Id positive))0)(Instance()))))(((Id ww_sub))()(Prod((binder_name Anonymous)(binder_relevance Relevant))(App(Ind(((MutInd(MPfile(DirPath((Id DoubleType)(Id Abstract)(Id Cyclic)(Id Numbers)(Id Coq))))(Id zn2z))0)(Instance())))((Var(Id w))))(Prod((binder_name Anonymous)(binder_relevance Relevant))(App(Ind(((MutInd(MPfile(DirPath((Id DoubleType)(Id Abstract)(Id Cyclic)(Id Numbers)(Id Coq))))(Id zn2z))0)(Instance())))((Var(Id w))))(App(Ind(((MutInd(MPfile(DirPath((Id DoubleType)(Id Abstract)(Id Cyclic)(Id Numbers)(Id Coq))))(Id zn2z))0)(Instance())))((Var(Id w)))))))(((Id ww_sub_c))()(Prod((binder_name Anonymous)(binder_relevance Relevant))(App(Ind(((MutInd(MPfile(DirPath((Id DoubleType)(Id Abstract)(Id Cyclic)(Id Numbers)(Id Coq))))(Id zn2z))0)(Instance())))((Var(Id w))))(Prod((binder_name Anonymous)(binder_relevance Relevant))(App(Ind(((MutInd(MPfile(DirPath((Id DoubleType)(Id Abstract)(Id Cyclic)(Id Numbers)(Id Coq))))(Id zn2z))0)(Instance())))((Var(Id w))))(App(Ind(((MutInd(MPfile(DirPath((Id DoubleType)(Id Abstract)(Id Cyclic)(Id Numbers)(Id Coq))))(Id carry))0)(Instance())))((App(Ind(((MutInd(MPfile(DirPath((Id DoubleType)(Id Abstract)(Id Cyclic)(Id Numbers)(Id Coq))))(Id zn2z))0)(Instance())))((Var(Id w)))))))))(((Id ww_add)(Id ww_add_carry))()(Prod((binder_name Anonymous)(binder_relevance Relevant))(App(Ind(((MutInd(MPfile(DirPath((Id DoubleType)(Id Abstract)(Id Cyclic)(Id Numbers)(Id Coq))))(Id zn2z))0)(Instance())))((Var(Id w))))(Prod((binder_name Anonymous)(binder_relevance Relevant))(App(Ind(((MutInd(MPfile(DirPath((Id DoubleType)(Id Abstract)(Id Cyclic)(Id Numbers)(Id Coq))))(Id zn2z))0)(Instance())))((Var(Id w))))(App(Ind(((MutInd(MPfile(DirPath((Id DoubleType)(Id Abstract)(Id Cyclic)(Id Numbers)(Id Coq))))(Id zn2z))0)(Instance())))((Var(Id w)))))))(((Id ww_add_c))()(Prod((binder_name Anonymous)(binder_relevance Relevant))(App(Ind(((MutInd(MPfile(DirPath((Id DoubleType)(Id Abstract)(Id Cyclic)(Id Numbers)(Id Coq))))(Id zn2z))0)(Instance())))((Var(Id w))))(Prod((binder_name Anonymous)(binder_relevance Relevant))(App(Ind(((MutInd(MPfile(DirPath((Id DoubleType)(Id Abstract)(Id Cyclic)(Id Numbers)(Id Coq))))(Id zn2z))0)(Instance())))((Var(Id w))))(App(Ind(((MutInd(MPfile(DirPath((Id DoubleType)(Id Abstract)(Id Cyclic)(Id Numbers)(Id Coq))))(Id carry))0)(Instance())))((App(Ind(((MutInd(MPfile(DirPath((Id DoubleType)(Id Abstract)(Id Cyclic)(Id Numbers)(Id Coq))))(Id zn2z))0)(Instance())))((Var(Id w)))))))))(((Id w_square_c))()(Prod((binder_name Anonymous)(binder_relevance Relevant))(Var(Id w))(App(Ind(((MutInd(MPfile(DirPath((Id DoubleType)(Id Abstract)(Id Cyclic)(Id Numbers)(Id Coq))))(Id zn2z))0)(Instance())))((Var(Id w))))))(((Id w_mul))()(Prod((binder_name Anonymous)(binder_relevance Relevant))(Var(Id w))(Prod((binder_name Anonymous)(binder_relevance Relevant))(Var(Id w))(Var(Id w)))))(((Id w_mul_c))()(Prod((binder_name Anonymous)(binder_relevance Relevant))(Var(Id w))(Prod((binder_name Anonymous)(binder_relevance Relevant))(Var(Id w))(App(Ind(((MutInd(MPfile(DirPath((Id DoubleType)(Id Abstract)(Id Cyclic)(Id Numbers)(Id Coq))))(Id zn2z))0)(Instance())))((Var(Id w)))))))(((Id w_add)(Id w_sub))()(Prod((binder_name Anonymous)(binder_relevance Relevant))(Var(Id w))(Prod((binder_name Anonymous)(binder_relevance Relevant))(Var(Id w))(Var(Id w)))))(((Id w_add_c))()(Prod((binder_name Anonymous)(binder_relevance Relevant))(Var(Id w))(Prod((binder_name Anonymous)(binder_relevance Relevant))(Var(Id w))(App(Ind(((MutInd(MPfile(DirPath((Id DoubleType)(Id Abstract)(Id Cyclic)(Id Numbers)(Id Coq))))(Id carry))0)(Instance())))((Var(Id w)))))))(((Id w_succ))()(Prod((binder_name Anonymous)(binder_relevance Relevant))(Var(Id w))(Var(Id w))))(((Id w_compare))()(Prod((binder_name Anonymous)(binder_relevance Relevant))(Var(Id w))(Prod((binder_name Anonymous)(binder_relevance Relevant))(Var(Id w))(Ind(((MutInd(MPfile(DirPath((Id Datatypes)(Id Init)(Id Coq))))(Id comparison))0)(Instance()))))))(((Id w_W0)(Id w_0W))()(Prod((binder_name Anonymous)(binder_relevance Relevant))(Var(Id w))(App(Ind(((MutInd(MPfile(DirPath((Id DoubleType)(Id Abstract)(Id Cyclic)(Id Numbers)(Id Coq))))(Id zn2z))0)(Instance())))((Var(Id w))))))(((Id w_WW))()(Prod((binder_name Anonymous)(binder_relevance Relevant))(Var(Id w))(Prod((binder_name Anonymous)(binder_relevance Relevant))(Var(Id w))(App(Ind(((MutInd(MPfile(DirPath((Id DoubleType)(Id Abstract)(Id Cyclic)(Id Numbers)(Id Coq))))(Id zn2z))0)(Instance())))((Var(Id w)))))))(((Id w_0)(Id w_1))()(Var(Id w)))(((Id w))()(Sort(Type((((hash 334992793508252510)(data(Level((DirPath((Id DoubleMul)(Id CyclicDouble)(Id Bignums)))1))))0))))))))))(stack())(shelf())(given_up())(bullet())))))'"
   ]
  },
  {
   "cell_type": "code",
   "execution_count": 38,
   "metadata": {},
   "outputs": [
    {
     "data": {
      "text/plain": [
       "b'((((Id H)) () (App (Const ((Constant (MPdot (MPfile (DirPath ((Id BinInt) (Id ZArith) (Id Coq)))) (Id Z)) (Id le)) (Instance ()))) ((App (Const ((Constant (MPdot (MPfile (DirPath ((Id BinInt) (Id ZArith) (Id Coq)))) (Id Z)) (Id mul)) (Instance ()))) ((App (Construct ((((MutInd (MPfile (DirPath ((Id BinNums) (Id Numbers) (Id Coq)))) (Id Z)) 0) 2) (Instance ()))) ((App (Construct ((((MutInd (MPfile (DirPath ((Id BinNums) (Id Numbers) (Id Coq)))) (Id positive)) 0) 2) (Instance ()))) ((Construct ((((MutInd (MPfile (DirPath ((Id BinNums) (Id Numbers) (Id Coq)))) (Id positive)) 0) 3) (Instance ()))))))) (App (Const ((Constant (MPfile (DirPath ((Id DoubleType) (Id Abstract) (Id Cyclic) (Id Numbers) (Id Coq)))) (Id base)) (Instance ()))) ((Var (Id w_digits)))))) (App (Const ((Constant (MPfile (DirPath ((Id DoubleType) (Id Abstract) (Id Cyclic) (Id Numbers) (Id Coq)))) (Id base)) (Instance ()))) ((App (Const ((Constant (MPfile (DirPath ((Id DoubleBase) (Id CyclicDouble) (Id Bignums)))) (Id ww_digits)) (Instance ()))) ((Var (Id w_digits))))))))) (((Id H3)) () (App (Const ((Constant (MPdot (MPfile (DirPath ((Id BinInt) (Id ZArith) (Id Coq)))) (Id Z)) (Id lt)) (Instance ()))) ((App (Construct ((((MutInd (MPfile (DirPath ((Id BinNums) (Id Numbers) (Id Coq)))) (Id Z)) 0) 2) (Instance ()))) ((Construct ((((MutInd (MPfile (DirPath ((Id BinNums) (Id Numbers) (Id Coq)))) (Id positive)) 0) 3) (Instance ()))))) (App (Const ((Constant (MPfile (DirPath ((Id DoubleType) (Id Abstract) (Id Cyclic) (Id Numbers) (Id Coq)))) (Id base)) (Instance ()))) ((Var (Id w_digits))))))) (((Id H2)) () (App (Ind (((MutInd (MPfile (DirPath ((Id Logic) (Id Init) (Id Coq)))) (Id and)) 0) (Instance ()))) ((App (Const ((Constant (MPdot (MPfile (DirPath ((Id BinInt) (Id ZArith) (Id Coq)))) (Id Z)) (Id le)) (Instance ()))) ((Construct ((((MutInd (MPfile (DirPath ((Id BinNums) (Id Numbers) (Id Coq)))) (Id Z)) 0) 1) (Instance ()))) (App (Const ((Constant (MPdot (MPfile (DirPath ((Id BinInt) (Id ZArith) (Id Coq)))) (Id Z)) (Id mul)) (Instance ()))) ((App (Var (Id w_to_Z)) ((Var (Id xh)))) (App (Var (Id w_to_Z)) ((Var (Id yl)))))))) (App (Const ((Constant (MPdot (MPfile (DirPath ((Id BinInt) (Id ZArith) (Id Coq)))) (Id Z)) (Id le)) (Instance ()))) ((App (Const ((Constant (MPdot (MPfile (DirPath ((Id BinInt) (Id ZArith) (Id Coq)))) (Id Z)) (Id mul)) (Instance ()))) ((App (Var (Id w_to_Z)) ((Var (Id xh)))) (App (Var (Id w_to_Z)) ((Var (Id yl)))))) (App (Const ((Constant (MPdot (MPfile (DirPath ((Id BinInt) (Id ZArith) (Id Coq)))) (Id Z)) (Id add)) (Instance ()))) ((App (Const ((Constant (MPdot (MPfile (DirPath ((Id BinInt) (Id ZArith) (Id Coq)))) (Id Z)) (Id sub)) (Instance ()))) ((App (Const ((Constant (MPfile (DirPath ((Id DoubleType) (Id Abstract) (Id Cyclic) (Id Numbers) (Id Coq)))) (Id base)) (Instance ()))) ((App (Const ((Constant (MPfile (DirPath ((Id DoubleBase) (Id CyclicDouble) (Id Bignums)))) (Id ww_digits)) (Instance ()))) ((Var (Id w_digits)))))) (App (Const ((Constant (MPdot (MPfile (DirPath ((Id BinInt) (Id ZArith) (Id Coq)))) (Id Z)) (Id mul)) (Instance ()))) ((App (Construct ((((MutInd (MPfile (DirPath ((Id BinNums) (Id Numbers) (Id Coq)))) (Id Z)) 0) 2) (Instance ()))) ((App (Construct ((((MutInd (MPfile (DirPath ((Id BinNums) (Id Numbers) (Id Coq)))) (Id positive)) 0) 2) (Instance ()))) ((Construct ((((MutInd (MPfile (DirPath ((Id BinNums) (Id Numbers) (Id Coq)))) (Id positive)) 0) 3) (Instance ()))))))) (App (Const ((Constant (MPfile (DirPath ((Id DoubleType) (Id Abstract) (Id Cyclic) (Id Numbers) (Id Coq)))) (Id base)) (Instance ()))) ((Var (Id w_digits)))))))) (App (Construct ((((MutInd (MPfile (DirPath ((Id BinNums) (Id Numbers) (Id Coq)))) (Id Z)) 0) 2) (Instance ()))) ((Construct ((((MutInd (MPfile (DirPath ((Id BinNums) (Id Numbers) (Id Coq)))) (Id positive)) 0) 3) (Instance ())))))))))))) (((Id H1)) () (App (Ind (((MutInd (MPfile (DirPath ((Id Logic) (Id Init) (Id Coq)))) (Id and)) 0) (Instance ()))) ((App (Const ((Constant (MPdot (MPfile (DirPath ((Id BinInt) (Id ZArith) (Id Coq)))) (Id Z)) (Id le)) (Instance ()))) ((Construct ((((MutInd (MPfile (DirPath ((Id BinNums) (Id Numbers) (Id Coq)))) (Id Z)) 0) 1) (Instance ()))) (App (Const ((Constant (MPdot (MPfile (DirPath ((Id BinInt) (Id ZArith) (Id Coq)))) (Id Z)) (Id mul)) (Instance ()))) ((App (Var (Id w_to_Z)) ((Var (Id xl)))) (App (Var (Id w_to_Z)) ((Var (Id yh)))))))) (App (Const ((Constant (MPdot (MPfile (DirPath ((Id BinInt) (Id ZArith) (Id Coq)))) (Id Z)) (Id le)) (Instance ()))) ((App (Const ((Constant (MPdot (MPfile (DirPath ((Id BinInt) (Id ZArith) (Id Coq)))) (Id Z)) (Id mul)) (Instance ()))) ((App (Var (Id w_to_Z)) ((Var (Id xl)))) (App (Var (Id w_to_Z)) ((Var (Id yh)))))) (App (Const ((Constant (MPdot (MPfile (DirPath ((Id BinInt) (Id ZArith) (Id Coq)))) (Id Z)) (Id add)) (Instance ()))) ((App (Const ((Constant (MPdot (MPfile (DirPath ((Id BinInt) (Id ZArith) (Id Coq)))) (Id Z)) (Id sub)) (Instance ()))) ((App (Const ((Constant (MPfile (DirPath ((Id DoubleType) (Id Abstract) (Id Cyclic) (Id Numbers) (Id Coq)))) (Id base)) (Instance ()))) ((App (Const ((Constant (MPfile (DirPath ((Id DoubleBase) (Id CyclicDouble) (Id Bignums)))) (Id ww_digits)) (Instance ()))) ((Var (Id w_digits)))))) (App (Const ((Constant (MPdot (MPfile (DirPath ((Id BinInt) (Id ZArith) (Id Coq)))) (Id Z)) (Id mul)) (Instance ()))) ((App (Construct ((((MutInd (MPfile (DirPath ((Id BinNums) (Id Numbers) (Id Coq)))) (Id Z)) 0) 2) (Instance ()))) ((App (Construct ((((MutInd (MPfile (DirPath ((Id BinNums) (Id Numbers) (Id Coq)))) (Id positive)) 0) 2) (Instance ()))) ((Construct ((((MutInd (MPfile (DirPath ((Id BinNums) (Id Numbers) (Id Coq)))) (Id positive)) 0) 3) (Instance ()))))))) (App (Const ((Constant (MPfile (DirPath ((Id DoubleType) (Id Abstract) (Id Cyclic) (Id Numbers) (Id Coq)))) (Id base)) (Instance ()))) ((Var (Id w_digits)))))))) (App (Construct ((((MutInd (MPfile (DirPath ((Id BinNums) (Id Numbers) (Id Coq)))) (Id Z)) 0) 2) (Instance ()))) ((Construct ((((MutInd (MPfile (DirPath ((Id BinNums) (Id Numbers) (Id Coq)))) (Id positive)) 0) 3) (Instance ())))))))))))) (((Id l)) () (App (Const ((Constant (MPdot (MPfile (DirPath ((Id BinInt) (Id ZArith) (Id Coq)))) (Id Z)) (Id le)) (Instance ()))) ((App (Const ((Constant (MPfile (DirPath ((Id DoubleType) (Id Abstract) (Id Cyclic) (Id Numbers) (Id Coq)))) (Id base)) (Instance ()))) ((App (Const ((Constant (MPfile (DirPath ((Id DoubleBase) (Id CyclicDouble) (Id Bignums)))) (Id ww_digits)) (Instance ()))) ((Var (Id w_digits)))))) (Var (Id z))))) (((Id Heq)) () (App (Ind (((MutInd (MPfile (DirPath ((Id Logic) (Id Init) (Id Coq)))) (Id eq)) 0) (Instance ()))) ((Ind (((MutInd (MPfile (DirPath ((Id BinNums) (Id Numbers) (Id Coq)))) (Id Z)) 0) (Instance ()))) (App (Const ((Constant (MPdot (MPfile (DirPath ((Id BinInt) (Id ZArith) (Id Coq)))) (Id Z)) (Id add)) (Instance ()))) ((App (Const ((Constant (MPdot (MPfile (DirPath ((Id BinInt) (Id ZArith) (Id Coq)))) (Id Z)) (Id mul)) (Instance ()))) ((App (Var (Id w_to_Z)) ((Var (Id xh)))) (App (Var (Id w_to_Z)) ((Var (Id yl)))))) (App (Const ((Constant (MPdot (MPfile (DirPath ((Id BinInt) (Id ZArith) (Id Coq)))) (Id Z)) (Id mul)) (Instance ()))) ((App (Var (Id w_to_Z)) ((Var (Id xl)))) (App (Var (Id w_to_Z)) ((Var (Id yh)))))))) (App (Const ((Constant (MPdot (MPfile (DirPath ((Id BinInt) (Id ZArith) (Id Coq)))) (Id Z)) (Id add)) (Instance ()))) ((App (Const ((Constant (MPfile (DirPath ((Id DoubleType) (Id Abstract) (Id Cyclic) (Id Numbers) (Id Coq)))) (Id base)) (Instance ()))) ((App (Const ((Constant (MPfile (DirPath ((Id DoubleBase) (Id CyclicDouble) (Id Bignums)))) (Id ww_digits)) (Instance ()))) ((Var (Id w_digits)))))) (Var (Id z))))))) (((Id Hle)) () (App (Const ((Constant (MPdot (MPfile (DirPath ((Id BinInt) (Id ZArith) (Id Coq)))) (Id Z)) (Id le)) (Instance ()))) ((Construct ((((MutInd (MPfile (DirPath ((Id BinNums) (Id Numbers) (Id Coq)))) (Id Z)) 0) 1) (Instance ()))) (Var (Id z))))) (((Id z)) () (Ind (((MutInd (MPfile (DirPath ((Id BinNums) (Id Numbers) (Id Coq)))) (Id Z)) 0) (Instance ())))) (((Id xh) (Id xl) (Id yh) (Id yl)) () (Var (Id w))) (((Id spec_ww_sub_c)) () (Prod ((binder_name (Name (Id x))) (binder_relevance Relevant)) (App (Ind (((MutInd (MPfile (DirPath ((Id DoubleType) (Id Abstract) (Id Cyclic) (Id Numbers) (Id Coq)))) (Id zn2z)) 0) (Instance ()))) ((Var (Id w)))) (Prod ((binder_name (Name (Id y))) (binder_relevance Relevant)) (App (Ind (((MutInd (MPfile (DirPath ((Id DoubleType) (Id Abstract) (Id Cyclic) (Id Numbers) (Id Coq)))) (Id zn2z)) 0) (Instance ()))) ((Var (Id w)))) (App (Ind (((MutInd (MPfile (DirPath ((Id Logic) (Id Init) (Id Coq)))) (Id eq)) 0) (Instance ()))) ((Ind (((MutInd (MPfile (DirPath ((Id BinNums) (Id Numbers) (Id Coq)))) (Id Z)) 0) (Instance ()))) (App (Const ((Constant (MPfile (DirPath ((Id DoubleType) (Id Abstract) (Id Cyclic) (Id Numbers) (Id Coq)))) (Id interp_carry)) (Instance ()))) ((App (Ind (((MutInd (MPfile (DirPath ((Id DoubleType) (Id Abstract) (Id Cyclic) (Id Numbers) (Id Coq)))) (Id zn2z)) 0) (Instance ()))) ((Var (Id w)))) (App (Construct ((((MutInd (MPfile (DirPath ((Id BinNums) (Id Numbers) (Id Coq)))) (Id Z)) 0) 3) (Instance ()))) ((Construct ((((MutInd (MPfile (DirPath ((Id BinNums) (Id Numbers) (Id Coq)))) (Id positive)) 0) 3) (Instance ()))))) (App (Const ((Constant (MPfile (DirPath ((Id DoubleType) (Id Abstract) (Id Cyclic) (Id Numbers) (Id Coq)))) (Id base)) (Instance ()))) ((App (Const ((Constant (MPfile (DirPath ((Id DoubleBase) (Id CyclicDouble) (Id Bignums)))) (Id ww_digits)) (Instance ()))) ((Var (Id w_digits)))))) (App (Const ((Constant (MPfile (DirPath ((Id DoubleBase) (Id CyclicDouble) (Id Bignums)))) (Id ww_to_Z)) (Instance ()))) ((Var (Id w)) (Var (Id w_digits)) (Var (Id w_to_Z)))) (App (Var (Id ww_sub_c)) ((Rel 2) (Rel 1))))) (App (Const ((Constant (MPdot (MPfile (DirPath ((Id BinInt) (Id ZArith) (Id Coq)))) (Id Z)) (Id sub)) (Instance ()))) ((App (Const ((Constant (MPfile (DirPath ((Id DoubleBase) (Id CyclicDouble) (Id Bignums)))) (Id ww_to_Z)) (Instance ()))) ((Var (Id w)) (Var (Id w_digits)) (Var (Id w_to_Z)) (Rel 2))) (App (Const ((Constant (MPfile (DirPath ((Id DoubleBase) (Id CyclicDouble) (Id Bignums)))) (Id ww_to_Z)) (Instance ()))) ((Var (Id w)) (Var (Id w_digits)) (Var (Id w_to_Z)) (Rel 1)))))))))) (((Id spec_ww_sub)) () (Prod ((binder_name (Name (Id x))) (binder_relevance Relevant)) (App (Ind (((MutInd (MPfile (DirPath ((Id DoubleType) (Id Abstract) (Id Cyclic) (Id Numbers) (Id Coq)))) (Id zn2z)) 0) (Instance ()))) ((Var (Id w)))) (Prod ((binder_name (Name (Id y))) (binder_relevance Relevant)) (App (Ind (((MutInd (MPfile (DirPath ((Id DoubleType) (Id Abstract) (Id Cyclic) (Id Numbers) (Id Coq)))) (Id zn2z)) 0) (Instance ()))) ((Var (Id w)))) (App (Ind (((MutInd (MPfile (DirPath ((Id Logic) (Id Init) (Id Coq)))) (Id eq)) 0) (Instance ()))) ((Ind (((MutInd (MPfile (DirPath ((Id BinNums) (Id Numbers) (Id Coq)))) (Id Z)) 0) (Instance ()))) (App (Const ((Constant (MPfile (DirPath ((Id DoubleBase) (Id CyclicDouble) (Id Bignums)))) (Id ww_to_Z)) (Instance ()))) ((Var (Id w)) (Var (Id w_digits)) (Var (Id w_to_Z)) (App (Var (Id ww_sub)) ((Rel 2) (Rel 1))))) (App (Const ((Constant (MPdot (MPfile (DirPath ((Id BinInt) (Id ZArith) (Id Coq)))) (Id Z)) (Id modulo)) (Instance ()))) ((App (Const ((Constant (MPdot (MPfile (DirPath ((Id BinInt) (Id ZArith) (Id Coq)))) (Id Z)) (Id sub)) (Instance ()))) ((App (Const ((Constant (MPfile (DirPath ((Id DoubleBase) (Id CyclicDouble) (Id Bignums)))) (Id ww_to_Z)) (Instance ()))) ((Var (Id w)) (Var (Id w_digits)) (Var (Id w_to_Z)) (Rel 2))) (App (Const ((Constant (MPfile (DirPath ((Id DoubleBase) (Id CyclicDouble) (Id Bignums)))) (Id ww_to_Z)) (Instance ()))) ((Var (Id w)) (Var (Id w_digits)) (Var (Id w_to_Z)) (Rel 1))))) (App (Const ((Constant (MPfile (DirPath ((Id DoubleType) (Id Abstract) (Id Cyclic) (Id Numbers) (Id Coq)))) (Id base)) (Instance ()))) ((App (Const ((Constant (MPfile (DirPath ((Id DoubleBase) (Id CyclicDouble) (Id Bignums)))) (Id ww_digits)) (Instance ()))) ((Var (Id w_digits))))))))))))) (((Id spec_ww_add_carry)) () (Prod ((binder_name (Name (Id x))) (binder_relevance Relevant)) (App (Ind (((MutInd (MPfile (DirPath ((Id DoubleType) (Id Abstract) (Id Cyclic) (Id Numbers) (Id Coq)))) (Id zn2z)) 0) (Instance ()))) ((Var (Id w)))) (Prod ((binder_name (Name (Id y))) (binder_relevance Relevant)) (App (Ind (((MutInd (MPfile (DirPath ((Id DoubleType) (Id Abstract) (Id Cyclic) (Id Numbers) (Id Coq)))) (Id zn2z)) 0) (Instance ()))) ((Var (Id w)))) (App (Ind (((MutInd (MPfile (DirPath ((Id Logic) (Id Init) (Id Coq)))) (Id eq)) 0) (Instance ()))) ((Ind (((MutInd (MPfile (DirPath ((Id BinNums) (Id Numbers) (Id Coq)))) (Id Z)) 0) (Instance ()))) (App (Const ((Constant (MPfile (DirPath ((Id DoubleBase) (Id CyclicDouble) (Id Bignums)))) (Id ww_to_Z)) (Instance ()))) ((Var (Id w)) (Var (Id w_digits)) (Var (Id w_to_Z)) (App (Var (Id ww_add_carry)) ((Rel 2) (Rel 1))))) (App (Const ((Constant (MPdot (MPfile (DirPath ((Id BinInt) (Id ZArith) (Id Coq)))) (Id Z)) (Id modulo)) (Instance ()))) ((App (Const ((Constant (MPdot (MPfile (DirPath ((Id BinInt) (Id ZArith) (Id Coq)))) (Id Z)) (Id add)) (Instance ()))) ((App (Const ((Constant (MPdot (MPfile (DirPath ((Id BinInt) (Id ZArith) (Id Coq)))) (Id Z)) (Id add)) (Instance ()))) ((App (Const ((Constant (MPfile (DirPath ((Id DoubleBase) (Id CyclicDouble) (Id Bignums)))) (Id ww_to_Z)) (Instance ()))) ((Var (Id w)) (Var (Id w_digits)) (Var (Id w_to_Z)) (Rel 2))) (App (Const ((Constant (MPfile (DirPath ((Id DoubleBase) (Id CyclicDouble) (Id Bignums)))) (Id ww_to_Z)) (Instance ()))) ((Var (Id w)) (Var (Id w_digits)) (Var (Id w_to_Z)) (Rel 1))))) (App (Construct ((((MutInd (MPfile (DirPath ((Id BinNums) (Id Numbers) (Id Coq)))) (Id Z)) 0) 2) (Instance ()))) ((Construct ((((MutInd (MPfile (DirPath ((Id BinNums) (Id Numbers) (Id Coq)))) (Id positive)) 0) 3) (Instance ()))))))) (App (Const ((Constant (MPfile (DirPath ((Id DoubleType) (Id Abstract) (Id Cyclic) (Id Numbers) (Id Coq)))) (Id base)) (Instance ()))) ((App (Const ((Constant (MPfile (DirPath ((Id DoubleBase) (Id CyclicDouble) (Id Bignums)))) (Id ww_digits)) (Instance ()))) ((Var (Id w_digits))))))))))))) (((Id spec_ww_add)) () (Prod ((binder_name (Name (Id x))) (binder_relevance Relevant)) (App (Ind (((MutInd (MPfile (DirPath ((Id DoubleType) (Id Abstract) (Id Cyclic) (Id Numbers) (Id Coq)))) (Id zn2z)) 0) (Instance ()))) ((Var (Id w)))) (Prod ((binder_name (Name (Id y))) (binder_relevance Relevant)) (App (Ind (((MutInd (MPfile (DirPath ((Id DoubleType) (Id Abstract) (Id Cyclic) (Id Numbers) (Id Coq)))) (Id zn2z)) 0) (Instance ()))) ((Var (Id w)))) (App (Ind (((MutInd (MPfile (DirPath ((Id Logic) (Id Init) (Id Coq)))) (Id eq)) 0) (Instance ()))) ((Ind (((MutInd (MPfile (DirPath ((Id BinNums) (Id Numbers) (Id Coq)))) (Id Z)) 0) (Instance ()))) (App (Const ((Constant (MPfile (DirPath ((Id DoubleBase) (Id CyclicDouble) (Id Bignums)))) (Id ww_to_Z)) (Instance ()))) ((Var (Id w)) (Var (Id w_digits)) (Var (Id w_to_Z)) (App (Var (Id ww_add)) ((Rel 2) (Rel 1))))) (App (Const ((Constant (MPdot (MPfile (DirPath ((Id BinInt) (Id ZArith) (Id Coq)))) (Id Z)) (Id modulo)) (Instance ()))) ((App (Const ((Constant (MPdot (MPfile (DirPath ((Id BinInt) (Id ZArith) (Id Coq)))) (Id Z)) (Id add)) (Instance ()))) ((App (Const ((Constant (MPfile (DirPath ((Id DoubleBase) (Id CyclicDouble) (Id Bignums)))) (Id ww_to_Z)) (Instance ()))) ((Var (Id w)) (Var (Id w_digits)) (Var (Id w_to_Z)) (Rel 2))) (App (Const ((Constant (MPfile (DirPath ((Id DoubleBase) (Id CyclicDouble) (Id Bignums)))) (Id ww_to_Z)) (Instance ()))) ((Var (Id w)) (Var (Id w_digits)) (Var (Id w_to_Z)) (Rel 1))))) (App (Const ((Constant (MPfile (DirPath ((Id DoubleType) (Id Abstract) (Id Cyclic) (Id Numbers) (Id Coq)))) (Id base)) (Instance ()))) ((App (Const ((Constant (MPfile (DirPath ((Id DoubleBase) (Id CyclicDouble) (Id Bignums)))) (Id ww_digits)) (Instance ()))) ((Var (Id w_digits))))))))))))) (((Id spec_ww_add_c)) () (Prod ((binder_name (Name (Id x))) (binder_relevance Relevant)) (App (Ind (((MutInd (MPfile (DirPath ((Id DoubleType) (Id Abstract) (Id Cyclic) (Id Numbers) (Id Coq)))) (Id zn2z)) 0) (Instance ()))) ((Var (Id w)))) (Prod ((binder_name (Name (Id y))) (binder_relevance Relevant)) (App (Ind (((MutInd (MPfile (DirPath ((Id DoubleType) (Id Abstract) (Id Cyclic) (Id Numbers) (Id Coq)))) (Id zn2z)) 0) (Instance ()))) ((Var (Id w)))) (App (Ind (((MutInd (MPfile (DirPath ((Id Logic) (Id Init) (Id Coq)))) (Id eq)) 0) (Instance ()))) ((Ind (((MutInd (MPfile (DirPath ((Id BinNums) (Id Numbers) (Id Coq)))) (Id Z)) 0) (Instance ()))) (App (Const ((Constant (MPfile (DirPath ((Id DoubleType) (Id Abstract) (Id Cyclic) (Id Numbers) (Id Coq)))) (Id interp_carry)) (Instance ()))) ((App (Ind (((MutInd (MPfile (DirPath ((Id DoubleType) (Id Abstract) (Id Cyclic) (Id Numbers) (Id Coq)))) (Id zn2z)) 0) (Instance ()))) ((Var (Id w)))) (App (Construct ((((MutInd (MPfile (DirPath ((Id BinNums) (Id Numbers) (Id Coq)))) (Id Z)) 0) 2) (Instance ()))) ((Construct ((((MutInd (MPfile (DirPath ((Id BinNums) (Id Numbers) (Id Coq)))) (Id positive)) 0) 3) (Instance ()))))) (App (Const ((Constant (MPfile (DirPath ((Id DoubleType) (Id Abstract) (Id Cyclic) (Id Numbers) (Id Coq)))) (Id base)) (Instance ()))) ((App (Const ((Constant (MPfile (DirPath ((Id DoubleBase) (Id CyclicDouble) (Id Bignums)))) (Id ww_digits)) (Instance ()))) ((Var (Id w_digits)))))) (App (Const ((Constant (MPfile (DirPath ((Id DoubleBase) (Id CyclicDouble) (Id Bignums)))) (Id ww_to_Z)) (Instance ()))) ((Var (Id w)) (Var (Id w_digits)) (Var (Id w_to_Z)))) (App (Var (Id ww_add_c)) ((Rel 2) (Rel 1))))) (App (Const ((Constant (MPdot (MPfile (DirPath ((Id BinInt) (Id ZArith) (Id Coq)))) (Id Z)) (Id add)) (Instance ()))) ((App (Const ((Constant (MPfile (DirPath ((Id DoubleBase) (Id CyclicDouble) (Id Bignums)))) (Id ww_to_Z)) (Instance ()))) ((Var (Id w)) (Var (Id w_digits)) (Var (Id w_to_Z)) (Rel 2))) (App (Const ((Constant (MPfile (DirPath ((Id DoubleBase) (Id CyclicDouble) (Id Bignums)))) (Id ww_to_Z)) (Instance ()))) ((Var (Id w)) (Var (Id w_digits)) (Var (Id w_to_Z)) (Rel 1)))))))))) (((Id spec_w_square_c)) () (Prod ((binder_name (Name (Id x))) (binder_relevance Relevant)) (Var (Id w)) (App (Ind (((MutInd (MPfile (DirPath ((Id Logic) (Id Init) (Id Coq)))) (Id eq)) 0) (Instance ()))) ((Ind (((MutInd (MPfile (DirPath ((Id BinNums) (Id Numbers) (Id Coq)))) (Id Z)) 0) (Instance ()))) (App (Const ((Constant (MPfile (DirPath ((Id DoubleBase) (Id CyclicDouble) (Id Bignums)))) (Id ww_to_Z)) (Instance ()))) ((Var (Id w)) (Var (Id w_digits)) (Var (Id w_to_Z)) (App (Var (Id w_square_c)) ((Rel 1))))) (App (Const ((Constant (MPdot (MPfile (DirPath ((Id BinInt) (Id ZArith) (Id Coq)))) (Id Z)) (Id mul)) (Instance ()))) ((App (Var (Id w_to_Z)) ((Rel 1))) (App (Var (Id w_to_Z)) ((Rel 1))))))))) (((Id spec_w_mul)) () (Prod ((binder_name (Name (Id x))) (binder_relevance Relevant)) (Var (Id w)) (Prod ((binder_name (Name (Id y))) (binder_relevance Relevant)) (Var (Id w)) (App (Ind (((MutInd (MPfile (DirPath ((Id Logic) (Id Init) (Id Coq)))) (Id eq)) 0) (Instance ()))) ((Ind (((MutInd (MPfile (DirPath ((Id BinNums) (Id Numbers) (Id Coq)))) (Id Z)) 0) (Instance ()))) (App (Var (Id w_to_Z)) ((App (Var (Id w_mul)) ((Rel 2) (Rel 1))))) (App (Const ((Constant (MPdot (MPfile (DirPath ((Id BinInt) (Id ZArith) (Id Coq)))) (Id Z)) (Id modulo)) (Instance ()))) ((App (Const ((Constant (MPdot (MPfile (DirPath ((Id BinInt) (Id ZArith) (Id Coq)))) (Id Z)) (Id mul)) (Instance ()))) ((App (Var (Id w_to_Z)) ((Rel 2))) (App (Var (Id w_to_Z)) ((Rel 1))))) (App (Const ((Constant (MPfile (DirPath ((Id DoubleType) (Id Abstract) (Id Cyclic) (Id Numbers) (Id Coq)))) (Id base)) (Instance ()))) ((Var (Id w_digits))))))))))) (((Id spec_w_mul_c)) () (Prod ((binder_name (Name (Id x))) (binder_relevance Relevant)) (Var (Id w)) (Prod ((binder_name (Name (Id y))) (binder_relevance Relevant)) (Var (Id w)) (App (Ind (((MutInd (MPfile (DirPath ((Id Logic) (Id Init) (Id Coq)))) (Id eq)) 0) (Instance ()))) ((Ind (((MutInd (MPfile (DirPath ((Id BinNums) (Id Numbers) (Id Coq)))) (Id Z)) 0) (Instance ()))) (App (Const ((Constant (MPfile (DirPath ((Id DoubleBase) (Id CyclicDouble) (Id Bignums)))) (Id ww_to_Z)) (Instance ()))) ((Var (Id w)) (Var (Id w_digits)) (Var (Id w_to_Z)) (App (Var (Id w_mul_c)) ((Rel 2) (Rel 1))))) (App (Const ((Constant (MPdot (MPfile (DirPath ((Id BinInt) (Id ZArith) (Id Coq)))) (Id Z)) (Id mul)) (Instance ()))) ((App (Var (Id w_to_Z)) ((Rel 2))) (App (Var (Id w_to_Z)) ((Rel 1)))))))))) (((Id spec_w_sub)) () (Prod ((binder_name (Name (Id x))) (binder_relevance Relevant)) (Var (Id w)) (Prod ((binder_name (Name (Id y))) (binder_relevance Relevant)) (Var (Id w)) (App (Ind (((MutInd (MPfile (DirPath ((Id Logic) (Id Init) (Id Coq)))) (Id eq)) 0) (Instance ()))) ((Ind (((MutInd (MPfile (DirPath ((Id BinNums) (Id Numbers) (Id Coq)))) (Id Z)) 0) (Instance ()))) (App (Var (Id w_to_Z)) ((App (Var (Id w_sub)) ((Rel 2) (Rel 1))))) (App (Const ((Constant (MPdot (MPfile (DirPath ((Id BinInt) (Id ZArith) (Id Coq)))) (Id Z)) (Id modulo)) (Instance ()))) ((App (Const ((Constant (MPdot (MPfile (DirPath ((Id BinInt) (Id ZArith) (Id Coq)))) (Id Z)) (Id sub)) (Instance ()))) ((App (Var (Id w_to_Z)) ((Rel 2))) (App (Var (Id w_to_Z)) ((Rel 1))))) (App (Const ((Constant (MPfile (DirPath ((Id DoubleType) (Id Abstract) (Id Cyclic) (Id Numbers) (Id Coq)))) (Id base)) (Instance ()))) ((Var (Id w_digits))))))))))) (((Id spec_w_add)) () (Prod ((binder_name (Name (Id x))) (binder_relevance Relevant)) (Var (Id w)) (Prod ((binder_name (Name (Id y))) (binder_relevance Relevant)) (Var (Id w)) (App (Ind (((MutInd (MPfile (DirPath ((Id Logic) (Id Init) (Id Coq)))) (Id eq)) 0) (Instance ()))) ((Ind (((MutInd (MPfile (DirPath ((Id BinNums) (Id Numbers) (Id Coq)))) (Id Z)) 0) (Instance ()))) (App (Var (Id w_to_Z)) ((App (Var (Id w_add)) ((Rel 2) (Rel 1))))) (App (Const ((Constant (MPdot (MPfile (DirPath ((Id BinInt) (Id ZArith) (Id Coq)))) (Id Z)) (Id modulo)) (Instance ()))) ((App (Const ((Constant (MPdot (MPfile (DirPath ((Id BinInt) (Id ZArith) (Id Coq)))) (Id Z)) (Id add)) (Instance ()))) ((App (Var (Id w_to_Z)) ((Rel 2))) (App (Var (Id w_to_Z)) ((Rel 1))))) (App (Const ((Constant (MPfile (DirPath ((Id DoubleType) (Id Abstract) (Id Cyclic) (Id Numbers) (Id Coq)))) (Id base)) (Instance ()))) ((Var (Id w_digits))))))))))) (((Id spec_w_add_c)) () (Prod ((binder_name (Name (Id x))) (binder_relevance Relevant)) (Var (Id w)) (Prod ((binder_name (Name (Id y))) (binder_relevance Relevant)) (Var (Id w)) (App (Ind (((MutInd (MPfile (DirPath ((Id Logic) (Id Init) (Id Coq)))) (Id eq)) 0) (Instance ()))) ((Ind (((MutInd (MPfile (DirPath ((Id BinNums) (Id Numbers) (Id Coq)))) (Id Z)) 0) (Instance ()))) (App (Const ((Constant (MPfile (DirPath ((Id DoubleType) (Id Abstract) (Id Cyclic) (Id Numbers) (Id Coq)))) (Id interp_carry)) (Instance ()))) ((Var (Id w)) (App (Construct ((((MutInd (MPfile (DirPath ((Id BinNums) (Id Numbers) (Id Coq)))) (Id Z)) 0) 2) (Instance ()))) ((Construct ((((MutInd (MPfile (DirPath ((Id BinNums) (Id Numbers) (Id Coq)))) (Id positive)) 0) 3) (Instance ()))))) (App (Const ((Constant (MPfile (DirPath ((Id DoubleType) (Id Abstract) (Id Cyclic) (Id Numbers) (Id Coq)))) (Id base)) (Instance ()))) ((Var (Id w_digits)))) (Var (Id w_to_Z)) (App (Var (Id w_add_c)) ((Rel 2) (Rel 1))))) (App (Const ((Constant (MPdot (MPfile (DirPath ((Id BinInt) (Id ZArith) (Id Coq)))) (Id Z)) (Id add)) (Instance ()))) ((App (Var (Id w_to_Z)) ((Rel 2))) (App (Var (Id w_to_Z)) ((Rel 1)))))))))) (((Id spec_w_succ)) () (Prod ((binder_name (Name (Id x))) (binder_relevance Relevant)) (Var (Id w)) (App (Ind (((MutInd (MPfile (DirPath ((Id Logic) (Id Init) (Id Coq)))) (Id eq)) 0) (Instance ()))) ((Ind (((MutInd (MPfile (DirPath ((Id BinNums) (Id Numbers) (Id Coq)))) (Id Z)) 0) (Instance ()))) (App (Var (Id w_to_Z)) ((App (Var (Id w_succ)) ((Rel 1))))) (App (Const ((Constant (MPdot (MPfile (DirPath ((Id BinInt) (Id ZArith) (Id Coq)))) (Id Z)) (Id modulo)) (Instance ()))) ((App (Const ((Constant (MPdot (MPfile (DirPath ((Id BinInt) (Id ZArith) (Id Coq)))) (Id Z)) (Id add)) (Instance ()))) ((App (Var (Id w_to_Z)) ((Rel 1))) (App (Construct ((((MutInd (MPfile (DirPath ((Id BinNums) (Id Numbers) (Id Coq)))) (Id Z)) 0) 2) (Instance ()))) ((Construct ((((MutInd (MPfile (DirPath ((Id BinNums) (Id Numbers) (Id Coq)))) (Id positive)) 0) 3) (Instance ()))))))) (App (Const ((Constant (MPfile (DirPath ((Id DoubleType) (Id Abstract) (Id Cyclic) (Id Numbers) (Id Coq)))) (Id base)) (Instance ()))) ((Var (Id w_digits)))))))))) (((Id spec_w_compare)) () (Prod ((binder_name (Name (Id x))) (binder_relevance Relevant)) (Var (Id w)) (Prod ((binder_name (Name (Id y))) (binder_relevance Relevant)) (Var (Id w)) (App (Ind (((MutInd (MPfile (DirPath ((Id Logic) (Id Init) (Id Coq)))) (Id eq)) 0) (Instance ()))) ((Ind (((MutInd (MPfile (DirPath ((Id Datatypes) (Id Init) (Id Coq)))) (Id comparison)) 0) (Instance ()))) (App (Var (Id w_compare)) ((Rel 2) (Rel 1))) (App (Const ((Constant (MPdot (MPfile (DirPath ((Id BinInt) (Id ZArith) (Id Coq)))) (Id Z)) (Id compare)) (Instance ()))) ((App (Var (Id w_to_Z)) ((Rel 2))) (App (Var (Id w_to_Z)) ((Rel 1)))))))))) (((Id spec_w_0W)) () (Prod ((binder_name (Name (Id l))) (binder_relevance Relevant)) (Var (Id w)) (App (Ind (((MutInd (MPfile (DirPath ((Id Logic) (Id Init) (Id Coq)))) (Id eq)) 0) (Instance ()))) ((Ind (((MutInd (MPfile (DirPath ((Id BinNums) (Id Numbers) (Id Coq)))) (Id Z)) 0) (Instance ()))) (App (Const ((Constant (MPfile (DirPath ((Id DoubleBase) (Id CyclicDouble) (Id Bignums)))) (Id ww_to_Z)) (Instance ()))) ((Var (Id w)) (Var (Id w_digits)) (Var (Id w_to_Z)) (App (Var (Id w_0W)) ((Rel 1))))) (App (Var (Id w_to_Z)) ((Rel 1))))))) (((Id spec_w_W0)) () (Prod ((binder_name (Name (Id h))) (binder_relevance Relevant)) (Var (Id w)) (App (Ind (((MutInd (MPfile (DirPath ((Id Logic) (Id Init) (Id Coq)))) (Id eq)) 0) (Instance ()))) ((Ind (((MutInd (MPfile (DirPath ((Id BinNums) (Id Numbers) (Id Coq)))) (Id Z)) 0) (Instance ()))) (App (Const ((Constant (MPfile (DirPath ((Id DoubleBase) (Id CyclicDouble) (Id Bignums)))) (Id ww_to_Z)) (Instance ()))) ((Var (Id w)) (Var (Id w_digits)) (Var (Id w_to_Z)) (App (Var (Id w_W0)) ((Rel 1))))) (App (Const ((Constant (MPdot (MPfile (DirPath ((Id BinInt) (Id ZArith) (Id Coq)))) (Id Z)) (Id mul)) (Instance ()))) ((App (Var (Id w_to_Z)) ((Rel 1))) (App (Const ((Constant (MPfile (DirPath ((Id DoubleType) (Id Abstract) (Id Cyclic) (Id Numbers) (Id Coq)))) (Id base)) (Instance ()))) ((Var (Id w_digits)))))))))) (((Id spec_w_WW)) () (Prod ((binder_name (Name (Id h))) (binder_relevance Relevant)) (Var (Id w)) (Prod ((binder_name (Name (Id l))) (binder_relevance Relevant)) (Var (Id w)) (App (Ind (((MutInd (MPfile (DirPath ((Id Logic) (Id Init) (Id Coq)))) (Id eq)) 0) (Instance ()))) ((Ind (((MutInd (MPfile (DirPath ((Id BinNums) (Id Numbers) (Id Coq)))) (Id Z)) 0) (Instance ()))) (App (Const ((Constant (MPfile (DirPath ((Id DoubleBase) (Id CyclicDouble) (Id Bignums)))) (Id ww_to_Z)) (Instance ()))) ((Var (Id w)) (Var (Id w_digits)) (Var (Id w_to_Z)) (App (Var (Id w_WW)) ((Rel 2) (Rel 1))))) (App (Const ((Constant (MPdot (MPfile (DirPath ((Id BinInt) (Id ZArith) (Id Coq)))) (Id Z)) (Id add)) (Instance ()))) ((App (Const ((Constant (MPdot (MPfile (DirPath ((Id BinInt) (Id ZArith) (Id Coq)))) (Id Z)) (Id mul)) (Instance ()))) ((App (Var (Id w_to_Z)) ((Rel 2))) (App (Const ((Constant (MPfile (DirPath ((Id DoubleType) (Id Abstract) (Id Cyclic) (Id Numbers) (Id Coq)))) (Id base)) (Instance ()))) ((Var (Id w_digits)))))) (App (Var (Id w_to_Z)) ((Rel 1)))))))))) (((Id spec_to_Z)) () (Prod ((binder_name (Name (Id x))) (binder_relevance Relevant)) (Var (Id w)) (App (Ind (((MutInd (MPfile (DirPath ((Id Logic) (Id Init) (Id Coq)))) (Id and)) 0) (Instance ()))) ((App (Const ((Constant (MPdot (MPfile (DirPath ((Id BinInt) (Id ZArith) (Id Coq)))) (Id Z)) (Id le)) (Instance ()))) ((Construct ((((MutInd (MPfile (DirPath ((Id BinNums) (Id Numbers) (Id Coq)))) (Id Z)) 0) 1) (Instance ()))) (App (Var (Id w_to_Z)) ((Rel 1))))) (App (Const ((Constant (MPdot (MPfile (DirPath ((Id BinInt) (Id ZArith) (Id Coq)))) (Id Z)) (Id lt)) (Instance ()))) ((App (Var (Id w_to_Z)) ((Rel 1))) (App (Const ((Constant (MPfile (DirPath ((Id DoubleType) (Id Abstract) (Id Cyclic) (Id Numbers) (Id Coq)))) (Id base)) (Instance ()))) ((Var (Id w_digits)))))))))) (((Id spec_w_1)) () (App (Ind (((MutInd (MPfile (DirPath ((Id Logic) (Id Init) (Id Coq)))) (Id eq)) 0) (Instance ()))) ((Ind (((MutInd (MPfile (DirPath ((Id BinNums) (Id Numbers) (Id Coq)))) (Id Z)) 0) (Instance ()))) (App (Var (Id w_to_Z)) ((Var (Id w_1)))) (App (Construct ((((MutInd (MPfile (DirPath ((Id BinNums) (Id Numbers) (Id Coq)))) (Id Z)) 0) 2) (Instance ()))) ((Construct ((((MutInd (MPfile (DirPath ((Id BinNums) (Id Numbers) (Id Coq)))) (Id positive)) 0) 3) (Instance ())))))))) (((Id spec_w_0)) () (App (Ind (((MutInd (MPfile (DirPath ((Id Logic) (Id Init) (Id Coq)))) (Id eq)) 0) (Instance ()))) ((Ind (((MutInd (MPfile (DirPath ((Id BinNums) (Id Numbers) (Id Coq)))) (Id Z)) 0) (Instance ()))) (App (Var (Id w_to_Z)) ((Var (Id w_0)))) (Construct ((((MutInd (MPfile (DirPath ((Id BinNums) (Id Numbers) (Id Coq)))) (Id Z)) 0) 1) (Instance ())))))) (((Id spec_more_than_1_digit)) () (App (Const ((Constant (MPdot (MPfile (DirPath ((Id BinInt) (Id ZArith) (Id Coq)))) (Id Z)) (Id lt)) (Instance ()))) ((App (Construct ((((MutInd (MPfile (DirPath ((Id BinNums) (Id Numbers) (Id Coq)))) (Id Z)) 0) 2) (Instance ()))) ((Construct ((((MutInd (MPfile (DirPath ((Id BinNums) (Id Numbers) (Id Coq)))) (Id positive)) 0) 3) (Instance ()))))) (App (Construct ((((MutInd (MPfile (DirPath ((Id BinNums) (Id Numbers) (Id Coq)))) (Id Z)) 0) 2) (Instance ()))) ((Var (Id w_digits))))))) (((Id w_to_Z)) () (Prod ((binder_name Anonymous) (binder_relevance Relevant)) (Var (Id w)) (Ind (((MutInd (MPfile (DirPath ((Id BinNums) (Id Numbers) (Id Coq)))) (Id Z)) 0) (Instance ()))))) (((Id w_digits)) () (Ind (((MutInd (MPfile (DirPath ((Id BinNums) (Id Numbers) (Id Coq)))) (Id positive)) 0) (Instance ())))) (((Id ww_sub)) () (Prod ((binder_name Anonymous) (binder_relevance Relevant)) (App (Ind (((MutInd (MPfile (DirPath ((Id DoubleType) (Id Abstract) (Id Cyclic) (Id Numbers) (Id Coq)))) (Id zn2z)) 0) (Instance ()))) ((Var (Id w)))) (Prod ((binder_name Anonymous) (binder_relevance Relevant)) (App (Ind (((MutInd (MPfile (DirPath ((Id DoubleType) (Id Abstract) (Id Cyclic) (Id Numbers) (Id Coq)))) (Id zn2z)) 0) (Instance ()))) ((Var (Id w)))) (App (Ind (((MutInd (MPfile (DirPath ((Id DoubleType) (Id Abstract) (Id Cyclic) (Id Numbers) (Id Coq)))) (Id zn2z)) 0) (Instance ()))) ((Var (Id w))))))) (((Id ww_sub_c)) () (Prod ((binder_name Anonymous) (binder_relevance Relevant)) (App (Ind (((MutInd (MPfile (DirPath ((Id DoubleType) (Id Abstract) (Id Cyclic) (Id Numbers) (Id Coq)))) (Id zn2z)) 0) (Instance ()))) ((Var (Id w)))) (Prod ((binder_name Anonymous) (binder_relevance Relevant)) (App (Ind (((MutInd (MPfile (DirPath ((Id DoubleType) (Id Abstract) (Id Cyclic) (Id Numbers) (Id Coq)))) (Id zn2z)) 0) (Instance ()))) ((Var (Id w)))) (App (Ind (((MutInd (MPfile (DirPath ((Id DoubleType) (Id Abstract) (Id Cyclic) (Id Numbers) (Id Coq)))) (Id carry)) 0) (Instance ()))) ((App (Ind (((MutInd (MPfile (DirPath ((Id DoubleType) (Id Abstract) (Id Cyclic) (Id Numbers) (Id Coq)))) (Id zn2z)) 0) (Instance ()))) ((Var (Id w))))))))) (((Id ww_add) (Id ww_add_carry)) () (Prod ((binder_name Anonymous) (binder_relevance Relevant)) (App (Ind (((MutInd (MPfile (DirPath ((Id DoubleType) (Id Abstract) (Id Cyclic) (Id Numbers) (Id Coq)))) (Id zn2z)) 0) (Instance ()))) ((Var (Id w)))) (Prod ((binder_name Anonymous) (binder_relevance Relevant)) (App (Ind (((MutInd (MPfile (DirPath ((Id DoubleType) (Id Abstract) (Id Cyclic) (Id Numbers) (Id Coq)))) (Id zn2z)) 0) (Instance ()))) ((Var (Id w)))) (App (Ind (((MutInd (MPfile (DirPath ((Id DoubleType) (Id Abstract) (Id Cyclic) (Id Numbers) (Id Coq)))) (Id zn2z)) 0) (Instance ()))) ((Var (Id w))))))) (((Id ww_add_c)) () (Prod ((binder_name Anonymous) (binder_relevance Relevant)) (App (Ind (((MutInd (MPfile (DirPath ((Id DoubleType) (Id Abstract) (Id Cyclic) (Id Numbers) (Id Coq)))) (Id zn2z)) 0) (Instance ()))) ((Var (Id w)))) (Prod ((binder_name Anonymous) (binder_relevance Relevant)) (App (Ind (((MutInd (MPfile (DirPath ((Id DoubleType) (Id Abstract) (Id Cyclic) (Id Numbers) (Id Coq)))) (Id zn2z)) 0) (Instance ()))) ((Var (Id w)))) (App (Ind (((MutInd (MPfile (DirPath ((Id DoubleType) (Id Abstract) (Id Cyclic) (Id Numbers) (Id Coq)))) (Id carry)) 0) (Instance ()))) ((App (Ind (((MutInd (MPfile (DirPath ((Id DoubleType) (Id Abstract) (Id Cyclic) (Id Numbers) (Id Coq)))) (Id zn2z)) 0) (Instance ()))) ((Var (Id w))))))))) (((Id w_square_c)) () (Prod ((binder_name Anonymous) (binder_relevance Relevant)) (Var (Id w)) (App (Ind (((MutInd (MPfile (DirPath ((Id DoubleType) (Id Abstract) (Id Cyclic) (Id Numbers) (Id Coq)))) (Id zn2z)) 0) (Instance ()))) ((Var (Id w)))))) (((Id w_mul)) () (Prod ((binder_name Anonymous) (binder_relevance Relevant)) (Var (Id w)) (Prod ((binder_name Anonymous) (binder_relevance Relevant)) (Var (Id w)) (Var (Id w))))) (((Id w_mul_c)) () (Prod ((binder_name Anonymous) (binder_relevance Relevant)) (Var (Id w)) (Prod ((binder_name Anonymous) (binder_relevance Relevant)) (Var (Id w)) (App (Ind (((MutInd (MPfile (DirPath ((Id DoubleType) (Id Abstract) (Id Cyclic) (Id Numbers) (Id Coq)))) (Id zn2z)) 0) (Instance ()))) ((Var (Id w))))))) (((Id w_add) (Id w_sub)) () (Prod ((binder_name Anonymous) (binder_relevance Relevant)) (Var (Id w)) (Prod ((binder_name Anonymous) (binder_relevance Relevant)) (Var (Id w)) (Var (Id w))))) (((Id w_add_c)) () (Prod ((binder_name Anonymous) (binder_relevance Relevant)) (Var (Id w)) (Prod ((binder_name Anonymous) (binder_relevance Relevant)) (Var (Id w)) (App (Ind (((MutInd (MPfile (DirPath ((Id DoubleType) (Id Abstract) (Id Cyclic) (Id Numbers) (Id Coq)))) (Id carry)) 0) (Instance ()))) ((Var (Id w))))))) (((Id w_succ)) () (Prod ((binder_name Anonymous) (binder_relevance Relevant)) (Var (Id w)) (Var (Id w)))) (((Id w_compare)) () (Prod ((binder_name Anonymous) (binder_relevance Relevant)) (Var (Id w)) (Prod ((binder_name Anonymous) (binder_relevance Relevant)) (Var (Id w)) (Ind (((MutInd (MPfile (DirPath ((Id Datatypes) (Id Init) (Id Coq)))) (Id comparison)) 0) (Instance ())))))) (((Id w_W0) (Id w_0W)) () (Prod ((binder_name Anonymous) (binder_relevance Relevant)) (Var (Id w)) (App (Ind (((MutInd (MPfile (DirPath ((Id DoubleType) (Id Abstract) (Id Cyclic) (Id Numbers) (Id Coq)))) (Id zn2z)) 0) (Instance ()))) ((Var (Id w)))))) (((Id w_WW)) () (Prod ((binder_name Anonymous) (binder_relevance Relevant)) (Var (Id w)) (Prod ((binder_name Anonymous) (binder_relevance Relevant)) (Var (Id w)) (App (Ind (((MutInd (MPfile (DirPath ((Id DoubleType) (Id Abstract) (Id Cyclic) (Id Numbers) (Id Coq)))) (Id zn2z)) 0) (Instance ()))) ((Var (Id w))))))) (((Id w_0) (Id w_1)) () (Var (Id w))) (((Id w)) () (Sort (Type ((((hash 334992793508252510) (data (Level ((DirPath ((Id DoubleMul) (Id CyclicDouble) (Id Bignums))) 1)))) 0))))))'"
      ]
     },
     "execution_count": 38,
     "metadata": {},
     "output_type": "execute_result"
    }
   ],
   "source": [
    "parser.hyp(test_bytestring, goal_id=0)"
   ]
  },
  {
   "cell_type": "code",
   "execution_count": null,
   "metadata": {},
   "outputs": [],
   "source": []
  }
 ],
 "metadata": {
  "kernelspec": {
   "display_name": "pycoq",
   "language": "python",
   "name": "pycoq"
  },
  "language_info": {
   "codemirror_mode": {
    "name": "ipython",
    "version": 3
   },
   "file_extension": ".py",
   "mimetype": "text/x-python",
   "name": "python",
   "nbconvert_exporter": "python",
   "pygments_lexer": "ipython3",
   "version": "3.8.2"
  }
 },
 "nbformat": 4,
 "nbformat_minor": 4
}
