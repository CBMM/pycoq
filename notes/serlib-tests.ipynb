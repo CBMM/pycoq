{
 "cells": [
  {
   "cell_type": "code",
   "execution_count": 90,
   "metadata": {},
   "outputs": [],
   "source": [
    "import serlib.parser\n",
    "from serlib.parser import SExpParser, check_inverse, encode\n",
    "import numpy as np\n",
    "import random\n",
    "parser = SExpParser()\n",
    "s = open(\"tests/serlib/input1.in\").read().strip()"
   ]
  },
  {
   "cell_type": "code",
   "execution_count": 109,
   "metadata": {},
   "outputs": [
    {
     "data": {
      "text/plain": [
       "['ObjList',\n",
       " '((CoqGoal((goals(((info((evar(Ser_Evar 32))(name())))(ty(App(Ind(((MutInd(MPfile(DirPath((Id Logic)(Id Init)(Id Coq))))(Id eq))0)(Instance())))((Ind(((MutInd(MPfile(DirPath((Id TwoGoals)(Id LF))))(Id color))0)(Instance())))(Var(Id my_id))(Var(Id my_id)))))(hyp((((Id my_id))((Construct((((MutInd(MPfile(DirPath((Id TwoGoals)(Id LF))))(Id color))0)1)(Instance()))))(Ind(((MutInd(MPfile(DirPath((Id TwoGoals)(Id LF))))(Id color))0)(Instance())))))))))(stack((()(((info((evar(Ser_Evar 30))(name())))(ty(App(Ind(((MutInd(MPfile(DirPath((Id Logic)(Id Init)(Id Coq))))(Id eq))0)(Instance())))((Ind(((MutInd(MPfile(DirPath((Id TwoGoals)(Id LF))))(Id bool))0)(Instance())))(Construct((((MutInd(MPfile(DirPath((Id TwoGoals)(Id LF))))(Id bool))0)1)(Instance())))(Construct((((MutInd(MPfile(DirPath((Id TwoGoals)(Id LF))))(Id bool))0)1)(Instance()))))))(hyp()))))(()(((info((evar(Ser_Evar 24))(name())))(ty(App(Ind(((MutInd(MPfile(DirPath((Id Logic)(Id Init)(Id Coq))))(Id and))0)(Instance())))((App(Ind(((MutInd(MPfile(DirPath((Id Logic)(Id Init)(Id Coq))))(Id eq))0)(Instance())))((Ind(((MutInd(MPfile(DirPath((Id TwoGoals)(Id LF))))(Id color))0)(Instance())))(App(Const((Constant(MPfile(DirPath((Id TwoGoals)(Id LF))))(Id shift))(Instance())))((App(Const((Constant(MPfile(DirPath((Id TwoGoals)(Id LF))))(Id shift))(Instance())))((App(Const((Constant(MPfile(DirPath((Id TwoGoals)(Id LF))))(Id shift))(Instance())))((Construct((((MutInd(MPfile(DirPath((Id TwoGoals)(Id LF))))(Id color))0)2)(Instance())))))))))(Construct((((MutInd(MPfile(DirPath((Id TwoGoals)(Id LF))))(Id color))0)2)(Instance())))))(App(Ind(((MutInd(MPfile(DirPath((Id Logic)(Id Init)(Id Coq))))(Id eq))0)(Instance())))((Ind(((MutInd(MPfile(DirPath((Id TwoGoals)(Id LF))))(Id bool))0)(Instance())))(App(Const((Constant(MPfile(DirPath((Id TwoGoals)(Id LF))))(Id negb))(Instance())))((App(Const((Constant(MPfile(DirPath((Id TwoGoals)(Id LF))))(Id negb))(Instance())))((Construct((((MutInd(MPfile(DirPath((Id TwoGoals)(Id LF))))(Id bool))0)1)(Instance())))))))(Construct((((MutInd(MPfile(DirPath((Id TwoGoals)(Id LF))))(Id bool))0)1)(Instance()))))))))(hyp()))((info((evar(Ser_Evar 25))(name())))(ty(App(Ind(((MutInd(MPfile(DirPath((Id Logic)(Id Init)(Id Coq))))(Id and))0)(Instance())))((App(Ind(((MutInd(MPfile(DirPath((Id Logic)(Id Init)(Id Coq))))(Id eq))0)(Instance())))((Ind(((MutInd(MPfile(DirPath((Id TwoGoals)(Id LF))))(Id color))0)(Instance())))(App(Const((Constant(MPfile(DirPath((Id TwoGoals)(Id LF))))(Id shift))(Instance())))((App(Const((Constant(MPfile(DirPath((Id TwoGoals)(Id LF))))(Id shift))(Instance())))((App(Const((Constant(MPfile(DirPath((Id TwoGoals)(Id LF))))(Id shift))(Instance())))((Construct((((MutInd(MPfile(DirPath((Id TwoGoals)(Id LF))))(Id color))0)3)(Instance())))))))))(Construct((((MutInd(MPfile(DirPath((Id TwoGoals)(Id LF))))(Id color))0)3)(Instance())))))(App(Ind(((MutInd(MPfile(DirPath((Id Logic)(Id Init)(Id Coq))))(Id eq))0)(Instance())))((Ind(((MutInd(MPfile(DirPath((Id TwoGoals)(Id LF))))(Id bool))0)(Instance())))(App(Const((Constant(MPfile(DirPath((Id TwoGoals)(Id LF))))(Id negb))(Instance())))((App(Const((Constant(MPfile(DirPath((Id TwoGoals)(Id LF))))(Id negb))(Instance())))((Construct((((MutInd(MPfile(DirPath((Id TwoGoals)(Id LF))))(Id bool))0)1)(Instance())))))))(Construct((((MutInd(MPfile(DirPath((Id TwoGoals)(Id LF))))(Id bool))0)1)(Instance()))))))))(hyp()))))(()(((info((evar(Ser_Evar 18))(name())))(ty(App(Ind(((MutInd(MPfile(DirPath((Id Logic)(Id Init)(Id Coq))))(Id and))0)(Instance())))((App(Ind(((MutInd(MPfile(DirPath((Id Logic)(Id Init)(Id Coq))))(Id eq))0)(Instance())))((Ind(((MutInd(MPfile(DirPath((Id TwoGoals)(Id LF))))(Id color))0)(Instance())))(App(Const((Constant(MPfile(DirPath((Id TwoGoals)(Id LF))))(Id shift))(Instance())))((App(Const((Constant(MPfile(DirPath((Id TwoGoals)(Id LF))))(Id shift))(Instance())))((App(Const((Constant(MPfile(DirPath((Id TwoGoals)(Id LF))))(Id shift))(Instance())))((Var(Id x))))))))(Var(Id x))))(App(Ind(((MutInd(MPfile(DirPath((Id Logic)(Id Init)(Id Coq))))(Id eq))0)(Instance())))((Ind(((MutInd(MPfile(DirPath((Id TwoGoals)(Id LF))))(Id bool))0)(Instance())))(App(Const((Constant(MPfile(DirPath((Id TwoGoals)(Id LF))))(Id negb))(Instance())))((App(Const((Constant(MPfile(DirPath((Id TwoGoals)(Id LF))))(Id negb))(Instance())))((Construct((((MutInd(MPfile(DirPath((Id TwoGoals)(Id LF))))(Id bool))0)2)(Instance())))))))(Construct((((MutInd(MPfile(DirPath((Id TwoGoals)(Id LF))))(Id bool))0)2)(Instance()))))))))(hyp((((Id x))()(Ind(((MutInd(MPfile(DirPath((Id TwoGoals)(Id LF))))(Id color))0)(Instance())))))))))))(shelf())(given_up())(bullet((Pp_glue((Pp_string\"The current bullet \")(Pp_string -)(Pp_string\" is unfinished.\"))))))))']"
      ]
     },
     "execution_count": 109,
     "metadata": {},
     "output_type": "execute_result"
    }
   ],
   "source": [
    "serlib.parser.list_of_string(s)"
   ]
  },
  {
   "cell_type": "code",
   "execution_count": 96,
   "metadata": {},
   "outputs": [],
   "source": [
    "res, loc = parser.parse_bytestring(s.encode()), parser.last_location()"
   ]
  },
  {
   "cell_type": "code",
   "execution_count": 81,
   "metadata": {},
   "outputs": [],
   "source": [
    "res1 = parser.parse_bytestring(s[loc])"
   ]
  },
  {
   "cell_type": "code",
   "execution_count": 82,
   "metadata": {},
   "outputs": [
    {
     "data": {
      "text/plain": [
       "array([ True,  True,  True, ...,  True,  True,  True])"
      ]
     },
     "execution_count": 82,
     "metadata": {},
     "output_type": "execute_result"
    }
   ],
   "source": [
    "res == res1"
   ]
  },
  {
   "cell_type": "code",
   "execution_count": 84,
   "metadata": {},
   "outputs": [
    {
     "data": {
      "text/plain": [
       "b'((CoqGoal((goals(((info((evar(Ser_Evar 32))(name())))(ty(App(Ind(((MutInd(MPfile(DirPath((Id Logic)(Id Init)(Id Coq))))(Id eq))0)(Instance())))((Ind(((MutInd(MPfile(DirPath((Id TwoGoals)(Id LF))))(Id color))0)(Instance())))(Var(Id my_id))(Var(Id my_id)))))(hyp((((Id my_id))((Construct((((MutInd(MPfile(DirPath((Id TwoGoals)(Id LF))))(Id color))0)1)(Instance()))))(Ind(((MutInd(MPfile(DirPath((Id TwoGoals)(Id LF))))(Id color))0)(Instance())))))))))(stack((()(((info((evar(Ser_Evar 30))(name())))(ty(App(Ind(((MutInd(MPfile(DirPath((Id Logic)(Id Init)(Id Coq))))(Id eq))0)(Instance())))((Ind(((MutInd(MPfile(DirPath((Id TwoGoals)(Id LF))))(Id bool))0)(Instance())))(Construct((((MutInd(MPfile(DirPath((Id TwoGoals)(Id LF))))(Id bool))0)1)(Instance())))(Construct((((MutInd(MPfile(DirPath((Id TwoGoals)(Id LF))))(Id bool))0)1)(Instance()))))))(hyp()))))(()(((info((evar(Ser_Evar 24))(name())))(ty(App(Ind(((MutInd(MPfile(DirPath((Id Logic)(Id Init)(Id Coq))))(Id and))0)(Instance())))((App(Ind(((MutInd(MPfile(DirPath((Id Logic)(Id Init)(Id Coq))))(Id eq))0)(Instance())))((Ind(((MutInd(MPfile(DirPath((Id TwoGoals)(Id LF))))(Id color))0)(Instance())))(App(Const((Constant(MPfile(DirPath((Id TwoGoals)(Id LF))))(Id shift))(Instance())))((App(Const((Constant(MPfile(DirPath((Id TwoGoals)(Id LF))))(Id shift))(Instance())))((App(Const((Constant(MPfile(DirPath((Id TwoGoals)(Id LF))))(Id shift))(Instance())))((Construct((((MutInd(MPfile(DirPath((Id TwoGoals)(Id LF))))(Id color))0)2)(Instance())))))))))(Construct((((MutInd(MPfile(DirPath((Id TwoGoals)(Id LF))))(Id color))0)2)(Instance())))))(App(Ind(((MutInd(MPfile(DirPath((Id Logic)(Id Init)(Id Coq))))(Id eq))0)(Instance())))((Ind(((MutInd(MPfile(DirPath((Id TwoGoals)(Id LF))))(Id bool))0)(Instance())))(App(Const((Constant(MPfile(DirPath((Id TwoGoals)(Id LF))))(Id negb))(Instance())))((App(Const((Constant(MPfile(DirPath((Id TwoGoals)(Id LF))))(Id negb))(Instance())))((Construct((((MutInd(MPfile(DirPath((Id TwoGoals)(Id LF))))(Id bool))0)1)(Instance())))))))(Construct((((MutInd(MPfile(DirPath((Id TwoGoals)(Id LF))))(Id bool))0)1)(Instance()))))))))(hyp()))((info((evar(Ser_Evar 25))(name())))(ty(App(Ind(((MutInd(MPfile(DirPath((Id Logic)(Id Init)(Id Coq))))(Id and))0)(Instance())))((App(Ind(((MutInd(MPfile(DirPath((Id Logic)(Id Init)(Id Coq))))(Id eq))0)(Instance())))((Ind(((MutInd(MPfile(DirPath((Id TwoGoals)(Id LF))))(Id color))0)(Instance())))(App(Const((Constant(MPfile(DirPath((Id TwoGoals)(Id LF))))(Id shift))(Instance())))((App(Const((Constant(MPfile(DirPath((Id TwoGoals)(Id LF))))(Id shift))(Instance())))((App(Const((Constant(MPfile(DirPath((Id TwoGoals)(Id LF))))(Id shift))(Instance())))((Construct((((MutInd(MPfile(DirPath((Id TwoGoals)(Id LF))))(Id color))0)3)(Instance())))))))))(Construct((((MutInd(MPfile(DirPath((Id TwoGoals)(Id LF))))(Id color))0)3)(Instance())))))(App(Ind(((MutInd(MPfile(DirPath((Id Logic)(Id Init)(Id Coq))))(Id eq))0)(Instance())))((Ind(((MutInd(MPfile(DirPath((Id TwoGoals)(Id LF))))(Id bool))0)(Instance())))(App(Const((Constant(MPfile(DirPath((Id TwoGoals)(Id LF))))(Id negb))(Instance())))((App(Const((Constant(MPfile(DirPath((Id TwoGoals)(Id LF))))(Id negb))(Instance())))((Construct((((MutInd(MPfile(DirPath((Id TwoGoals)(Id LF))))(Id bool))0)1)(Instance())))))))(Construct((((MutInd(MPfile(DirPath((Id TwoGoals)(Id LF))))(Id bool))0)1)(Instance()))))))))(hyp()))))(()(((info((evar(Ser_Evar 18))(name())))(ty(App(Ind(((MutInd(MPfile(DirPath((Id Logic)(Id Init)(Id Coq))))(Id and))0)(Instance())))((App(Ind(((MutInd(MPfile(DirPath((Id Logic)(Id Init)(Id Coq))))(Id eq))0)(Instance())))((Ind(((MutInd(MPfile(DirPath((Id TwoGoals)(Id LF))))(Id color))0)(Instance())))(App(Const((Constant(MPfile(DirPath((Id TwoGoals)(Id LF))))(Id shift))(Instance())))((App(Const((Constant(MPfile(DirPath((Id TwoGoals)(Id LF))))(Id shift))(Instance())))((App(Const((Constant(MPfile(DirPath((Id TwoGoals)(Id LF))))(Id shift))(Instance())))((Var(Id x))))))))(Var(Id x))))(App(Ind(((MutInd(MPfile(DirPath((Id Logic)(Id Init)(Id Coq))))(Id eq))0)(Instance())))((Ind(((MutInd(MPfile(DirPath((Id TwoGoals)(Id LF))))(Id bool))0)(Instance())))(App(Const((Constant(MPfile(DirPath((Id TwoGoals)(Id LF))))(Id negb))(Instance())))((App(Const((Constant(MPfile(DirPath((Id TwoGoals)(Id LF))))(Id negb))(Instance())))((Construct((((MutInd(MPfile(DirPath((Id TwoGoals)(Id LF))))(Id bool))0)2)(Instance())))))))(Construct((((MutInd(MPfile(DirPath((Id TwoGoals)(Id LF))))(Id bool))0)2)(Instance()))))))))(hyp((((Id x))()(Ind(((MutInd(MPfile(DirPath((Id TwoGoals)(Id LF))))(Id color))0)(Instance())))))))))))(shelf())(given_up())(bullet((Pp_glue((Pp_string\"The current bullet \")(Pp_string -)(Pp_string\" is unfinished.\"))))))))'"
      ]
     },
     "execution_count": 84,
     "metadata": {},
     "output_type": "execute_result"
    }
   ],
   "source": [
    "s[loc]"
   ]
  },
  {
   "cell_type": "code",
   "execution_count": 85,
   "metadata": {},
   "outputs": [],
   "source": [
    "import serlib.parser"
   ]
  },
  {
   "cell_type": "code",
   "execution_count": 186,
   "metadata": {},
   "outputs": [],
   "source": [
    "import pycoq.query_goals"
   ]
  },
  {
   "cell_type": "code",
   "execution_count": 196,
   "metadata": {},
   "outputs": [],
   "source": [
    "sg = pycoq.query_goals.parse_serapi_goals(s)"
   ]
  },
  {
   "cell_type": "code",
   "execution_count": 200,
   "metadata": {},
   "outputs": [],
   "source": [
    "import json"
   ]
  },
  {
   "cell_type": "code",
   "execution_count": 213,
   "metadata": {},
   "outputs": [],
   "source": [
    "a = sg.to_json()"
   ]
  },
  {
   "cell_type": "code",
   "execution_count": 214,
   "metadata": {},
   "outputs": [
    {
     "data": {
      "text/plain": [
       "str"
      ]
     },
     "execution_count": 214,
     "metadata": {},
     "output_type": "execute_result"
    }
   ],
   "source": [
    "type(a)"
   ]
  },
  {
   "cell_type": "code",
   "execution_count": 215,
   "metadata": {},
   "outputs": [
    {
     "data": {
      "text/plain": [
       "4879"
      ]
     },
     "execution_count": 215,
     "metadata": {},
     "output_type": "execute_result"
    }
   ],
   "source": [
    "open(\"temp\",'w').write(a)"
   ]
  },
  {
   "cell_type": "code",
   "execution_count": 216,
   "metadata": {},
   "outputs": [
    {
     "data": {
      "text/plain": [
       "{'goals': [{'info': '((evar(Ser_Evar 32))(name()))',\n",
       "   'target': '(App(Ind(((MutInd(MPfile(DirPath((Id Logic)(Id Init)(Id Coq))))(Id eq))0)(Instance())))((Ind(((MutInd(MPfile(DirPath((Id TwoGoals)(Id LF))))(Id color))0)(Instance())))(Var(Id my_id))(Var(Id my_id))))',\n",
       "   'hyp': [{'ids': ['(Id my_id)'],\n",
       "     'define': '(Construct((((MutInd(MPfile(DirPath((Id TwoGoals)(Id LF))))(Id color))0)1)(Instance())))',\n",
       "     'typ': '(Ind(((MutInd(MPfile(DirPath((Id TwoGoals)(Id LF))))(Id color))0)(Instance())))'}]}],\n",
       " 'stack': [[[],\n",
       "   [{'info': '((evar(Ser_Evar 30))(name()))',\n",
       "     'target': '(App(Ind(((MutInd(MPfile(DirPath((Id Logic)(Id Init)(Id Coq))))(Id eq))0)(Instance())))((Ind(((MutInd(MPfile(DirPath((Id TwoGoals)(Id LF))))(Id bool))0)(Instance())))(Construct((((MutInd(MPfile(DirPath((Id TwoGoals)(Id LF))))(Id bool))0)1)(Instance())))(Construct((((MutInd(MPfile(DirPath((Id TwoGoals)(Id LF))))(Id bool))0)1)(Instance())))))',\n",
       "     'hyp': []}]],\n",
       "  [[],\n",
       "   [{'info': '((evar(Ser_Evar 24))(name()))',\n",
       "     'target': '(App(Ind(((MutInd(MPfile(DirPath((Id Logic)(Id Init)(Id Coq))))(Id and))0)(Instance())))((App(Ind(((MutInd(MPfile(DirPath((Id Logic)(Id Init)(Id Coq))))(Id eq))0)(Instance())))((Ind(((MutInd(MPfile(DirPath((Id TwoGoals)(Id LF))))(Id color))0)(Instance())))(App(Const((Constant(MPfile(DirPath((Id TwoGoals)(Id LF))))(Id shift))(Instance())))((App(Const((Constant(MPfile(DirPath((Id TwoGoals)(Id LF))))(Id shift))(Instance())))((App(Const((Constant(MPfile(DirPath((Id TwoGoals)(Id LF))))(Id shift))(Instance())))((Construct((((MutInd(MPfile(DirPath((Id TwoGoals)(Id LF))))(Id color))0)2)(Instance())))))))))(Construct((((MutInd(MPfile(DirPath((Id TwoGoals)(Id LF))))(Id color))0)2)(Instance())))))(App(Ind(((MutInd(MPfile(DirPath((Id Logic)(Id Init)(Id Coq))))(Id eq))0)(Instance())))((Ind(((MutInd(MPfile(DirPath((Id TwoGoals)(Id LF))))(Id bool))0)(Instance())))(App(Const((Constant(MPfile(DirPath((Id TwoGoals)(Id LF))))(Id negb))(Instance())))((App(Const((Constant(MPfile(DirPath((Id TwoGoals)(Id LF))))(Id negb))(Instance())))((Construct((((MutInd(MPfile(DirPath((Id TwoGoals)(Id LF))))(Id bool))0)1)(Instance())))))))(Construct((((MutInd(MPfile(DirPath((Id TwoGoals)(Id LF))))(Id bool))0)1)(Instance())))))))',\n",
       "     'hyp': []},\n",
       "    {'info': '((evar(Ser_Evar 25))(name()))',\n",
       "     'target': '(App(Ind(((MutInd(MPfile(DirPath((Id Logic)(Id Init)(Id Coq))))(Id and))0)(Instance())))((App(Ind(((MutInd(MPfile(DirPath((Id Logic)(Id Init)(Id Coq))))(Id eq))0)(Instance())))((Ind(((MutInd(MPfile(DirPath((Id TwoGoals)(Id LF))))(Id color))0)(Instance())))(App(Const((Constant(MPfile(DirPath((Id TwoGoals)(Id LF))))(Id shift))(Instance())))((App(Const((Constant(MPfile(DirPath((Id TwoGoals)(Id LF))))(Id shift))(Instance())))((App(Const((Constant(MPfile(DirPath((Id TwoGoals)(Id LF))))(Id shift))(Instance())))((Construct((((MutInd(MPfile(DirPath((Id TwoGoals)(Id LF))))(Id color))0)3)(Instance())))))))))(Construct((((MutInd(MPfile(DirPath((Id TwoGoals)(Id LF))))(Id color))0)3)(Instance())))))(App(Ind(((MutInd(MPfile(DirPath((Id Logic)(Id Init)(Id Coq))))(Id eq))0)(Instance())))((Ind(((MutInd(MPfile(DirPath((Id TwoGoals)(Id LF))))(Id bool))0)(Instance())))(App(Const((Constant(MPfile(DirPath((Id TwoGoals)(Id LF))))(Id negb))(Instance())))((App(Const((Constant(MPfile(DirPath((Id TwoGoals)(Id LF))))(Id negb))(Instance())))((Construct((((MutInd(MPfile(DirPath((Id TwoGoals)(Id LF))))(Id bool))0)1)(Instance())))))))(Construct((((MutInd(MPfile(DirPath((Id TwoGoals)(Id LF))))(Id bool))0)1)(Instance())))))))',\n",
       "     'hyp': []}]],\n",
       "  [[],\n",
       "   [{'info': '((evar(Ser_Evar 18))(name()))',\n",
       "     'target': '(App(Ind(((MutInd(MPfile(DirPath((Id Logic)(Id Init)(Id Coq))))(Id and))0)(Instance())))((App(Ind(((MutInd(MPfile(DirPath((Id Logic)(Id Init)(Id Coq))))(Id eq))0)(Instance())))((Ind(((MutInd(MPfile(DirPath((Id TwoGoals)(Id LF))))(Id color))0)(Instance())))(App(Const((Constant(MPfile(DirPath((Id TwoGoals)(Id LF))))(Id shift))(Instance())))((App(Const((Constant(MPfile(DirPath((Id TwoGoals)(Id LF))))(Id shift))(Instance())))((App(Const((Constant(MPfile(DirPath((Id TwoGoals)(Id LF))))(Id shift))(Instance())))((Var(Id x))))))))(Var(Id x))))(App(Ind(((MutInd(MPfile(DirPath((Id Logic)(Id Init)(Id Coq))))(Id eq))0)(Instance())))((Ind(((MutInd(MPfile(DirPath((Id TwoGoals)(Id LF))))(Id bool))0)(Instance())))(App(Const((Constant(MPfile(DirPath((Id TwoGoals)(Id LF))))(Id negb))(Instance())))((App(Const((Constant(MPfile(DirPath((Id TwoGoals)(Id LF))))(Id negb))(Instance())))((Construct((((MutInd(MPfile(DirPath((Id TwoGoals)(Id LF))))(Id bool))0)2)(Instance())))))))(Construct((((MutInd(MPfile(DirPath((Id TwoGoals)(Id LF))))(Id bool))0)2)(Instance())))))))',\n",
       "     'hyp': [{'ids': ['(Id x)'],\n",
       "       'define': None,\n",
       "       'typ': '(Ind(((MutInd(MPfile(DirPath((Id TwoGoals)(Id LF))))(Id color))0)(Instance())))'}]}]]],\n",
       " 'shelf': [],\n",
       " 'given_up': [],\n",
       " 'bullet': '((Pp_glue((Pp_string\"The current bullet \")(Pp_string -)(Pp_string\" is unfinished.\"))))'}"
      ]
     },
     "execution_count": 216,
     "metadata": {},
     "output_type": "execute_result"
    }
   ],
   "source": [
    "json.load(open(\"temp\"))"
   ]
  },
  {
   "cell_type": "code",
   "execution_count": null,
   "metadata": {},
   "outputs": [],
   "source": []
  }
 ],
 "metadata": {
  "kernelspec": {
   "display_name": "pycoq",
   "language": "python",
   "name": "pycoq"
  },
  "language_info": {
   "codemirror_mode": {
    "name": "ipython",
    "version": 3
   },
   "file_extension": ".py",
   "mimetype": "text/x-python",
   "name": "python",
   "nbconvert_exporter": "python",
   "pygments_lexer": "ipython3",
   "version": "3.8.2"
  }
 },
 "nbformat": 4,
 "nbformat_minor": 4
}
