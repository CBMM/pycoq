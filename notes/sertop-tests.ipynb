{
 "cells": [
  {
   "cell_type": "code",
   "execution_count": 5,
   "metadata": {},
   "outputs": [
    {
     "name": "stdout",
     "output_type": "stream",
     "text": [
      "The autoreload extension is already loaded. To reload it, use:\n",
      "  %reload_ext autoreload\n"
     ]
    }
   ],
   "source": [
    "%load_ext autoreload\n",
    "%autoreload 2\n",
    "import tqdm\n",
    "\n",
    "from pycoq.agent import evaluate_agent\n",
    "from pycoq.agent import evaluate_agent_in_session\n",
    "from pycoq.agent import auto_agent as agent\n",
    "\n",
    "import pycoq.serapi\n",
    "\n",
    "from typing import List, Iterable\n",
    "import asyncio\n",
    "\n",
    "import pymongo\n",
    "db =  pymongo.MongoClient().formulas.propositional.implication\n",
    "\n",
    "\n",
    "def evaluate(e, op, arg: List[bool]):\n",
    "    '''\n",
    "    Boolean stack evaluator\n",
    "    e: is binary tree expression in stack form\n",
    "    arg: is the list of boolean values\n",
    "    op: (bool, bool) -> bool binary operator in the tree nodes\n",
    "    '''\n",
    "    stack = []\n",
    "    pos = 0\n",
    "    while pos < len(e):\n",
    "        c = e[pos]; pos += 1  # read element from expression postfix\n",
    "        if c > 0 and c <= len(arg): # normal argument, place on stack\n",
    "            stack.append(arg[c-1])\n",
    "        elif c == -2:    # binary operator\n",
    "            if len(stack) >= 2:\n",
    "                a = stack.pop()\n",
    "                b = stack.pop()\n",
    "                res = op(b, a)\n",
    "                stack.append(res)\n",
    "            else:\n",
    "                raise ValueError(\"bad postfix: not enough args for binary operator\")\n",
    "        else:\n",
    "            raise ValueError(\"bad postfix: unknown element code\")\n",
    "    if len(stack) == 1:\n",
    "        return stack.pop()\n",
    "    else:\n",
    "        raise ValueError(\"bad postfix, too many args for binary operators\")\n",
    "\n",
    "        \n",
    "\n",
    "def sexp_op(a, b):\n",
    "    #arrow = \"\\u2192\"\n",
    "    arrow = \"->\"\n",
    "    return f\"({a}{arrow}{b})\"\n",
    "\n",
    "def imply(a: bool, b: bool):\n",
    "    return (not a) or b\n",
    "\n",
    "def sexp(e): \n",
    "    return evaluate(e, sexp_op, [chr(ord('A')+i) for i in range(max(e))])\n",
    "\n",
    "def coq_proposition(postfix, n_args, n_vars, lex_pos) -> str:\n",
    "    theorem_name = f\"th_{n_args}_{n_vars}_{lex_pos}\"\n",
    "    prop_formula = sexp(postfix)\n",
    "    prop_variables = \" \".join([chr(ord('A')+i) for i in range(n_vars)])\n",
    "    return f\"Theorem {theorem_name}: forall {prop_variables}: Prop, {prop_formula}.\"\n",
    "\n",
    "# mark by * where bool_denote judgement of proposition does not agree with type inhabitation judgement \n",
    "\n"
   ]
  },
  {
   "cell_type": "code",
   "execution_count": 6,
   "metadata": {},
   "outputs": [
    {
     "name": "stdout",
     "output_type": "stream",
     "text": [
      " Theorem th_4_2_0: forall A B: Prop, (A->(A->(A->B))). -1 False\n",
      " Theorem th_4_2_1: forall A B: Prop, (A->(A->(B->A))). 1 True\n",
      " Theorem th_4_2_2: forall A B: Prop, (A->(A->(B->B))). 1 True\n",
      " Theorem th_4_2_3: forall A B: Prop, (A->(B->(A->A))). 1 True\n",
      " Theorem th_4_2_4: forall A B: Prop, (A->(B->(A->B))). 1 True\n",
      " Theorem th_4_2_5: forall A B: Prop, (A->(B->(B->A))). 1 True\n",
      " Theorem th_4_2_6: forall A B: Prop, (A->(B->(B->B))). 1 True\n",
      " Theorem th_4_2_7: forall A B: Prop, (A->((A->A)->B)). -1 False\n",
      " Theorem th_4_2_8: forall A B: Prop, (A->((A->B)->A)). 1 True\n",
      " Theorem th_4_2_9: forall A B: Prop, (A->((A->B)->B)). 2 True\n",
      " Theorem th_4_2_10: forall A B: Prop, (A->((B->A)->A)). 1 True\n",
      " Theorem th_4_2_11: forall A B: Prop, (A->((B->A)->B)). -1 False\n",
      " Theorem th_4_2_12: forall A B: Prop, (A->((B->B)->A)). 1 True\n",
      " Theorem th_4_2_13: forall A B: Prop, (A->((B->B)->B)). -1 False\n",
      " Theorem th_4_2_14: forall A B: Prop, ((A->A)->(A->B)). -1 False\n",
      " Theorem th_4_2_15: forall A B: Prop, ((A->A)->(B->A)). -1 False\n",
      " Theorem th_4_2_16: forall A B: Prop, ((A->A)->(B->B)). 1 True\n",
      " Theorem th_4_2_17: forall A B: Prop, ((A->B)->(A->A)). 1 True\n",
      " Theorem th_4_2_18: forall A B: Prop, ((A->B)->(A->B)). 1 True\n",
      " Theorem th_4_2_19: forall A B: Prop, ((A->B)->(B->A)). -1 False\n",
      " Theorem th_4_2_20: forall A B: Prop, ((A->B)->(B->B)). 1 True\n",
      " Theorem th_4_2_21: forall A B: Prop, ((A->(A->A))->B). -1 False\n",
      " Theorem th_4_2_22: forall A B: Prop, ((A->(A->B))->A). -1 False\n",
      " Theorem th_4_2_23: forall A B: Prop, ((A->(A->B))->B). -1 False\n",
      " Theorem th_4_2_24: forall A B: Prop, ((A->(B->A))->A). -1 False\n",
      " Theorem th_4_2_25: forall A B: Prop, ((A->(B->A))->B). -1 False\n",
      " Theorem th_4_2_26: forall A B: Prop, ((A->(B->B))->A). -1 False\n",
      " Theorem th_4_2_27: forall A B: Prop, ((A->(B->B))->B). -1 False\n",
      " Theorem th_4_2_28: forall A B: Prop, (((A->A)->A)->B). -1 False\n",
      " Theorem th_4_2_29: forall A B: Prop, (((A->A)->B)->A). -1 False\n",
      " Theorem th_4_2_30: forall A B: Prop, (((A->A)->B)->B). 2 True\n",
      "* Theorem th_4_2_31: forall A B: Prop, (((A->B)->A)->A). -1 True\n",
      " Theorem th_4_2_32: forall A B: Prop, (((A->B)->A)->B). -1 False\n",
      " Theorem th_4_2_33: forall A B: Prop, (((A->B)->B)->A). -1 False\n",
      " Theorem th_4_2_34: forall A B: Prop, (((A->B)->B)->B). -1 False\n"
     ]
    }
   ],
   "source": [
    "cfg = pycoq.common.serapi_kernel_config()\n",
    "\n",
    "n_args = 4\n",
    "n_vars = 2\n",
    "\n",
    "pycoq.agent.DEBUG = False\n",
    "for e in db.find({'n_args':n_args, 'n_vars':n_vars}):\n",
    "    th = coq_proposition(e['postfix'], n_args, n_vars, e['lex_pos'])\n",
    "    res = await evaluate_agent(cfg, agent, th, agent_parameters = {'auto_limit': 10})\n",
    "    print( '*' if e['bool_denote'] != (res > 0) else '', th, res, e['bool_denote'])"
   ]
  },
  {
   "cell_type": "code",
   "execution_count": 7,
   "metadata": {},
   "outputs": [
    {
     "name": "stderr",
     "output_type": "stream",
     "text": [
      "22it [00:00,  5.16it/s]"
     ]
    },
    {
     "name": "stdout",
     "output_type": "stream",
     "text": [
      " Theorem th_4_2_0: forall A B: Prop, (A->(A->(A->B))). -1 False\n",
      " Theorem th_4_2_1: forall A B: Prop, (A->(A->(B->A))). 1 True\n",
      " Theorem th_4_2_2: forall A B: Prop, (A->(A->(B->B))). 1 True\n",
      " Theorem th_4_2_3: forall A B: Prop, (A->(B->(A->A))). 1 True\n",
      " Theorem th_4_2_4: forall A B: Prop, (A->(B->(A->B))). 1 True\n",
      " Theorem th_4_2_5: forall A B: Prop, (A->(B->(B->A))). 1 True\n",
      " Theorem th_4_2_6: forall A B: Prop, (A->(B->(B->B))). 1 True\n",
      " Theorem th_4_2_7: forall A B: Prop, (A->((A->A)->B)). -1 False\n",
      " Theorem th_4_2_8: forall A B: Prop, (A->((A->B)->A)). 1 True\n",
      " Theorem th_4_2_9: forall A B: Prop, (A->((A->B)->B)). 2 True\n",
      " Theorem th_4_2_10: forall A B: Prop, (A->((B->A)->A)). 1 True\n",
      " Theorem th_4_2_11: forall A B: Prop, (A->((B->A)->B)). -1 False\n",
      " Theorem th_4_2_12: forall A B: Prop, (A->((B->B)->A)). 1 True\n",
      " Theorem th_4_2_13: forall A B: Prop, (A->((B->B)->B)). -1 False\n",
      " Theorem th_4_2_14: forall A B: Prop, ((A->A)->(A->B)). -1 False\n",
      " Theorem th_4_2_15: forall A B: Prop, ((A->A)->(B->A)). -1 False\n",
      " Theorem th_4_2_16: forall A B: Prop, ((A->A)->(B->B)). 1 True\n",
      " Theorem th_4_2_17: forall A B: Prop, ((A->B)->(A->A)). 1 True\n",
      " Theorem th_4_2_18: forall A B: Prop, ((A->B)->(A->B)). 1 True\n",
      " Theorem th_4_2_19: forall A B: Prop, ((A->B)->(B->A)). -1 False\n",
      " Theorem th_4_2_20: forall A B: Prop, ((A->B)->(B->B)). 1 True\n",
      " Theorem th_4_2_21: forall A B: Prop, ((A->(A->A))->B). -1 False\n",
      " Theorem th_4_2_22: forall A B: Prop, ((A->(A->B))->A). -1 False\n",
      " Theorem th_4_2_23: forall A B: Prop, ((A->(A->B))->B). -1 False\n",
      " Theorem th_4_2_24: forall A B: Prop, ((A->(B->A))->A). -1 False\n",
      " Theorem th_4_2_25: forall A B: Prop, ((A->(B->A))->B). -1 False\n",
      " Theorem th_4_2_26: forall A B: Prop, ((A->(B->B))->A). -1 False\n",
      " Theorem th_4_2_27: forall A B: Prop, ((A->(B->B))->B). -1 False\n",
      " Theorem th_4_2_28: forall A B: Prop, (((A->A)->A)->B). -1 False\n",
      " Theorem th_4_2_29: forall A B: Prop, (((A->A)->B)->A). -1 False\n",
      " Theorem th_4_2_30: forall A B: Prop, (((A->A)->B)->B). 2 True\n",
      "* Theorem th_4_2_31: forall A B: Prop, (((A->B)->A)->A). -1 True\n"
     ]
    },
    {
     "name": "stderr",
     "output_type": "stream",
     "text": [
      "35it [00:00, 66.96it/s]"
     ]
    },
    {
     "name": "stdout",
     "output_type": "stream",
     "text": [
      " Theorem th_4_2_32: forall A B: Prop, (((A->B)->A)->B). -1 False\n",
      " Theorem th_4_2_33: forall A B: Prop, (((A->B)->B)->A). -1 False\n",
      " Theorem th_4_2_34: forall A B: Prop, (((A->B)->B)->B). -1 False\n"
     ]
    },
    {
     "name": "stderr",
     "output_type": "stream",
     "text": [
      "\n"
     ]
    }
   ],
   "source": [
    "cfg = pycoq.common.serapi_kernel_config()\n",
    "\n",
    "n_args = 4\n",
    "n_vars = 2\n",
    "\n",
    "\n",
    "pycoq.agent.DEBUG = False\n",
    "\n",
    "async with pycoq.serapi.CoqSerapi(cfg, logfname=\"logtemp\") as coq:\n",
    "    for e in tqdm.tqdm(db.find({'n_args':n_args, 'n_vars':n_vars})):\n",
    "        prop = coq_proposition(e['postfix'], n_args, n_vars, e['lex_pos'])\n",
    "        res = await evaluate_agent_in_session(coq, agent, prop, agent_parameters = {'auto_limit': 10})\n",
    "        print( '*' if e['bool_denote'] != (res > 0) else '', prop, res, e['bool_denote'])"
   ]
  },
  {
   "cell_type": "code",
   "execution_count": 8,
   "metadata": {},
   "outputs": [
    {
     "name": "stderr",
     "output_type": "stream",
     "text": [
      "100%|██████████| 10000/10000 [00:15<00:00, 626.19it/s]\n"
     ]
    }
   ],
   "source": [
    "import tqdm\n",
    "from serlib.parser import SExpParser\n",
    "async with pycoq.serapi.CoqSerapi(cfg, logfname=\"logtemp\") as coq:\n",
    "    parser = SExpParser()\n",
    "\n",
    "    for cnt in tqdm.tqdm(range(10000)):\n",
    "        result = await coq.execute(f\"Theorem th_{cnt}: forall A: Prop, A->A. auto. Qed. \\n\")\n",
    "\n",
    "        if (len(result[2]) > 0):\n",
    "            break\n",
    "\n",
    "        last_sids = result[-1]\n",
    "\n"
   ]
  },
  {
   "cell_type": "code",
   "execution_count": 9,
   "metadata": {},
   "outputs": [
    {
     "data": {
      "text/plain": [
       "['(Feedback((doc_id 0)(span_id 30000)(route 0)(contents Processed)))\\n',\n",
       " '(Answer 39998 Completed)\\n',\n",
       " '(Answer 39999 Ack)\\n',\n",
       " '(Feedback((doc_id 0)(span_id 30001)(route 0)(contents(ProcessingIn master))))\\n',\n",
       " '(Feedback((doc_id 0)(span_id 30000)(route 0)(contents Processed)))\\n',\n",
       " '(Feedback((doc_id 0)(span_id 29999)(route 0)(contents Processed)))\\n',\n",
       " '(Feedback((doc_id 0)(span_id 30001)(route 0)(contents Processed)))\\n',\n",
       " '(Answer 39999 Completed)\\n',\n",
       " '(Answer EOF Ack)\\n',\n",
       " '(Answer EOF Completed)\\n']"
      ]
     },
     "execution_count": 9,
     "metadata": {},
     "output_type": "execute_result"
    }
   ],
   "source": [
    "import json\n",
    "with open(\"logtemp\") as logfile:\n",
    "    j = json.load(logfile)\n",
    "\n",
    "j['response'][-10:]"
   ]
  },
  {
   "cell_type": "code",
   "execution_count": 10,
   "metadata": {},
   "outputs": [],
   "source": [
    "with open(\"test.in\",\"w\") as f:\n",
    "    f.writelines(x + \"\\n\" for x in j['sent'])"
   ]
  },
  {
   "cell_type": "code",
   "execution_count": 11,
   "metadata": {},
   "outputs": [
    {
     "data": {
      "text/plain": [
       "['(Exec 29994)',\n",
       " '(Exec 29995)',\n",
       " '(Add () \"Theorem th_9998: forall A: Prop, A->A. auto. Qed. \\n\")',\n",
       " '(Exec 29996)',\n",
       " '(Exec 29997)',\n",
       " '(Exec 29998)',\n",
       " '(Add () \"Theorem th_9999: forall A: Prop, A->A. auto. Qed. \\n\")',\n",
       " '(Exec 29999)',\n",
       " '(Exec 30000)',\n",
       " '(Exec 30001)']"
      ]
     },
     "execution_count": 11,
     "metadata": {},
     "output_type": "execute_result"
    }
   ],
   "source": [
    "j['sent'][-10:]"
   ]
  },
  {
   "cell_type": "code",
   "execution_count": 12,
   "metadata": {},
   "outputs": [
    {
     "data": {
      "text/plain": [
       "[]"
      ]
     },
     "execution_count": 12,
     "metadata": {},
     "output_type": "execute_result"
    }
   ],
   "source": [
    "j['stderr'][-100:]"
   ]
  },
  {
   "cell_type": "code",
   "execution_count": 52,
   "metadata": {},
   "outputs": [],
   "source": [
    "with open('test130k.v','w') as f:\n",
    "    for cnt in range(130000):\n",
    "        f.write(f\"Theorem th_{cnt}: forall A: Prop, A->A. auto. Qed. \\n\")\n"
   ]
  },
  {
   "cell_type": "code",
   "execution_count": 60,
   "metadata": {},
   "outputs": [],
   "source": [
    "with open('test400000.v','w') as f:\n",
    "    for cnt in range(400000):\n",
    "        f.write(f\"Theorem th_{cnt}: forall A: Prop, A->A. auto. Qed. \\n\")\n"
   ]
  }
 ],
 "metadata": {
  "kernelspec": {
   "display_name": "pycoq1",
   "language": "python",
   "name": "pycoq1"
  },
  "language_info": {
   "codemirror_mode": {
    "name": "ipython",
    "version": 3
   },
   "file_extension": ".py",
   "mimetype": "text/x-python",
   "name": "python",
   "nbconvert_exporter": "python",
   "pygments_lexer": "ipython3",
   "version": "3.8.2"
  }
 },
 "nbformat": 4,
 "nbformat_minor": 4
}
